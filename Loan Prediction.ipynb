{
 "cells": [
  {
   "cell_type": "markdown",
   "metadata": {},
   "source": [
    "## IMPORT LIBRARIES"
   ]
  },
  {
   "cell_type": "code",
   "execution_count": 1,
   "metadata": {
    "ExecuteTime": {
     "end_time": "2021-05-09T05:26:24.940936Z",
     "start_time": "2021-05-09T05:25:32.719550Z"
    }
   },
   "outputs": [],
   "source": [
    "import pandas as pd\n",
    "import numpy as np\n",
    "import matplotlib.pyplot as plt\n",
    "import seaborn as sns\n",
    "\n",
    "import sklearn\n",
    "from sklearn.preprocessing import LabelEncoder\n",
    "from sklearn.preprocessing import OneHotEncoder\n",
    "from sklearn.preprocessing import MinMaxScaler\n",
    "from imblearn.combine import SMOTETomek\n",
    "from sklearn.model_selection import GridSearchCV\n",
    "\n",
    "#Model Validation\n",
    "from sklearn.model_selection import train_test_split\n",
    "from sklearn.model_selection import KFold\n",
    "\n",
    "#Model Building\n",
    "from sklearn.ensemble import AdaBoostClassifier\n",
    "from sklearn.ensemble import RandomForestClassifier\n",
    "from sklearn.ensemble import BaggingClassifier\n",
    "from sklearn.tree import DecisionTreeClassifier\n",
    "from sklearn.ensemble import VotingClassifier\n",
    "from sklearn.svm import SVC\n",
    "from sklearn.linear_model import LogisticRegression\n",
    "from xgboost import XGBClassifier\n",
    "import lightgbm as lgb\n",
    "from sklearn.neighbors import KNeighborsClassifier\n",
    "from sklearn.naive_bayes import GaussianNB\n",
    "from sklearn.ensemble import GradientBoostingClassifier\n",
    "\n",
    "#Model Accuracy\n",
    "from sklearn.metrics import accuracy_score\n",
    "from sklearn.model_selection import cross_val_score"
   ]
  },
  {
   "cell_type": "markdown",
   "metadata": {},
   "source": [
    "### Fetch Data"
   ]
  },
  {
   "cell_type": "code",
   "execution_count": 3,
   "metadata": {
    "ExecuteTime": {
     "end_time": "2021-05-09T05:27:21.308657Z",
     "start_time": "2021-05-09T05:27:21.202602Z"
    }
   },
   "outputs": [],
   "source": [
    "train = pd.read_csv(r\"train.csv\")\n",
    "test = pd.read_csv(r\"test.csv\")"
   ]
  },
  {
   "cell_type": "code",
   "execution_count": 3,
   "metadata": {
    "ExecuteTime": {
     "end_time": "2021-05-09T05:27:28.386884Z",
     "start_time": "2021-05-09T05:27:28.365724Z"
    }
   },
   "outputs": [],
   "source": [
    "train_original = train.copy()\n",
    "test_original = test.copy()"
   ]
  },
  {
   "cell_type": "code",
   "execution_count": 4,
   "metadata": {
    "ExecuteTime": {
     "end_time": "2021-05-09T05:27:34.256002Z",
     "start_time": "2021-05-09T05:27:34.173810Z"
    },
    "scrolled": false
   },
   "outputs": [
    {
     "data": {
      "text/html": [
       "<div>\n",
       "<style scoped>\n",
       "    .dataframe tbody tr th:only-of-type {\n",
       "        vertical-align: middle;\n",
       "    }\n",
       "\n",
       "    .dataframe tbody tr th {\n",
       "        vertical-align: top;\n",
       "    }\n",
       "\n",
       "    .dataframe thead th {\n",
       "        text-align: right;\n",
       "    }\n",
       "</style>\n",
       "<table border=\"1\" class=\"dataframe\">\n",
       "  <thead>\n",
       "    <tr style=\"text-align: right;\">\n",
       "      <th></th>\n",
       "      <th>Loan_ID</th>\n",
       "      <th>Gender</th>\n",
       "      <th>Married</th>\n",
       "      <th>Dependents</th>\n",
       "      <th>Education</th>\n",
       "      <th>Self_Employed</th>\n",
       "      <th>ApplicantIncome</th>\n",
       "      <th>CoapplicantIncome</th>\n",
       "      <th>LoanAmount</th>\n",
       "      <th>Loan_Amount_Term</th>\n",
       "      <th>Credit_History</th>\n",
       "      <th>Property_Area</th>\n",
       "      <th>Loan_Status</th>\n",
       "    </tr>\n",
       "  </thead>\n",
       "  <tbody>\n",
       "    <tr>\n",
       "      <th>0</th>\n",
       "      <td>LP001002</td>\n",
       "      <td>Male</td>\n",
       "      <td>No</td>\n",
       "      <td>0</td>\n",
       "      <td>Graduate</td>\n",
       "      <td>No</td>\n",
       "      <td>5849</td>\n",
       "      <td>0.0</td>\n",
       "      <td>NaN</td>\n",
       "      <td>360.0</td>\n",
       "      <td>1.0</td>\n",
       "      <td>Urban</td>\n",
       "      <td>Y</td>\n",
       "    </tr>\n",
       "    <tr>\n",
       "      <th>1</th>\n",
       "      <td>LP001003</td>\n",
       "      <td>Male</td>\n",
       "      <td>Yes</td>\n",
       "      <td>1</td>\n",
       "      <td>Graduate</td>\n",
       "      <td>No</td>\n",
       "      <td>4583</td>\n",
       "      <td>1508.0</td>\n",
       "      <td>128.0</td>\n",
       "      <td>360.0</td>\n",
       "      <td>1.0</td>\n",
       "      <td>Rural</td>\n",
       "      <td>N</td>\n",
       "    </tr>\n",
       "    <tr>\n",
       "      <th>2</th>\n",
       "      <td>LP001005</td>\n",
       "      <td>Male</td>\n",
       "      <td>Yes</td>\n",
       "      <td>0</td>\n",
       "      <td>Graduate</td>\n",
       "      <td>Yes</td>\n",
       "      <td>3000</td>\n",
       "      <td>0.0</td>\n",
       "      <td>66.0</td>\n",
       "      <td>360.0</td>\n",
       "      <td>1.0</td>\n",
       "      <td>Urban</td>\n",
       "      <td>Y</td>\n",
       "    </tr>\n",
       "    <tr>\n",
       "      <th>3</th>\n",
       "      <td>LP001006</td>\n",
       "      <td>Male</td>\n",
       "      <td>Yes</td>\n",
       "      <td>0</td>\n",
       "      <td>Not Graduate</td>\n",
       "      <td>No</td>\n",
       "      <td>2583</td>\n",
       "      <td>2358.0</td>\n",
       "      <td>120.0</td>\n",
       "      <td>360.0</td>\n",
       "      <td>1.0</td>\n",
       "      <td>Urban</td>\n",
       "      <td>Y</td>\n",
       "    </tr>\n",
       "    <tr>\n",
       "      <th>4</th>\n",
       "      <td>LP001008</td>\n",
       "      <td>Male</td>\n",
       "      <td>No</td>\n",
       "      <td>0</td>\n",
       "      <td>Graduate</td>\n",
       "      <td>No</td>\n",
       "      <td>6000</td>\n",
       "      <td>0.0</td>\n",
       "      <td>141.0</td>\n",
       "      <td>360.0</td>\n",
       "      <td>1.0</td>\n",
       "      <td>Urban</td>\n",
       "      <td>Y</td>\n",
       "    </tr>\n",
       "  </tbody>\n",
       "</table>\n",
       "</div>"
      ],
      "text/plain": [
       "    Loan_ID Gender Married Dependents     Education Self_Employed  \\\n",
       "0  LP001002   Male      No          0      Graduate            No   \n",
       "1  LP001003   Male     Yes          1      Graduate            No   \n",
       "2  LP001005   Male     Yes          0      Graduate           Yes   \n",
       "3  LP001006   Male     Yes          0  Not Graduate            No   \n",
       "4  LP001008   Male      No          0      Graduate            No   \n",
       "\n",
       "   ApplicantIncome  CoapplicantIncome  LoanAmount  Loan_Amount_Term  \\\n",
       "0             5849                0.0         NaN             360.0   \n",
       "1             4583             1508.0       128.0             360.0   \n",
       "2             3000                0.0        66.0             360.0   \n",
       "3             2583             2358.0       120.0             360.0   \n",
       "4             6000                0.0       141.0             360.0   \n",
       "\n",
       "   Credit_History Property_Area Loan_Status  \n",
       "0             1.0         Urban           Y  \n",
       "1             1.0         Rural           N  \n",
       "2             1.0         Urban           Y  \n",
       "3             1.0         Urban           Y  \n",
       "4             1.0         Urban           Y  "
      ]
     },
     "execution_count": 4,
     "metadata": {},
     "output_type": "execute_result"
    }
   ],
   "source": [
    "train.head()"
   ]
  },
  {
   "cell_type": "code",
   "execution_count": 5,
   "metadata": {
    "ExecuteTime": {
     "end_time": "2021-05-09T06:22:14.861855Z",
     "start_time": "2021-05-09T06:22:14.805708Z"
    }
   },
   "outputs": [
    {
     "data": {
      "text/html": [
       "<div>\n",
       "<style scoped>\n",
       "    .dataframe tbody tr th:only-of-type {\n",
       "        vertical-align: middle;\n",
       "    }\n",
       "\n",
       "    .dataframe tbody tr th {\n",
       "        vertical-align: top;\n",
       "    }\n",
       "\n",
       "    .dataframe thead th {\n",
       "        text-align: right;\n",
       "    }\n",
       "</style>\n",
       "<table border=\"1\" class=\"dataframe\">\n",
       "  <thead>\n",
       "    <tr style=\"text-align: right;\">\n",
       "      <th></th>\n",
       "      <th>ApplicantIncome</th>\n",
       "      <th>CoapplicantIncome</th>\n",
       "      <th>LoanAmount</th>\n",
       "      <th>Loan_Amount_Term</th>\n",
       "      <th>Credit_History</th>\n",
       "    </tr>\n",
       "  </thead>\n",
       "  <tbody>\n",
       "    <tr>\n",
       "      <th>count</th>\n",
       "      <td>614.000000</td>\n",
       "      <td>614.000000</td>\n",
       "      <td>592.000000</td>\n",
       "      <td>600.00000</td>\n",
       "      <td>564.000000</td>\n",
       "    </tr>\n",
       "    <tr>\n",
       "      <th>mean</th>\n",
       "      <td>5403.459283</td>\n",
       "      <td>1621.245798</td>\n",
       "      <td>146.412162</td>\n",
       "      <td>342.00000</td>\n",
       "      <td>0.842199</td>\n",
       "    </tr>\n",
       "    <tr>\n",
       "      <th>std</th>\n",
       "      <td>6109.041673</td>\n",
       "      <td>2926.248369</td>\n",
       "      <td>85.587325</td>\n",
       "      <td>65.12041</td>\n",
       "      <td>0.364878</td>\n",
       "    </tr>\n",
       "    <tr>\n",
       "      <th>min</th>\n",
       "      <td>150.000000</td>\n",
       "      <td>0.000000</td>\n",
       "      <td>9.000000</td>\n",
       "      <td>12.00000</td>\n",
       "      <td>0.000000</td>\n",
       "    </tr>\n",
       "    <tr>\n",
       "      <th>25%</th>\n",
       "      <td>2877.500000</td>\n",
       "      <td>0.000000</td>\n",
       "      <td>100.000000</td>\n",
       "      <td>360.00000</td>\n",
       "      <td>1.000000</td>\n",
       "    </tr>\n",
       "    <tr>\n",
       "      <th>50%</th>\n",
       "      <td>3812.500000</td>\n",
       "      <td>1188.500000</td>\n",
       "      <td>128.000000</td>\n",
       "      <td>360.00000</td>\n",
       "      <td>1.000000</td>\n",
       "    </tr>\n",
       "    <tr>\n",
       "      <th>75%</th>\n",
       "      <td>5795.000000</td>\n",
       "      <td>2297.250000</td>\n",
       "      <td>168.000000</td>\n",
       "      <td>360.00000</td>\n",
       "      <td>1.000000</td>\n",
       "    </tr>\n",
       "    <tr>\n",
       "      <th>max</th>\n",
       "      <td>81000.000000</td>\n",
       "      <td>41667.000000</td>\n",
       "      <td>700.000000</td>\n",
       "      <td>480.00000</td>\n",
       "      <td>1.000000</td>\n",
       "    </tr>\n",
       "  </tbody>\n",
       "</table>\n",
       "</div>"
      ],
      "text/plain": [
       "       ApplicantIncome  CoapplicantIncome  LoanAmount  Loan_Amount_Term  \\\n",
       "count       614.000000         614.000000  592.000000         600.00000   \n",
       "mean       5403.459283        1621.245798  146.412162         342.00000   \n",
       "std        6109.041673        2926.248369   85.587325          65.12041   \n",
       "min         150.000000           0.000000    9.000000          12.00000   \n",
       "25%        2877.500000           0.000000  100.000000         360.00000   \n",
       "50%        3812.500000        1188.500000  128.000000         360.00000   \n",
       "75%        5795.000000        2297.250000  168.000000         360.00000   \n",
       "max       81000.000000       41667.000000  700.000000         480.00000   \n",
       "\n",
       "       Credit_History  \n",
       "count      564.000000  \n",
       "mean         0.842199  \n",
       "std          0.364878  \n",
       "min          0.000000  \n",
       "25%          1.000000  \n",
       "50%          1.000000  \n",
       "75%          1.000000  \n",
       "max          1.000000  "
      ]
     },
     "execution_count": 5,
     "metadata": {},
     "output_type": "execute_result"
    }
   ],
   "source": [
    "train.describe()"
   ]
  },
  {
   "cell_type": "code",
   "execution_count": 6,
   "metadata": {
    "ExecuteTime": {
     "end_time": "2021-05-09T06:21:57.521028Z",
     "start_time": "2021-05-09T06:21:57.494647Z"
    },
    "scrolled": true
   },
   "outputs": [
    {
     "data": {
      "text/plain": [
       "360.0    512\n",
       "180.0     44\n",
       "480.0     15\n",
       "300.0     13\n",
       "84.0       4\n",
       "240.0      4\n",
       "120.0      3\n",
       "36.0       2\n",
       "60.0       2\n",
       "12.0       1\n",
       "Name: Loan_Amount_Term, dtype: int64"
      ]
     },
     "execution_count": 6,
     "metadata": {},
     "output_type": "execute_result"
    }
   ],
   "source": [
    "train.Loan_Amount_Term.value_counts()"
   ]
  },
  {
   "cell_type": "code",
   "execution_count": 7,
   "metadata": {
    "ExecuteTime": {
     "end_time": "2021-05-09T06:23:36.008672Z",
     "start_time": "2021-05-09T06:23:35.977075Z"
    }
   },
   "outputs": [
    {
     "data": {
      "text/plain": [
       "120.0    20\n",
       "110.0    17\n",
       "100.0    15\n",
       "187.0    12\n",
       "160.0    12\n",
       "         ..\n",
       "570.0     1\n",
       "300.0     1\n",
       "376.0     1\n",
       "117.0     1\n",
       "311.0     1\n",
       "Name: LoanAmount, Length: 203, dtype: int64"
      ]
     },
     "execution_count": 7,
     "metadata": {},
     "output_type": "execute_result"
    }
   ],
   "source": [
    "train.LoanAmount.value_counts()"
   ]
  },
  {
   "cell_type": "code",
   "execution_count": 8,
   "metadata": {
    "ExecuteTime": {
     "end_time": "2021-05-09T05:27:35.076573Z",
     "start_time": "2021-05-09T05:27:35.064604Z"
    }
   },
   "outputs": [
    {
     "data": {
      "text/plain": [
       "(614, 13)"
      ]
     },
     "execution_count": 8,
     "metadata": {},
     "output_type": "execute_result"
    }
   ],
   "source": [
    "train.shape"
   ]
  },
  {
   "cell_type": "markdown",
   "metadata": {},
   "source": [
    "## Data Visualization"
   ]
  },
  {
   "cell_type": "markdown",
   "metadata": {},
   "source": [
    "### 1. Univariate Analysis"
   ]
  },
  {
   "cell_type": "code",
   "execution_count": 9,
   "metadata": {
    "ExecuteTime": {
     "end_time": "2021-05-09T05:27:59.579607Z",
     "start_time": "2021-05-09T05:27:57.766699Z"
    }
   },
   "outputs": [
    {
     "data": {
      "text/plain": [
       "<AxesSubplot:xlabel='Property_Area', ylabel='count'>"
      ]
     },
     "execution_count": 9,
     "metadata": {},
     "output_type": "execute_result"
    },
    {
     "data": {
      "image/png": "[encoded data removed]",
      "text/plain": [
       "<Figure size 1440x1080 with 6 Axes>"
      ]
     },
     "metadata": {
      "needs_background": "light"
     },
     "output_type": "display_data"
    }
   ],
   "source": [
    "import warnings\n",
    "warnings.filterwarnings('ignore')\n",
    "fig, axes = plt.subplots(3,2, figsize=(20, 15))\n",
    "fig.suptitle('Univariate Analysis',fontsize=20)\n",
    "sns.countplot(x='Gender',data=train,ax=axes[0,0],color='red')\n",
    "sns.countplot(x='Married',data=train,ax=axes[0,1],color='green')\n",
    "sns.countplot(x='Dependents',data=train,ax=axes[1,0],color='red')\n",
    "sns.countplot(x='Education',data=train,ax=axes[1,1],color='green')\n",
    "sns.countplot(x='Self_Employed',data=train,ax=axes[2,0],color='red')\n",
    "sns.countplot(x='Property_Area',data=train,ax=axes[2,1],color='green')"
   ]
  },
  {
   "cell_type": "code",
   "execution_count": 10,
   "metadata": {
    "ExecuteTime": {
     "end_time": "2021-05-09T05:28:44.441877Z",
     "start_time": "2021-05-09T05:28:42.798637Z"
    }
   },
   "outputs": [
    {
     "data": {
      "text/plain": [
       "<AxesSubplot:xlabel='Loan_Amount_Term', ylabel='Density'>"
      ]
     },
     "execution_count": 10,
     "metadata": {},
     "output_type": "execute_result"
    },
    {
     "data": {
      "image/png": "[encoded data removed]",
      "text/plain": [
       "<Figure size 1440x1080 with 4 Axes>"
      ]
     },
     "metadata": {
      "needs_background": "light"
     },
     "output_type": "display_data"
    }
   ],
   "source": [
    "import warnings\n",
    "warnings.filterwarnings('ignore')\n",
    "fig, axes = plt.subplots(2,2, figsize=(20, 15))\n",
    "fig.suptitle('Univariate Analysis',fontsize=20)\n",
    "sns.distplot(train['ApplicantIncome'],ax=axes[0,0],color='red')\n",
    "sns.distplot(train['CoapplicantIncome'],ax=axes[0,1],color='green')\n",
    "sns.distplot(train['LoanAmount'],ax=axes[1,0],color='red')\n",
    "sns.distplot(train['Loan_Amount_Term'],ax=axes[1,1],color='green')"
   ]
  },
  {
   "cell_type": "code",
   "execution_count": 11,
   "metadata": {
    "ExecuteTime": {
     "end_time": "2021-05-09T05:28:46.876110Z",
     "start_time": "2021-05-09T05:28:46.850697Z"
    }
   },
   "outputs": [
    {
     "data": {
      "text/plain": [
       "Loan_ID               object\n",
       "Gender                object\n",
       "Married               object\n",
       "Dependents            object\n",
       "Education             object\n",
       "Self_Employed         object\n",
       "ApplicantIncome        int64\n",
       "CoapplicantIncome    float64\n",
       "LoanAmount           float64\n",
       "Loan_Amount_Term     float64\n",
       "Credit_History       float64\n",
       "Property_Area         object\n",
       "Loan_Status           object\n",
       "dtype: object"
      ]
     },
     "execution_count": 11,
     "metadata": {},
     "output_type": "execute_result"
    }
   ],
   "source": [
    "train.dtypes"
   ]
  },
  {
   "cell_type": "code",
   "execution_count": 12,
   "metadata": {
    "ExecuteTime": {
     "end_time": "2021-05-09T05:29:08.782154Z",
     "start_time": "2021-05-09T05:29:08.752038Z"
    }
   },
   "outputs": [
    {
     "data": {
      "text/plain": [
       "Loan_ID               0\n",
       "Gender               13\n",
       "Married               3\n",
       "Dependents           15\n",
       "Education             0\n",
       "Self_Employed        32\n",
       "ApplicantIncome       0\n",
       "CoapplicantIncome     0\n",
       "LoanAmount           22\n",
       "Loan_Amount_Term     14\n",
       "Credit_History       50\n",
       "Property_Area         0\n",
       "Loan_Status           0\n",
       "dtype: int64"
      ]
     },
     "execution_count": 12,
     "metadata": {},
     "output_type": "execute_result"
    }
   ],
   "source": [
    "train.isnull().sum()"
   ]
  },
  {
   "cell_type": "code",
   "execution_count": 13,
   "metadata": {
    "ExecuteTime": {
     "end_time": "2021-05-09T05:29:10.709943Z",
     "start_time": "2021-05-09T05:29:10.694646Z"
    }
   },
   "outputs": [
    {
     "data": {
      "text/plain": [
       "Loan_ID               0\n",
       "Gender               11\n",
       "Married               0\n",
       "Dependents           10\n",
       "Education             0\n",
       "Self_Employed        23\n",
       "ApplicantIncome       0\n",
       "CoapplicantIncome     0\n",
       "LoanAmount            5\n",
       "Loan_Amount_Term      6\n",
       "Credit_History       29\n",
       "Property_Area         0\n",
       "dtype: int64"
      ]
     },
     "execution_count": 13,
     "metadata": {},
     "output_type": "execute_result"
    }
   ],
   "source": [
    "test.isnull().sum()"
   ]
  },
  {
   "cell_type": "markdown",
   "metadata": {},
   "source": [
    "## Treat Data"
   ]
  },
  {
   "cell_type": "markdown",
   "metadata": {},
   "source": [
    "This data has null values so we need to first do Imputation according to DataType"
   ]
  },
  {
   "cell_type": "code",
   "execution_count": 14,
   "metadata": {
    "ExecuteTime": {
     "end_time": "2021-05-09T06:23:47.853933Z",
     "start_time": "2021-05-09T06:23:47.827948Z"
    }
   },
   "outputs": [],
   "source": [
    "train['Gender'].fillna(train['Gender'].mode()[0],inplace=True)\n",
    "train['Married'].fillna(train['Married'].mode()[0],inplace=True)\n",
    "train['Dependents'].fillna(train['Dependents'].mode()[0],inplace=True)\n",
    "train['Self_Employed'].fillna(train['Self_Employed'].mode()[0],inplace=True)\n",
    "train['Loan_Amount_Term'].fillna(train['Loan_Amount_Term'].mean(),inplace=True)\n",
    "train['Credit_History'].fillna(train['Credit_History'].median(),inplace=True)\n",
    "train['LoanAmount'].fillna(train['LoanAmount'].mean(),inplace=True)"
   ]
  },
  {
   "cell_type": "code",
   "execution_count": 15,
   "metadata": {
    "ExecuteTime": {
     "end_time": "2021-05-09T06:23:49.119787Z",
     "start_time": "2021-05-09T06:23:49.094799Z"
    }
   },
   "outputs": [
    {
     "data": {
      "text/plain": [
       "Loan_ID              0\n",
       "Gender               0\n",
       "Married              0\n",
       "Dependents           0\n",
       "Education            0\n",
       "Self_Employed        0\n",
       "ApplicantIncome      0\n",
       "CoapplicantIncome    0\n",
       "LoanAmount           0\n",
       "Loan_Amount_Term     0\n",
       "Credit_History       0\n",
       "Property_Area        0\n",
       "Loan_Status          0\n",
       "dtype: int64"
      ]
     },
     "execution_count": 15,
     "metadata": {},
     "output_type": "execute_result"
    }
   ],
   "source": [
    "train.isnull().sum()"
   ]
  },
  {
   "cell_type": "code",
   "execution_count": 16,
   "metadata": {
    "ExecuteTime": {
     "end_time": "2021-05-09T06:23:55.655465Z",
     "start_time": "2021-05-09T06:23:55.630333Z"
    }
   },
   "outputs": [],
   "source": [
    "test['Gender'].fillna(test['Gender'].mode()[0],inplace=True)\n",
    "test['Married'].fillna(test['Married'].mode()[0],inplace=True)\n",
    "test['Dependents'].fillna(test['Dependents'].mode()[0],inplace=True)\n",
    "test['Self_Employed'].fillna(test['Self_Employed'].mode()[0],inplace=True)\n",
    "test['Loan_Amount_Term'].fillna(test['Loan_Amount_Term'].mean(),inplace=True)\n",
    "test['Credit_History'].fillna(test['Credit_History'].median(),inplace=True)\n",
    "test['LoanAmount'].fillna(test['LoanAmount'].mean(),inplace=True)"
   ]
  },
  {
   "cell_type": "code",
   "execution_count": 17,
   "metadata": {
    "ExecuteTime": {
     "end_time": "2021-05-09T06:23:56.957940Z",
     "start_time": "2021-05-09T06:23:56.938328Z"
    }
   },
   "outputs": [
    {
     "data": {
      "text/plain": [
       "Loan_ID              0\n",
       "Gender               0\n",
       "Married              0\n",
       "Dependents           0\n",
       "Education            0\n",
       "Self_Employed        0\n",
       "ApplicantIncome      0\n",
       "CoapplicantIncome    0\n",
       "LoanAmount           0\n",
       "Loan_Amount_Term     0\n",
       "Credit_History       0\n",
       "Property_Area        0\n",
       "dtype: int64"
      ]
     },
     "execution_count": 17,
     "metadata": {},
     "output_type": "execute_result"
    }
   ],
   "source": [
    "test.isnull().sum()"
   ]
  },
  {
   "cell_type": "markdown",
   "metadata": {},
   "source": [
    "### Now, we have no NULL values"
   ]
  },
  {
   "cell_type": "code",
   "execution_count": 18,
   "metadata": {
    "ExecuteTime": {
     "end_time": "2021-05-09T06:23:59.805696Z",
     "start_time": "2021-05-09T06:23:59.780322Z"
    },
    "scrolled": true
   },
   "outputs": [
    {
     "data": {
      "text/plain": [
       "((614, 13), (367, 12))"
      ]
     },
     "execution_count": 18,
     "metadata": {},
     "output_type": "execute_result"
    }
   ],
   "source": [
    "train.shape,test.shape"
   ]
  },
  {
   "cell_type": "code",
   "execution_count": 19,
   "metadata": {
    "ExecuteTime": {
     "end_time": "2021-05-09T06:24:00.465523Z",
     "start_time": "2021-05-09T06:24:00.433156Z"
    },
    "scrolled": false
   },
   "outputs": [
    {
     "data": {
      "text/html": [
       "<div>\n",
       "<style scoped>\n",
       "    .dataframe tbody tr th:only-of-type {\n",
       "        vertical-align: middle;\n",
       "    }\n",
       "\n",
       "    .dataframe tbody tr th {\n",
       "        vertical-align: top;\n",
       "    }\n",
       "\n",
       "    .dataframe thead th {\n",
       "        text-align: right;\n",
       "    }\n",
       "</style>\n",
       "<table border=\"1\" class=\"dataframe\">\n",
       "  <thead>\n",
       "    <tr style=\"text-align: right;\">\n",
       "      <th></th>\n",
       "      <th>Loan_ID</th>\n",
       "      <th>Gender</th>\n",
       "      <th>Married</th>\n",
       "      <th>Dependents</th>\n",
       "      <th>Education</th>\n",
       "      <th>Self_Employed</th>\n",
       "      <th>ApplicantIncome</th>\n",
       "      <th>CoapplicantIncome</th>\n",
       "      <th>LoanAmount</th>\n",
       "      <th>Loan_Amount_Term</th>\n",
       "      <th>Credit_History</th>\n",
       "      <th>Property_Area</th>\n",
       "      <th>Loan_Status</th>\n",
       "    </tr>\n",
       "  </thead>\n",
       "  <tbody>\n",
       "    <tr>\n",
       "      <th>0</th>\n",
       "      <td>LP001002</td>\n",
       "      <td>Male</td>\n",
       "      <td>No</td>\n",
       "      <td>0</td>\n",
       "      <td>Graduate</td>\n",
       "      <td>No</td>\n",
       "      <td>5849</td>\n",
       "      <td>0.0</td>\n",
       "      <td>146.412162</td>\n",
       "      <td>360.0</td>\n",
       "      <td>1.0</td>\n",
       "      <td>Urban</td>\n",
       "      <td>Y</td>\n",
       "    </tr>\n",
       "    <tr>\n",
       "      <th>1</th>\n",
       "      <td>LP001003</td>\n",
       "      <td>Male</td>\n",
       "      <td>Yes</td>\n",
       "      <td>1</td>\n",
       "      <td>Graduate</td>\n",
       "      <td>No</td>\n",
       "      <td>4583</td>\n",
       "      <td>1508.0</td>\n",
       "      <td>128.000000</td>\n",
       "      <td>360.0</td>\n",
       "      <td>1.0</td>\n",
       "      <td>Rural</td>\n",
       "      <td>N</td>\n",
       "    </tr>\n",
       "  </tbody>\n",
       "</table>\n",
       "</div>"
      ],
      "text/plain": [
       "    Loan_ID Gender Married Dependents Education Self_Employed  \\\n",
       "0  LP001002   Male      No          0  Graduate            No   \n",
       "1  LP001003   Male     Yes          1  Graduate            No   \n",
       "\n",
       "   ApplicantIncome  CoapplicantIncome  LoanAmount  Loan_Amount_Term  \\\n",
       "0             5849                0.0  146.412162             360.0   \n",
       "1             4583             1508.0  128.000000             360.0   \n",
       "\n",
       "   Credit_History Property_Area Loan_Status  \n",
       "0             1.0         Urban           Y  \n",
       "1             1.0         Rural           N  "
      ]
     },
     "execution_count": 19,
     "metadata": {},
     "output_type": "execute_result"
    }
   ],
   "source": [
    "train.head(2)"
   ]
  },
  {
   "cell_type": "code",
   "execution_count": 20,
   "metadata": {
    "ExecuteTime": {
     "end_time": "2021-05-09T06:24:18.311816Z",
     "start_time": "2021-05-09T06:24:17.356877Z"
    }
   },
   "outputs": [
    {
     "data": {
      "image/png": "[encoded data removed]",
      "text/plain": [
       "<Figure size 1440x360 with 2 Axes>"
      ]
     },
     "metadata": {
      "needs_background": "light"
     },
     "output_type": "display_data"
    }
   ],
   "source": [
    "import warnings\n",
    "warnings.filterwarnings('ignore')\n",
    "fig, axes = plt.subplots(1,2, figsize=(20, 5))\n",
    "fig.suptitle('Treating Outlier',fontsize=20)\n",
    "sns.distplot(train['LoanAmount'],ax=axes[0],color='red')\n",
    "sns.distplot(np.log(train['LoanAmount']),ax=axes[1],color='red')\n",
    "\n",
    "train['LoanAmount_log'] = np.log(train['LoanAmount'])\n",
    "test['LoanAmount_log'] = np.log(test['LoanAmount'])"
   ]
  },
  {
   "cell_type": "markdown",
   "metadata": {},
   "source": [
    "### Drop Loan_ID as it is of no use from both Train and Test Data"
   ]
  },
  {
   "cell_type": "code",
   "execution_count": 21,
   "metadata": {
    "ExecuteTime": {
     "end_time": "2021-05-09T06:24:29.163009Z",
     "start_time": "2021-05-09T06:24:29.148824Z"
    }
   },
   "outputs": [],
   "source": [
    "train = train.drop(['Loan_ID'],axis=1)\n",
    "test = test.drop(['Loan_ID'],axis=1)"
   ]
  },
  {
   "cell_type": "code",
   "execution_count": 22,
   "metadata": {
    "ExecuteTime": {
     "end_time": "2021-05-09T06:24:30.885173Z",
     "start_time": "2021-05-09T06:24:30.855555Z"
    }
   },
   "outputs": [
    {
     "data": {
      "text/html": [
       "<div>\n",
       "<style scoped>\n",
       "    .dataframe tbody tr th:only-of-type {\n",
       "        vertical-align: middle;\n",
       "    }\n",
       "\n",
       "    .dataframe tbody tr th {\n",
       "        vertical-align: top;\n",
       "    }\n",
       "\n",
       "    .dataframe thead th {\n",
       "        text-align: right;\n",
       "    }\n",
       "</style>\n",
       "<table border=\"1\" class=\"dataframe\">\n",
       "  <thead>\n",
       "    <tr style=\"text-align: right;\">\n",
       "      <th></th>\n",
       "      <th>Gender</th>\n",
       "      <th>Married</th>\n",
       "      <th>Dependents</th>\n",
       "      <th>Education</th>\n",
       "      <th>Self_Employed</th>\n",
       "      <th>ApplicantIncome</th>\n",
       "      <th>CoapplicantIncome</th>\n",
       "      <th>LoanAmount</th>\n",
       "      <th>Loan_Amount_Term</th>\n",
       "      <th>Credit_History</th>\n",
       "      <th>Property_Area</th>\n",
       "      <th>Loan_Status</th>\n",
       "      <th>LoanAmount_log</th>\n",
       "    </tr>\n",
       "  </thead>\n",
       "  <tbody>\n",
       "    <tr>\n",
       "      <th>0</th>\n",
       "      <td>Male</td>\n",
       "      <td>No</td>\n",
       "      <td>0</td>\n",
       "      <td>Graduate</td>\n",
       "      <td>No</td>\n",
       "      <td>5849</td>\n",
       "      <td>0.0</td>\n",
       "      <td>146.412162</td>\n",
       "      <td>360.0</td>\n",
       "      <td>1.0</td>\n",
       "      <td>Urban</td>\n",
       "      <td>Y</td>\n",
       "      <td>4.986426</td>\n",
       "    </tr>\n",
       "    <tr>\n",
       "      <th>1</th>\n",
       "      <td>Male</td>\n",
       "      <td>Yes</td>\n",
       "      <td>1</td>\n",
       "      <td>Graduate</td>\n",
       "      <td>No</td>\n",
       "      <td>4583</td>\n",
       "      <td>1508.0</td>\n",
       "      <td>128.000000</td>\n",
       "      <td>360.0</td>\n",
       "      <td>1.0</td>\n",
       "      <td>Rural</td>\n",
       "      <td>N</td>\n",
       "      <td>4.852030</td>\n",
       "    </tr>\n",
       "  </tbody>\n",
       "</table>\n",
       "</div>"
      ],
      "text/plain": [
       "  Gender Married Dependents Education Self_Employed  ApplicantIncome  \\\n",
       "0   Male      No          0  Graduate            No             5849   \n",
       "1   Male     Yes          1  Graduate            No             4583   \n",
       "\n",
       "   CoapplicantIncome  LoanAmount  Loan_Amount_Term  Credit_History  \\\n",
       "0                0.0  146.412162             360.0             1.0   \n",
       "1             1508.0  128.000000             360.0             1.0   \n",
       "\n",
       "  Property_Area Loan_Status  LoanAmount_log  \n",
       "0         Urban           Y        4.986426  \n",
       "1         Rural           N        4.852030  "
      ]
     },
     "execution_count": 22,
     "metadata": {},
     "output_type": "execute_result"
    }
   ],
   "source": [
    "train.head(2)"
   ]
  },
  {
   "cell_type": "code",
   "execution_count": 23,
   "metadata": {
    "ExecuteTime": {
     "end_time": "2021-05-09T06:24:33.339276Z",
     "start_time": "2021-05-09T06:24:33.295680Z"
    }
   },
   "outputs": [
    {
     "data": {
      "text/html": [
       "<div>\n",
       "<style scoped>\n",
       "    .dataframe tbody tr th:only-of-type {\n",
       "        vertical-align: middle;\n",
       "    }\n",
       "\n",
       "    .dataframe tbody tr th {\n",
       "        vertical-align: top;\n",
       "    }\n",
       "\n",
       "    .dataframe thead th {\n",
       "        text-align: right;\n",
       "    }\n",
       "</style>\n",
       "<table border=\"1\" class=\"dataframe\">\n",
       "  <thead>\n",
       "    <tr style=\"text-align: right;\">\n",
       "      <th></th>\n",
       "      <th>Gender</th>\n",
       "      <th>Married</th>\n",
       "      <th>Dependents</th>\n",
       "      <th>Education</th>\n",
       "      <th>Self_Employed</th>\n",
       "      <th>ApplicantIncome</th>\n",
       "      <th>CoapplicantIncome</th>\n",
       "      <th>LoanAmount</th>\n",
       "      <th>Loan_Amount_Term</th>\n",
       "      <th>Credit_History</th>\n",
       "      <th>Property_Area</th>\n",
       "      <th>LoanAmount_log</th>\n",
       "    </tr>\n",
       "  </thead>\n",
       "  <tbody>\n",
       "    <tr>\n",
       "      <th>0</th>\n",
       "      <td>Male</td>\n",
       "      <td>Yes</td>\n",
       "      <td>0</td>\n",
       "      <td>Graduate</td>\n",
       "      <td>No</td>\n",
       "      <td>5720</td>\n",
       "      <td>0</td>\n",
       "      <td>110.0</td>\n",
       "      <td>360.0</td>\n",
       "      <td>1.0</td>\n",
       "      <td>Urban</td>\n",
       "      <td>4.700480</td>\n",
       "    </tr>\n",
       "    <tr>\n",
       "      <th>1</th>\n",
       "      <td>Male</td>\n",
       "      <td>Yes</td>\n",
       "      <td>1</td>\n",
       "      <td>Graduate</td>\n",
       "      <td>No</td>\n",
       "      <td>3076</td>\n",
       "      <td>1500</td>\n",
       "      <td>126.0</td>\n",
       "      <td>360.0</td>\n",
       "      <td>1.0</td>\n",
       "      <td>Urban</td>\n",
       "      <td>4.836282</td>\n",
       "    </tr>\n",
       "  </tbody>\n",
       "</table>\n",
       "</div>"
      ],
      "text/plain": [
       "  Gender Married Dependents Education Self_Employed  ApplicantIncome  \\\n",
       "0   Male     Yes          0  Graduate            No             5720   \n",
       "1   Male     Yes          1  Graduate            No             3076   \n",
       "\n",
       "   CoapplicantIncome  LoanAmount  Loan_Amount_Term  Credit_History  \\\n",
       "0                  0       110.0             360.0             1.0   \n",
       "1               1500       126.0             360.0             1.0   \n",
       "\n",
       "  Property_Area  LoanAmount_log  \n",
       "0         Urban        4.700480  \n",
       "1         Urban        4.836282  "
      ]
     },
     "execution_count": 23,
     "metadata": {},
     "output_type": "execute_result"
    }
   ],
   "source": [
    "test.head(2)"
   ]
  },
  {
   "cell_type": "code",
   "execution_count": 24,
   "metadata": {
    "ExecuteTime": {
     "end_time": "2021-05-09T06:24:36.094848Z",
     "start_time": "2021-05-09T06:24:36.070960Z"
    },
    "scrolled": true
   },
   "outputs": [
    {
     "data": {
      "text/plain": [
       "(Index(['Gender', 'Married', 'Dependents', 'Education', 'Self_Employed',\n",
       "        'ApplicantIncome', 'CoapplicantIncome', 'LoanAmount',\n",
       "        'Loan_Amount_Term', 'Credit_History', 'Property_Area', 'Loan_Status',\n",
       "        'LoanAmount_log'],\n",
       "       dtype='object'),\n",
       " Index(['Gender', 'Married', 'Dependents', 'Education', 'Self_Employed',\n",
       "        'ApplicantIncome', 'CoapplicantIncome', 'LoanAmount',\n",
       "        'Loan_Amount_Term', 'Credit_History', 'Property_Area',\n",
       "        'LoanAmount_log'],\n",
       "       dtype='object'))"
      ]
     },
     "execution_count": 24,
     "metadata": {},
     "output_type": "execute_result"
    }
   ],
   "source": [
    "train.columns,test.columns"
   ]
  },
  {
   "cell_type": "markdown",
   "metadata": {},
   "source": [
    "### So, it is clear that Loan Status column is our Target variable"
   ]
  },
  {
   "cell_type": "markdown",
   "metadata": {},
   "source": [
    "## Convert Category to Numbers"
   ]
  },
  {
   "cell_type": "markdown",
   "metadata": {},
   "source": [
    "### Using One-Hot Encoding on Features"
   ]
  },
  {
   "cell_type": "code",
   "execution_count": 25,
   "metadata": {
    "ExecuteTime": {
     "end_time": "2021-05-09T06:25:03.958359Z",
     "start_time": "2021-05-09T06:25:03.917668Z"
    }
   },
   "outputs": [
    {
     "data": {
      "text/html": [
       "<div>\n",
       "<style scoped>\n",
       "    .dataframe tbody tr th:only-of-type {\n",
       "        vertical-align: middle;\n",
       "    }\n",
       "\n",
       "    .dataframe tbody tr th {\n",
       "        vertical-align: top;\n",
       "    }\n",
       "\n",
       "    .dataframe thead th {\n",
       "        text-align: right;\n",
       "    }\n",
       "</style>\n",
       "<table border=\"1\" class=\"dataframe\">\n",
       "  <thead>\n",
       "    <tr style=\"text-align: right;\">\n",
       "      <th></th>\n",
       "      <th>Gender_Female</th>\n",
       "      <th>Gender_Male</th>\n",
       "      <th>Married_No</th>\n",
       "      <th>Married_Yes</th>\n",
       "      <th>Education_Graduate</th>\n",
       "      <th>Education_Not Graduate</th>\n",
       "      <th>Self_Employed_No</th>\n",
       "      <th>Self_Employed_Yes</th>\n",
       "      <th>Property_Area_Rural</th>\n",
       "      <th>Property_Area_Semiurban</th>\n",
       "      <th>Property_Area_Urban</th>\n",
       "    </tr>\n",
       "  </thead>\n",
       "  <tbody>\n",
       "    <tr>\n",
       "      <th>0</th>\n",
       "      <td>0</td>\n",
       "      <td>1</td>\n",
       "      <td>1</td>\n",
       "      <td>0</td>\n",
       "      <td>1</td>\n",
       "      <td>0</td>\n",
       "      <td>1</td>\n",
       "      <td>0</td>\n",
       "      <td>0</td>\n",
       "      <td>0</td>\n",
       "      <td>1</td>\n",
       "    </tr>\n",
       "    <tr>\n",
       "      <th>1</th>\n",
       "      <td>0</td>\n",
       "      <td>1</td>\n",
       "      <td>0</td>\n",
       "      <td>1</td>\n",
       "      <td>1</td>\n",
       "      <td>0</td>\n",
       "      <td>1</td>\n",
       "      <td>0</td>\n",
       "      <td>1</td>\n",
       "      <td>0</td>\n",
       "      <td>0</td>\n",
       "    </tr>\n",
       "    <tr>\n",
       "      <th>2</th>\n",
       "      <td>0</td>\n",
       "      <td>1</td>\n",
       "      <td>0</td>\n",
       "      <td>1</td>\n",
       "      <td>1</td>\n",
       "      <td>0</td>\n",
       "      <td>0</td>\n",
       "      <td>1</td>\n",
       "      <td>0</td>\n",
       "      <td>0</td>\n",
       "      <td>1</td>\n",
       "    </tr>\n",
       "    <tr>\n",
       "      <th>3</th>\n",
       "      <td>0</td>\n",
       "      <td>1</td>\n",
       "      <td>0</td>\n",
       "      <td>1</td>\n",
       "      <td>0</td>\n",
       "      <td>1</td>\n",
       "      <td>1</td>\n",
       "      <td>0</td>\n",
       "      <td>0</td>\n",
       "      <td>0</td>\n",
       "      <td>1</td>\n",
       "    </tr>\n",
       "    <tr>\n",
       "      <th>4</th>\n",
       "      <td>0</td>\n",
       "      <td>1</td>\n",
       "      <td>1</td>\n",
       "      <td>0</td>\n",
       "      <td>1</td>\n",
       "      <td>0</td>\n",
       "      <td>1</td>\n",
       "      <td>0</td>\n",
       "      <td>0</td>\n",
       "      <td>0</td>\n",
       "      <td>1</td>\n",
       "    </tr>\n",
       "  </tbody>\n",
       "</table>\n",
       "</div>"
      ],
      "text/plain": [
       "   Gender_Female  Gender_Male  Married_No  Married_Yes  Education_Graduate  \\\n",
       "0              0            1           1            0                   1   \n",
       "1              0            1           0            1                   1   \n",
       "2              0            1           0            1                   1   \n",
       "3              0            1           0            1                   0   \n",
       "4              0            1           1            0                   1   \n",
       "\n",
       "   Education_Not Graduate  Self_Employed_No  Self_Employed_Yes  \\\n",
       "0                       0                 1                  0   \n",
       "1                       0                 1                  0   \n",
       "2                       0                 0                  1   \n",
       "3                       1                 1                  0   \n",
       "4                       0                 1                  0   \n",
       "\n",
       "   Property_Area_Rural  Property_Area_Semiurban  Property_Area_Urban  \n",
       "0                    0                        0                    1  \n",
       "1                    1                        0                    0  \n",
       "2                    0                        0                    1  \n",
       "3                    0                        0                    1  \n",
       "4                    0                        0                    1  "
      ]
     },
     "execution_count": 25,
     "metadata": {},
     "output_type": "execute_result"
    }
   ],
   "source": [
    "ctrain = train.loc[:,['Gender','Married','Education','Self_Employed','Property_Area']]\n",
    "ctrain = pd.get_dummies(ctrain)\n",
    "ctrain.head()"
   ]
  },
  {
   "cell_type": "code",
   "execution_count": 26,
   "metadata": {
    "ExecuteTime": {
     "end_time": "2021-05-09T06:25:07.188564Z",
     "start_time": "2021-05-09T06:25:07.161963Z"
    }
   },
   "outputs": [
    {
     "data": {
      "text/plain": [
       "Index(['Gender_Female', 'Gender_Male', 'Married_No', 'Married_Yes',\n",
       "       'Education_Graduate', 'Education_Not Graduate', 'Self_Employed_No',\n",
       "       'Self_Employed_Yes', 'Property_Area_Rural', 'Property_Area_Semiurban',\n",
       "       'Property_Area_Urban'],\n",
       "      dtype='object')"
      ]
     },
     "execution_count": 26,
     "metadata": {},
     "output_type": "execute_result"
    }
   ],
   "source": [
    "ctrain.columns"
   ]
  },
  {
   "cell_type": "markdown",
   "metadata": {},
   "source": [
    "### Using Label Encoder on Target Column"
   ]
  },
  {
   "cell_type": "code",
   "execution_count": 27,
   "metadata": {
    "ExecuteTime": {
     "end_time": "2021-05-09T06:25:34.346417Z",
     "start_time": "2021-05-09T06:25:34.314894Z"
    },
    "scrolled": true
   },
   "outputs": [
    {
     "data": {
      "text/html": [
       "<div>\n",
       "<style scoped>\n",
       "    .dataframe tbody tr th:only-of-type {\n",
       "        vertical-align: middle;\n",
       "    }\n",
       "\n",
       "    .dataframe tbody tr th {\n",
       "        vertical-align: top;\n",
       "    }\n",
       "\n",
       "    .dataframe thead th {\n",
       "        text-align: right;\n",
       "    }\n",
       "</style>\n",
       "<table border=\"1\" class=\"dataframe\">\n",
       "  <thead>\n",
       "    <tr style=\"text-align: right;\">\n",
       "      <th></th>\n",
       "      <th>Dependents</th>\n",
       "      <th>ApplicantIncome</th>\n",
       "      <th>CoapplicantIncome</th>\n",
       "      <th>Loan_Amount_Term</th>\n",
       "      <th>Credit_History</th>\n",
       "      <th>Loan_Status</th>\n",
       "      <th>LoanAmount_log</th>\n",
       "    </tr>\n",
       "  </thead>\n",
       "  <tbody>\n",
       "    <tr>\n",
       "      <th>0</th>\n",
       "      <td>0</td>\n",
       "      <td>5849</td>\n",
       "      <td>0.0</td>\n",
       "      <td>360.0</td>\n",
       "      <td>1.0</td>\n",
       "      <td>1</td>\n",
       "      <td>4.986426</td>\n",
       "    </tr>\n",
       "    <tr>\n",
       "      <th>1</th>\n",
       "      <td>1</td>\n",
       "      <td>4583</td>\n",
       "      <td>1508.0</td>\n",
       "      <td>360.0</td>\n",
       "      <td>1.0</td>\n",
       "      <td>0</td>\n",
       "      <td>4.852030</td>\n",
       "    </tr>\n",
       "  </tbody>\n",
       "</table>\n",
       "</div>"
      ],
      "text/plain": [
       "  Dependents  ApplicantIncome  CoapplicantIncome  Loan_Amount_Term  \\\n",
       "0          0             5849                0.0             360.0   \n",
       "1          1             4583             1508.0             360.0   \n",
       "\n",
       "   Credit_History  Loan_Status  LoanAmount_log  \n",
       "0             1.0            1        4.986426  \n",
       "1             1.0            0        4.852030  "
      ]
     },
     "execution_count": 27,
     "metadata": {},
     "output_type": "execute_result"
    }
   ],
   "source": [
    "le = LabelEncoder()\n",
    "train['Loan_Status'] = le.fit_transform(train['Loan_Status'])\n",
    "train = train.drop(['Gender','Married','Education','Self_Employed','Property_Area','LoanAmount'],axis=1)\n",
    "train.head(2)"
   ]
  },
  {
   "cell_type": "code",
   "execution_count": 28,
   "metadata": {
    "ExecuteTime": {
     "end_time": "2021-05-06T11:10:03.048596Z",
     "start_time": "2021-05-06T11:10:03.017334Z"
    }
   },
   "outputs": [],
   "source": [
    "def norm_func(i):\n",
    "    x = (i-i.min())/(i.max()-i.min())\n",
    "    return (x)"
   ]
  },
  {
   "cell_type": "code",
   "execution_count": 29,
   "metadata": {
    "ExecuteTime": {
     "end_time": "2021-05-06T11:10:03.752821Z",
     "start_time": "2021-05-06T11:10:03.737178Z"
    }
   },
   "outputs": [],
   "source": [
    "ndf = train.loc[:,['ApplicantIncome','CoapplicantIncome','Loan_Amount_Term','LoanAmount_log']]"
   ]
  },
  {
   "cell_type": "code",
   "execution_count": 30,
   "metadata": {
    "ExecuteTime": {
     "end_time": "2021-05-06T11:10:04.409628Z",
     "start_time": "2021-05-06T11:10:04.371909Z"
    }
   },
   "outputs": [
    {
     "data": {
      "text/html": [
       "<div>\n",
       "<style scoped>\n",
       "    .dataframe tbody tr th:only-of-type {\n",
       "        vertical-align: middle;\n",
       "    }\n",
       "\n",
       "    .dataframe tbody tr th {\n",
       "        vertical-align: top;\n",
       "    }\n",
       "\n",
       "    .dataframe thead th {\n",
       "        text-align: right;\n",
       "    }\n",
       "</style>\n",
       "<table border=\"1\" class=\"dataframe\">\n",
       "  <thead>\n",
       "    <tr style=\"text-align: right;\">\n",
       "      <th></th>\n",
       "      <th>ApplicantIncome</th>\n",
       "      <th>CoapplicantIncome</th>\n",
       "      <th>Loan_Amount_Term</th>\n",
       "      <th>LoanAmount_log</th>\n",
       "    </tr>\n",
       "  </thead>\n",
       "  <tbody>\n",
       "    <tr>\n",
       "      <th>0</th>\n",
       "      <td>0.070489</td>\n",
       "      <td>0.000000</td>\n",
       "      <td>0.74359</td>\n",
       "      <td>0.640628</td>\n",
       "    </tr>\n",
       "    <tr>\n",
       "      <th>1</th>\n",
       "      <td>0.054830</td>\n",
       "      <td>0.036192</td>\n",
       "      <td>0.74359</td>\n",
       "      <td>0.609760</td>\n",
       "    </tr>\n",
       "    <tr>\n",
       "      <th>2</th>\n",
       "      <td>0.035250</td>\n",
       "      <td>0.000000</td>\n",
       "      <td>0.74359</td>\n",
       "      <td>0.457624</td>\n",
       "    </tr>\n",
       "    <tr>\n",
       "      <th>3</th>\n",
       "      <td>0.030093</td>\n",
       "      <td>0.056592</td>\n",
       "      <td>0.74359</td>\n",
       "      <td>0.594936</td>\n",
       "    </tr>\n",
       "    <tr>\n",
       "      <th>4</th>\n",
       "      <td>0.072356</td>\n",
       "      <td>0.000000</td>\n",
       "      <td>0.74359</td>\n",
       "      <td>0.631977</td>\n",
       "    </tr>\n",
       "  </tbody>\n",
       "</table>\n",
       "</div>"
      ],
      "text/plain": [
       "   ApplicantIncome  CoapplicantIncome  Loan_Amount_Term  LoanAmount_log\n",
       "0         0.070489           0.000000           0.74359        0.640628\n",
       "1         0.054830           0.036192           0.74359        0.609760\n",
       "2         0.035250           0.000000           0.74359        0.457624\n",
       "3         0.030093           0.056592           0.74359        0.594936\n",
       "4         0.072356           0.000000           0.74359        0.631977"
      ]
     },
     "execution_count": 30,
     "metadata": {},
     "output_type": "execute_result"
    }
   ],
   "source": [
    "ndf = norm_func(ndf)\n",
    "ndf.head()"
   ]
  },
  {
   "cell_type": "code",
   "execution_count": 31,
   "metadata": {
    "ExecuteTime": {
     "end_time": "2021-05-09T06:30:04.544411Z",
     "start_time": "2021-05-09T06:30:04.522152Z"
    }
   },
   "outputs": [],
   "source": [
    "def stand_func(i):\n",
    "    x = (i-i.mean())/(i.std())\n",
    "    return (x)"
   ]
  },
  {
   "cell_type": "code",
   "execution_count": 32,
   "metadata": {
    "ExecuteTime": {
     "end_time": "2021-05-09T06:30:09.150945Z",
     "start_time": "2021-05-09T06:30:09.138674Z"
    }
   },
   "outputs": [],
   "source": [
    "sdf = train.loc[:,['ApplicantIncome','CoapplicantIncome','Loan_Amount_Term','LoanAmount_log']]"
   ]
  },
  {
   "cell_type": "code",
   "execution_count": 33,
   "metadata": {
    "ExecuteTime": {
     "end_time": "2021-05-09T06:30:14.337180Z",
     "start_time": "2021-05-09T06:30:14.301787Z"
    }
   },
   "outputs": [
    {
     "data": {
      "text/html": [
       "<div>\n",
       "<style scoped>\n",
       "    .dataframe tbody tr th:only-of-type {\n",
       "        vertical-align: middle;\n",
       "    }\n",
       "\n",
       "    .dataframe tbody tr th {\n",
       "        vertical-align: top;\n",
       "    }\n",
       "\n",
       "    .dataframe thead th {\n",
       "        text-align: right;\n",
       "    }\n",
       "</style>\n",
       "<table border=\"1\" class=\"dataframe\">\n",
       "  <thead>\n",
       "    <tr style=\"text-align: right;\">\n",
       "      <th></th>\n",
       "      <th>ApplicantIncome</th>\n",
       "      <th>CoapplicantIncome</th>\n",
       "      <th>Loan_Amount_Term</th>\n",
       "      <th>LoanAmount_log</th>\n",
       "    </tr>\n",
       "  </thead>\n",
       "  <tbody>\n",
       "    <tr>\n",
       "      <th>0</th>\n",
       "      <td>0.072931</td>\n",
       "      <td>-0.554036</td>\n",
       "      <td>0.279623</td>\n",
       "      <td>0.250436</td>\n",
       "    </tr>\n",
       "    <tr>\n",
       "      <th>1</th>\n",
       "      <td>-0.134302</td>\n",
       "      <td>-0.038700</td>\n",
       "      <td>0.279623</td>\n",
       "      <td>-0.020209</td>\n",
       "    </tr>\n",
       "    <tr>\n",
       "      <th>2</th>\n",
       "      <td>-0.393427</td>\n",
       "      <td>-0.554036</td>\n",
       "      <td>0.279623</td>\n",
       "      <td>-1.354098</td>\n",
       "    </tr>\n",
       "    <tr>\n",
       "      <th>3</th>\n",
       "      <td>-0.461686</td>\n",
       "      <td>0.251774</td>\n",
       "      <td>0.279623</td>\n",
       "      <td>-0.150177</td>\n",
       "    </tr>\n",
       "    <tr>\n",
       "      <th>4</th>\n",
       "      <td>0.097649</td>\n",
       "      <td>-0.554036</td>\n",
       "      <td>0.279623</td>\n",
       "      <td>0.174584</td>\n",
       "    </tr>\n",
       "  </tbody>\n",
       "</table>\n",
       "</div>"
      ],
      "text/plain": [
       "   ApplicantIncome  CoapplicantIncome  Loan_Amount_Term  LoanAmount_log\n",
       "0         0.072931          -0.554036          0.279623        0.250436\n",
       "1        -0.134302          -0.038700          0.279623       -0.020209\n",
       "2        -0.393427          -0.554036          0.279623       -1.354098\n",
       "3        -0.461686           0.251774          0.279623       -0.150177\n",
       "4         0.097649          -0.554036          0.279623        0.174584"
      ]
     },
     "execution_count": 33,
     "metadata": {},
     "output_type": "execute_result"
    }
   ],
   "source": [
    "sdf = stand_func(sdf)\n",
    "sdf.head()"
   ]
  },
  {
   "cell_type": "code",
   "execution_count": 34,
   "metadata": {
    "ExecuteTime": {
     "end_time": "2021-05-09T06:30:23.631188Z",
     "start_time": "2021-05-09T06:30:23.600694Z"
    }
   },
   "outputs": [
    {
     "data": {
      "text/html": [
       "<div>\n",
       "<style scoped>\n",
       "    .dataframe tbody tr th:only-of-type {\n",
       "        vertical-align: middle;\n",
       "    }\n",
       "\n",
       "    .dataframe tbody tr th {\n",
       "        vertical-align: top;\n",
       "    }\n",
       "\n",
       "    .dataframe thead th {\n",
       "        text-align: right;\n",
       "    }\n",
       "</style>\n",
       "<table border=\"1\" class=\"dataframe\">\n",
       "  <thead>\n",
       "    <tr style=\"text-align: right;\">\n",
       "      <th></th>\n",
       "      <th>Dependents</th>\n",
       "      <th>ApplicantIncome</th>\n",
       "      <th>CoapplicantIncome</th>\n",
       "      <th>Loan_Amount_Term</th>\n",
       "      <th>Credit_History</th>\n",
       "      <th>Loan_Status</th>\n",
       "      <th>LoanAmount_log</th>\n",
       "    </tr>\n",
       "  </thead>\n",
       "  <tbody>\n",
       "    <tr>\n",
       "      <th>0</th>\n",
       "      <td>0</td>\n",
       "      <td>5849</td>\n",
       "      <td>0.0</td>\n",
       "      <td>360.0</td>\n",
       "      <td>1.0</td>\n",
       "      <td>1</td>\n",
       "      <td>4.986426</td>\n",
       "    </tr>\n",
       "    <tr>\n",
       "      <th>1</th>\n",
       "      <td>1</td>\n",
       "      <td>4583</td>\n",
       "      <td>1508.0</td>\n",
       "      <td>360.0</td>\n",
       "      <td>1.0</td>\n",
       "      <td>0</td>\n",
       "      <td>4.852030</td>\n",
       "    </tr>\n",
       "  </tbody>\n",
       "</table>\n",
       "</div>"
      ],
      "text/plain": [
       "  Dependents  ApplicantIncome  CoapplicantIncome  Loan_Amount_Term  \\\n",
       "0          0             5849                0.0             360.0   \n",
       "1          1             4583             1508.0             360.0   \n",
       "\n",
       "   Credit_History  Loan_Status  LoanAmount_log  \n",
       "0             1.0            1        4.986426  \n",
       "1             1.0            0        4.852030  "
      ]
     },
     "execution_count": 34,
     "metadata": {},
     "output_type": "execute_result"
    }
   ],
   "source": [
    "train.head(2)"
   ]
  },
  {
   "cell_type": "code",
   "execution_count": 116,
   "metadata": {
    "ExecuteTime": {
     "end_time": "2021-05-09T06:31:32.725021Z",
     "start_time": "2021-05-09T06:31:32.664607Z"
    }
   },
   "outputs": [
    {
     "ename": "ValueError",
     "evalue": "cannot reindex from a duplicate axis",
     "output_type": "error",
     "traceback": [
      "\u001b[1;31m---------------------------------------------------------------------------\u001b[0m",
      "\u001b[1;31mValueError\u001b[0m                                Traceback (most recent call last)",
      "\u001b[1;32m<ipython-input-116-c3b12fa73c44>\u001b[0m in \u001b[0;36m<module>\u001b[1;34m\u001b[0m\n\u001b[0;32m      2\u001b[0m \u001b[0mtrain\u001b[0m\u001b[1;33m[\u001b[0m\u001b[1;34m'Dependents'\u001b[0m\u001b[1;33m]\u001b[0m \u001b[1;33m=\u001b[0m \u001b[0mtrain\u001b[0m\u001b[1;33m[\u001b[0m\u001b[1;34m'Dependents'\u001b[0m\u001b[1;33m]\u001b[0m\u001b[1;33m.\u001b[0m\u001b[0mmap\u001b[0m\u001b[1;33m(\u001b[0m\u001b[1;33m{\u001b[0m\u001b[1;34m'0'\u001b[0m\u001b[1;33m:\u001b[0m\u001b[1;36m0\u001b[0m\u001b[1;33m,\u001b[0m\u001b[1;34m'1'\u001b[0m\u001b[1;33m:\u001b[0m\u001b[1;36m1\u001b[0m\u001b[1;33m,\u001b[0m\u001b[1;34m'2'\u001b[0m\u001b[1;33m:\u001b[0m\u001b[1;36m2\u001b[0m\u001b[1;33m,\u001b[0m\u001b[1;34m'3+'\u001b[0m\u001b[1;33m:\u001b[0m\u001b[1;36m3\u001b[0m\u001b[1;33m}\u001b[0m\u001b[1;33m)\u001b[0m\u001b[1;33m\u001b[0m\u001b[1;33m\u001b[0m\u001b[0m\n\u001b[0;32m      3\u001b[0m \u001b[0mtrain\u001b[0m \u001b[1;33m=\u001b[0m \u001b[0mpd\u001b[0m\u001b[1;33m.\u001b[0m\u001b[0mconcat\u001b[0m\u001b[1;33m(\u001b[0m\u001b[1;33m[\u001b[0m\u001b[0mctrain\u001b[0m\u001b[1;33m,\u001b[0m\u001b[0msdf\u001b[0m\u001b[1;33m,\u001b[0m\u001b[0mtrain\u001b[0m\u001b[1;33m]\u001b[0m\u001b[1;33m,\u001b[0m\u001b[0maxis\u001b[0m\u001b[1;33m=\u001b[0m\u001b[1;36m1\u001b[0m\u001b[1;33m)\u001b[0m\u001b[1;33m\u001b[0m\u001b[1;33m\u001b[0m\u001b[0m\n\u001b[1;32m----> 4\u001b[1;33m train = pd.DataFrame(data=train,columns=['Gender_Female', 'Gender_Male','Married_No', 'Married_Yes', 'Dependents', 'Education_Graduate', 'Education_Not Graduate','Self_Employed_No','Self_Employed_Yes','ApplicantIncome', 'CoapplicantIncome', 'LoanAmount_log',\n\u001b[0m\u001b[0;32m      5\u001b[0m        'Loan_Amount_Term','Credit_History', 'Property_Area_Rural', 'Property_Area_Semiurban','Property_Area_Urban', 'Loan_Status'])\n\u001b[0;32m      6\u001b[0m \u001b[0mtrain\u001b[0m\u001b[1;33m.\u001b[0m\u001b[0mhead\u001b[0m\u001b[1;33m(\u001b[0m\u001b[1;33m)\u001b[0m\u001b[1;33m\u001b[0m\u001b[1;33m\u001b[0m\u001b[0m\n",
      "\u001b[1;32m~\\anaconda3\\lib\\site-packages\\pandas\\core\\frame.py\u001b[0m in \u001b[0;36m__init__\u001b[1;34m(self, data, index, columns, dtype, copy)\u001b[0m\n\u001b[0;32m    461\u001b[0m                 \u001b[1;32mreturn\u001b[0m\u001b[1;33m\u001b[0m\u001b[1;33m\u001b[0m\u001b[0m\n\u001b[0;32m    462\u001b[0m \u001b[1;33m\u001b[0m\u001b[0m\n\u001b[1;32m--> 463\u001b[1;33m             mgr = self._init_mgr(\n\u001b[0m\u001b[0;32m    464\u001b[0m                 \u001b[0mdata\u001b[0m\u001b[1;33m,\u001b[0m \u001b[0maxes\u001b[0m\u001b[1;33m=\u001b[0m\u001b[0mdict\u001b[0m\u001b[1;33m(\u001b[0m\u001b[0mindex\u001b[0m\u001b[1;33m=\u001b[0m\u001b[0mindex\u001b[0m\u001b[1;33m,\u001b[0m \u001b[0mcolumns\u001b[0m\u001b[1;33m=\u001b[0m\u001b[0mcolumns\u001b[0m\u001b[1;33m)\u001b[0m\u001b[1;33m,\u001b[0m \u001b[0mdtype\u001b[0m\u001b[1;33m=\u001b[0m\u001b[0mdtype\u001b[0m\u001b[1;33m,\u001b[0m \u001b[0mcopy\u001b[0m\u001b[1;33m=\u001b[0m\u001b[0mcopy\u001b[0m\u001b[1;33m\u001b[0m\u001b[1;33m\u001b[0m\u001b[0m\n\u001b[0;32m    465\u001b[0m             )\n",
      "\u001b[1;32m~\\anaconda3\\lib\\site-packages\\pandas\\core\\generic.py\u001b[0m in \u001b[0;36m_init_mgr\u001b[1;34m(cls, mgr, axes, dtype, copy)\u001b[0m\n\u001b[0;32m    217\u001b[0m                 \u001b[0maxe\u001b[0m \u001b[1;33m=\u001b[0m \u001b[0mensure_index\u001b[0m\u001b[1;33m(\u001b[0m\u001b[0maxe\u001b[0m\u001b[1;33m)\u001b[0m\u001b[1;33m\u001b[0m\u001b[1;33m\u001b[0m\u001b[0m\n\u001b[0;32m    218\u001b[0m                 \u001b[0mbm_axis\u001b[0m \u001b[1;33m=\u001b[0m \u001b[0mcls\u001b[0m\u001b[1;33m.\u001b[0m\u001b[0m_get_block_manager_axis\u001b[0m\u001b[1;33m(\u001b[0m\u001b[0ma\u001b[0m\u001b[1;33m)\u001b[0m\u001b[1;33m\u001b[0m\u001b[1;33m\u001b[0m\u001b[0m\n\u001b[1;32m--> 219\u001b[1;33m                 \u001b[0mmgr\u001b[0m \u001b[1;33m=\u001b[0m \u001b[0mmgr\u001b[0m\u001b[1;33m.\u001b[0m\u001b[0mreindex_axis\u001b[0m\u001b[1;33m(\u001b[0m\u001b[0maxe\u001b[0m\u001b[1;33m,\u001b[0m \u001b[0maxis\u001b[0m\u001b[1;33m=\u001b[0m\u001b[0mbm_axis\u001b[0m\u001b[1;33m,\u001b[0m \u001b[0mcopy\u001b[0m\u001b[1;33m=\u001b[0m\u001b[1;32mFalse\u001b[0m\u001b[1;33m)\u001b[0m\u001b[1;33m\u001b[0m\u001b[1;33m\u001b[0m\u001b[0m\n\u001b[0m\u001b[0;32m    220\u001b[0m \u001b[1;33m\u001b[0m\u001b[0m\n\u001b[0;32m    221\u001b[0m         \u001b[1;31m# make a copy if explicitly requested\u001b[0m\u001b[1;33m\u001b[0m\u001b[1;33m\u001b[0m\u001b[1;33m\u001b[0m\u001b[0m\n",
      "\u001b[1;32m~\\anaconda3\\lib\\site-packages\\pandas\\core\\internals\\managers.py\u001b[0m in \u001b[0;36mreindex_axis\u001b[1;34m(self, new_index, axis, method, limit, fill_value, copy)\u001b[0m\n\u001b[0;32m   1232\u001b[0m         )\n\u001b[0;32m   1233\u001b[0m \u001b[1;33m\u001b[0m\u001b[0m\n\u001b[1;32m-> 1234\u001b[1;33m         return self.reindex_indexer(\n\u001b[0m\u001b[0;32m   1235\u001b[0m             \u001b[0mnew_index\u001b[0m\u001b[1;33m,\u001b[0m \u001b[0mindexer\u001b[0m\u001b[1;33m,\u001b[0m \u001b[0maxis\u001b[0m\u001b[1;33m=\u001b[0m\u001b[0maxis\u001b[0m\u001b[1;33m,\u001b[0m \u001b[0mfill_value\u001b[0m\u001b[1;33m=\u001b[0m\u001b[0mfill_value\u001b[0m\u001b[1;33m,\u001b[0m \u001b[0mcopy\u001b[0m\u001b[1;33m=\u001b[0m\u001b[0mcopy\u001b[0m\u001b[1;33m\u001b[0m\u001b[1;33m\u001b[0m\u001b[0m\n\u001b[0;32m   1236\u001b[0m         )\n",
      "\u001b[1;32m~\\anaconda3\\lib\\site-packages\\pandas\\core\\internals\\managers.py\u001b[0m in \u001b[0;36mreindex_indexer\u001b[1;34m(self, new_axis, indexer, axis, fill_value, allow_dups, copy, consolidate)\u001b[0m\n\u001b[0;32m   1274\u001b[0m         \u001b[1;31m# some axes don't allow reindexing with dups\u001b[0m\u001b[1;33m\u001b[0m\u001b[1;33m\u001b[0m\u001b[1;33m\u001b[0m\u001b[0m\n\u001b[0;32m   1275\u001b[0m         \u001b[1;32mif\u001b[0m \u001b[1;32mnot\u001b[0m \u001b[0mallow_dups\u001b[0m\u001b[1;33m:\u001b[0m\u001b[1;33m\u001b[0m\u001b[1;33m\u001b[0m\u001b[0m\n\u001b[1;32m-> 1276\u001b[1;33m             \u001b[0mself\u001b[0m\u001b[1;33m.\u001b[0m\u001b[0maxes\u001b[0m\u001b[1;33m[\u001b[0m\u001b[0maxis\u001b[0m\u001b[1;33m]\u001b[0m\u001b[1;33m.\u001b[0m\u001b[0m_can_reindex\u001b[0m\u001b[1;33m(\u001b[0m\u001b[0mindexer\u001b[0m\u001b[1;33m)\u001b[0m\u001b[1;33m\u001b[0m\u001b[1;33m\u001b[0m\u001b[0m\n\u001b[0m\u001b[0;32m   1277\u001b[0m \u001b[1;33m\u001b[0m\u001b[0m\n\u001b[0;32m   1278\u001b[0m         \u001b[1;32mif\u001b[0m \u001b[0maxis\u001b[0m \u001b[1;33m>=\u001b[0m \u001b[0mself\u001b[0m\u001b[1;33m.\u001b[0m\u001b[0mndim\u001b[0m\u001b[1;33m:\u001b[0m\u001b[1;33m\u001b[0m\u001b[1;33m\u001b[0m\u001b[0m\n",
      "\u001b[1;32m~\\anaconda3\\lib\\site-packages\\pandas\\core\\indexes\\base.py\u001b[0m in \u001b[0;36m_can_reindex\u001b[1;34m(self, indexer)\u001b[0m\n\u001b[0;32m   3287\u001b[0m         \u001b[1;31m# trying to reindex on an axis with duplicates\u001b[0m\u001b[1;33m\u001b[0m\u001b[1;33m\u001b[0m\u001b[1;33m\u001b[0m\u001b[0m\n\u001b[0;32m   3288\u001b[0m         \u001b[1;32mif\u001b[0m \u001b[1;32mnot\u001b[0m \u001b[0mself\u001b[0m\u001b[1;33m.\u001b[0m\u001b[0mis_unique\u001b[0m \u001b[1;32mand\u001b[0m \u001b[0mlen\u001b[0m\u001b[1;33m(\u001b[0m\u001b[0mindexer\u001b[0m\u001b[1;33m)\u001b[0m\u001b[1;33m:\u001b[0m\u001b[1;33m\u001b[0m\u001b[1;33m\u001b[0m\u001b[0m\n\u001b[1;32m-> 3289\u001b[1;33m             \u001b[1;32mraise\u001b[0m \u001b[0mValueError\u001b[0m\u001b[1;33m(\u001b[0m\u001b[1;34m\"cannot reindex from a duplicate axis\"\u001b[0m\u001b[1;33m)\u001b[0m\u001b[1;33m\u001b[0m\u001b[1;33m\u001b[0m\u001b[0m\n\u001b[0m\u001b[0;32m   3290\u001b[0m \u001b[1;33m\u001b[0m\u001b[0m\n\u001b[0;32m   3291\u001b[0m     \u001b[1;32mdef\u001b[0m \u001b[0mreindex\u001b[0m\u001b[1;33m(\u001b[0m\u001b[0mself\u001b[0m\u001b[1;33m,\u001b[0m \u001b[0mtarget\u001b[0m\u001b[1;33m,\u001b[0m \u001b[0mmethod\u001b[0m\u001b[1;33m=\u001b[0m\u001b[1;32mNone\u001b[0m\u001b[1;33m,\u001b[0m \u001b[0mlevel\u001b[0m\u001b[1;33m=\u001b[0m\u001b[1;32mNone\u001b[0m\u001b[1;33m,\u001b[0m \u001b[0mlimit\u001b[0m\u001b[1;33m=\u001b[0m\u001b[1;32mNone\u001b[0m\u001b[1;33m,\u001b[0m \u001b[0mtolerance\u001b[0m\u001b[1;33m=\u001b[0m\u001b[1;32mNone\u001b[0m\u001b[1;33m)\u001b[0m\u001b[1;33m:\u001b[0m\u001b[1;33m\u001b[0m\u001b[1;33m\u001b[0m\u001b[0m\n",
      "\u001b[1;31mValueError\u001b[0m: cannot reindex from a duplicate axis"
     ]
    }
   ],
   "source": [
    "train = train.drop(['ApplicantIncome','CoapplicantIncome','LoanAmount_log','Loan_Amount_Term'],axis=1)\n",
    "train['Dependents'] = train['Dependents'].map({'0':0,'1':1,'2':2,'3+':3})\n",
    "train = pd.concat([ctrain,sdf,train],axis=1)\n",
    "train = pd.DataFrame(data=train,columns=['Gender_Female', 'Gender_Male','Married_No', 'Married_Yes', 'Dependents', 'Education_Graduate', 'Education_Not Graduate','Self_Employed_No','Self_Employed_Yes','ApplicantIncome', 'CoapplicantIncome', 'LoanAmount_log','Loan_Amount_Term','Credit_History', 'Property_Area_Rural', 'Property_Area_Semiurban','Property_Area_Urban', 'Loan_Status'])\n",
    "train.head()"
   ]
  },
  {
   "cell_type": "code",
   "execution_count": 36,
   "metadata": {
    "ExecuteTime": {
     "end_time": "2021-05-09T06:31:36.690200Z",
     "start_time": "2021-05-09T06:31:36.668480Z"
    }
   },
   "outputs": [],
   "source": [
    "X = train.iloc[:,:-1]\n",
    "y = train.iloc[:,-1]"
   ]
  },
  {
   "cell_type": "code",
   "execution_count": 37,
   "metadata": {},
   "outputs": [],
   "source": [
    "#!pip install yellowbrick"
   ]
  },
  {
   "cell_type": "code",
   "execution_count": 38,
   "metadata": {
    "ExecuteTime": {
     "end_time": "2021-05-09T06:31:45.267168Z",
     "start_time": "2021-05-09T06:31:43.197635Z"
    }
   },
   "outputs": [
    {
     "data": {
      "image/png": "[encoded data removed]",
      "text/plain": [
       "<Figure size 576x396 with 1 Axes>"
      ]
     },
     "metadata": {},
     "output_type": "display_data"
    },
    {
     "data": {
      "text/plain": [
       "<AxesSubplot:title={'center':'Shapiro Ranking of 17 Features'}>"
      ]
     },
     "execution_count": 38,
     "metadata": {},
     "output_type": "execute_result"
    }
   ],
   "source": [
    "from yellowbrick.features import Rank1D\n",
    "visualizer = Rank1D(algorithm='shapiro')\n",
    "visualizer.fit(X, y)           # Fit the data to the visualizer\n",
    "visualizer.transform(X)        # Transform the data\n",
    "visualizer.show() "
   ]
  },
  {
   "cell_type": "markdown",
   "metadata": {},
   "source": [
    "## Balancing Target Column - Upsampling"
   ]
  },
  {
   "cell_type": "code",
   "execution_count": 39,
   "metadata": {
    "ExecuteTime": {
     "end_time": "2021-05-09T06:31:58.923857Z",
     "start_time": "2021-05-09T06:31:58.656753Z"
    }
   },
   "outputs": [],
   "source": [
    "from imblearn.combine import SMOTETomek\n",
    "# Performing Oversampling method to handle imbalanced data\n",
    "\n",
    "smk = SMOTETomek(random_state=42)\n",
    "X_res,y_res = smk.fit_resample(X,y)"
   ]
  },
  {
   "cell_type": "code",
   "execution_count": 40,
   "metadata": {
    "ExecuteTime": {
     "end_time": "2021-05-09T06:59:12.152092Z",
     "start_time": "2021-05-09T06:59:12.128591Z"
    }
   },
   "outputs": [
    {
     "data": {
      "text/plain": [
       "((804, 17), (804,), (614, 17), (614,))"
      ]
     },
     "execution_count": 40,
     "metadata": {},
     "output_type": "execute_result"
    }
   ],
   "source": [
    "X_res.shape,y_res.shape,X.shape,y.shape"
   ]
  },
  {
   "cell_type": "code",
   "execution_count": null,
   "metadata": {
    "ExecuteTime": {
     "end_time": "2021-05-09T06:46:39.246372Z",
     "start_time": "2021-05-09T06:46:39.095678Z"
    }
   },
   "outputs": [],
   "source": []
  },
  {
   "cell_type": "code",
   "execution_count": null,
   "metadata": {},
   "outputs": [],
   "source": []
  },
  {
   "cell_type": "markdown",
   "metadata": {},
   "source": [
    "## Train-Test Split Model Validation Technique"
   ]
  },
  {
   "cell_type": "code",
   "execution_count": 41,
   "metadata": {
    "ExecuteTime": {
     "end_time": "2021-05-09T06:32:15.464518Z",
     "start_time": "2021-05-09T06:32:15.447255Z"
    }
   },
   "outputs": [],
   "source": [
    "X_train, X_test, y_train, y_test = train_test_split(X_res,y_res,test_size=0.2,random_state=42,stratify=y_res)"
   ]
  },
  {
   "cell_type": "markdown",
   "metadata": {},
   "source": [
    "## K-Fold Model Validation Technique"
   ]
  },
  {
   "cell_type": "code",
   "execution_count": 42,
   "metadata": {
    "ExecuteTime": {
     "end_time": "2021-05-09T16:16:16.413453Z",
     "start_time": "2021-05-09T16:16:16.382805Z"
    }
   },
   "outputs": [],
   "source": [
    "kfold = KFold(n_splits=20,shuffle=True,random_state=10)"
   ]
  },
  {
   "cell_type": "markdown",
   "metadata": {},
   "source": [
    "# 1. Logistic Regression"
   ]
  },
  {
   "cell_type": "code",
   "execution_count": 43,
   "metadata": {
    "ExecuteTime": {
     "end_time": "2021-05-09T06:34:01.866003Z",
     "start_time": "2021-05-09T06:34:01.792085Z"
    }
   },
   "outputs": [
    {
     "data": {
      "text/plain": [
       "(0.8087091757387247, 0.7763975155279503)"
      ]
     },
     "execution_count": 43,
     "metadata": {},
     "output_type": "execute_result"
    }
   ],
   "source": [
    "model1 = LogisticRegression(max_iter=500,random_state=10)\n",
    "model1.fit(X_train,y_train)\n",
    "result1 = model1.score(X_train,y_train)\n",
    "result2 = model1.score(X_test,y_test)\n",
    "result1,result2"
   ]
  },
  {
   "cell_type": "code",
   "execution_count": 44,
   "metadata": {
    "ExecuteTime": {
     "end_time": "2021-05-09T06:33:03.427528Z",
     "start_time": "2021-05-09T06:33:02.173885Z"
    }
   },
   "outputs": [
    {
     "data": {
      "text/plain": [
       "0.8221951219512196"
      ]
     },
     "execution_count": 44,
     "metadata": {},
     "output_type": "execute_result"
    }
   ],
   "source": [
    "model1 = LogisticRegression(max_iter=1500,random_state=10)\n",
    "model1.fit(X_res,y_res)\n",
    "result3 = cross_val_score(model1,X_res,y_res,cv=kfold)\n",
    "result3.mean()"
   ]
  },
  {
   "cell_type": "code",
   "execution_count": 45,
   "metadata": {
    "ExecuteTime": {
     "end_time": "2021-05-06T16:46:27.280197Z",
     "start_time": "2021-05-06T16:46:26.863515Z"
    },
    "scrolled": true
   },
   "outputs": [
    {
     "data": {
      "image/png": "[encoded data removed]",
      "text/plain": [
       "<Figure size 576x396 with 1 Axes>"
      ]
     },
     "metadata": {},
     "output_type": "display_data"
    },
    {
     "data": {
      "text/plain": [
       "<AxesSubplot:title={'center':'ROC Curves for LogisticRegression'}, xlabel='False Positive Rate', ylabel='True Positive Rate'>"
      ]
     },
     "execution_count": 45,
     "metadata": {},
     "output_type": "execute_result"
    }
   ],
   "source": [
    "from yellowbrick.classifier import ROCAUC\n",
    "visualizer1 = ROCAUC(model1, classes=[\"Yes\", \"No\"])\n",
    "visualizer1.fit(X_train, y_train)        # Fit the training data to the visualizer\n",
    "visualizer1.score(X_test, y_test)        # Evaluate the model on the test data\n",
    "visualizer1.show()"
   ]
  },
  {
   "cell_type": "markdown",
   "metadata": {},
   "source": [
    "USING RECURSIVE FEATURE ELIMINATION:"
   ]
  },
  {
   "cell_type": "code",
   "execution_count": 46,
   "metadata": {
    "ExecuteTime": {
     "end_time": "2021-05-09T16:32:17.780430Z",
     "start_time": "2021-05-09T16:32:17.544863Z"
    }
   },
   "outputs": [],
   "source": [
    "from sklearn.linear_model import LogisticRegression\n",
    "from sklearn.feature_selection import RFE\n",
    "model = LogisticRegression(max_iter=400)\n",
    "rfe = RFE(model, 10)\n",
    "fit = rfe.fit(X_res, y_res)"
   ]
  },
  {
   "cell_type": "code",
   "execution_count": 47,
   "metadata": {
    "ExecuteTime": {
     "end_time": "2021-05-09T16:32:18.605195Z",
     "start_time": "2021-05-09T16:32:18.591867Z"
    }
   },
   "outputs": [
    {
     "data": {
      "text/plain": [
       "array([False, False,  True,  True, False,  True,  True,  True,  True,\n",
       "       False, False, False, False,  True,  True,  True,  True])"
      ]
     },
     "execution_count": 47,
     "metadata": {},
     "output_type": "execute_result"
    }
   ],
   "source": [
    "fit.support_"
   ]
  },
  {
   "cell_type": "code",
   "execution_count": 48,
   "metadata": {
    "ExecuteTime": {
     "end_time": "2021-05-09T16:32:29.061743Z",
     "start_time": "2021-05-09T16:32:29.046840Z"
    }
   },
   "outputs": [
    {
     "data": {
      "text/plain": [
       "array([2, 3, 1, 1, 6, 1, 1, 1, 1, 5, 7, 4, 8, 1, 1, 1, 1])"
      ]
     },
     "execution_count": 48,
     "metadata": {},
     "output_type": "execute_result"
    }
   ],
   "source": [
    "# Feature Ranking:\n",
    "fit.ranking_"
   ]
  },
  {
   "cell_type": "code",
   "execution_count": 49,
   "metadata": {
    "ExecuteTime": {
     "end_time": "2021-05-09T16:33:08.617260Z",
     "start_time": "2021-05-09T16:33:08.594149Z"
    },
    "scrolled": true
   },
   "outputs": [
    {
     "data": {
      "text/plain": [
       "Index(['Gender_Female', 'Gender_Male', 'Married_No', 'Married_Yes',\n",
       "       'Dependents', 'Education_Graduate', 'Education_Not Graduate',\n",
       "       'Self_Employed_No', 'Self_Employed_Yes', 'ApplicantIncome',\n",
       "       'CoapplicantIncome', 'LoanAmount_log', 'Loan_Amount_Term',\n",
       "       'Credit_History', 'Property_Area_Rural', 'Property_Area_Semiurban',\n",
       "       'Property_Area_Urban', 'Loan_Status'],\n",
       "      dtype='object')"
      ]
     },
     "execution_count": 49,
     "metadata": {},
     "output_type": "execute_result"
    }
   ],
   "source": [
    "train.columns"
   ]
  },
  {
   "cell_type": "code",
   "execution_count": 50,
   "metadata": {
    "ExecuteTime": {
     "end_time": "2021-05-09T16:40:47.103054Z",
     "start_time": "2021-05-09T16:40:47.089058Z"
    }
   },
   "outputs": [],
   "source": [
    "x1=train[[ 'Married_No', 'Married_Yes',\n",
    "        'Education_Graduate', 'Education_Not Graduate',\n",
    "       'Self_Employed_No', 'Self_Employed_Yes', 'Property_Area_Rural', 'Property_Area_Semiurban',\n",
    "       'Property_Area_Urban', 'Loan_Status']]"
   ]
  },
  {
   "cell_type": "code",
   "execution_count": null,
   "metadata": {},
   "outputs": [],
   "source": []
  },
  {
   "cell_type": "code",
   "execution_count": 51,
   "metadata": {
    "ExecuteTime": {
     "end_time": "2021-05-06T16:46:28.856234Z",
     "start_time": "2021-05-06T16:46:28.640596Z"
    }
   },
   "outputs": [
    {
     "data": {
      "image/png": "[encoded data removed]",
      "text/plain": [
       "<Figure size 576x396 with 1 Axes>"
      ]
     },
     "metadata": {},
     "output_type": "display_data"
    },
    {
     "data": {
      "text/plain": [
       "<AxesSubplot:title={'center':'LogisticRegression Confusion Matrix'}, xlabel='Predicted Class', ylabel='True Class'>"
      ]
     },
     "execution_count": 51,
     "metadata": {},
     "output_type": "execute_result"
    }
   ],
   "source": [
    "from yellowbrick.classifier import ConfusionMatrix\n",
    "classes = ['Yes','No']\n",
    "# The ConfusionMatrix visualizer taxes a model\n",
    "cm1 = ConfusionMatrix(model1, classes=classes)\n",
    "\n",
    "# Fit fits the passed model. This is unnecessary if you pass the visualizer a pre-fitted model\n",
    "cm1.fit(X_train, y_train)\n",
    "\n",
    "# To create the ConfusionMatrix, we need some test data. Score runs predict() on the data\n",
    "# and then creates the confusion_matrix from scikit-learn.\n",
    "cm1.score(X_test, y_test)\n",
    "\n",
    "cm1.show()"
   ]
  },
  {
   "cell_type": "markdown",
   "metadata": {},
   "source": [
    "# 2. Decision Tree"
   ]
  },
  {
   "cell_type": "code",
   "execution_count": 52,
   "metadata": {
    "ExecuteTime": {
     "end_time": "2021-05-09T07:03:46.304163Z",
     "start_time": "2021-05-09T06:59:18.899644Z"
    }
   },
   "outputs": [
    {
     "data": {
      "text/plain": [
       "GridSearchCV(estimator=DecisionTreeClassifier(random_state=10),\n",
       "             param_grid=[{'criterion': ['entropy', 'gini'],\n",
       "                          'max_depth': [3, 4, 5, 6, 7, 8, 9, 10],\n",
       "                          'max_leaf_nodes': [3, 4, 5, 6, 7, 8, 9, 10],\n",
       "                          'min_samples_leaf': [3, 4, 5, 6, 7, 8, 9, 10],\n",
       "                          'min_samples_split': [3, 4, 5, 6, 7, 8, 9, 10]}])"
      ]
     },
     "execution_count": 52,
     "metadata": {},
     "output_type": "execute_result"
    }
   ],
   "source": [
    "dtmodel = DecisionTreeClassifier(random_state=10)\n",
    "a=[3,4,5,6,7,8,9,10]\n",
    "parameter = [{'max_depth':a,'max_leaf_nodes':a,'criterion':['entropy','gini'],'min_samples_split':a,'min_samples_leaf':a}]\n",
    "gridparam = GridSearchCV(dtmodel,parameter)\n",
    "gridparam.fit(X_res,y_res)"
   ]
  },
  {
   "cell_type": "code",
   "execution_count": 53,
   "metadata": {
    "ExecuteTime": {
     "end_time": "2021-05-09T09:02:34.747458Z",
     "start_time": "2021-05-09T09:02:34.739458Z"
    }
   },
   "outputs": [
    {
     "data": {
      "text/plain": [
       "{'criterion': 'gini',\n",
       " 'max_depth': 4,\n",
       " 'max_leaf_nodes': 9,\n",
       " 'min_samples_leaf': 5,\n",
       " 'min_samples_split': 3}"
      ]
     },
     "execution_count": 53,
     "metadata": {},
     "output_type": "execute_result"
    }
   ],
   "source": [
    "gridparam.best_params_"
   ]
  },
  {
   "cell_type": "code",
   "execution_count": 54,
   "metadata": {
    "ExecuteTime": {
     "end_time": "2021-05-09T16:17:25.028969Z",
     "start_time": "2021-05-09T16:17:24.708946Z"
    }
   },
   "outputs": [
    {
     "data": {
      "text/plain": [
       "0.7873170731707317"
      ]
     },
     "execution_count": 54,
     "metadata": {},
     "output_type": "execute_result"
    }
   ],
   "source": [
    "model2 = DecisionTreeClassifier(random_state=10,max_depth=4,criterion='gini',max_leaf_nodes=8,min_samples_split=3,min_samples_leaf=3)\n",
    "model2.fit(X_res,y_res)\n",
    "result4 = cross_val_score(model2,X_res,y_res,cv=kfold)\n",
    "result4.mean()"
   ]
  },
  {
   "cell_type": "code",
   "execution_count": 55,
   "metadata": {
    "ExecuteTime": {
     "end_time": "2021-05-09T16:17:27.718032Z",
     "start_time": "2021-05-09T16:17:27.687184Z"
    }
   },
   "outputs": [
    {
     "data": {
      "text/plain": [
       "(0.7900466562986003, 0.7577639751552795)"
      ]
     },
     "execution_count": 55,
     "metadata": {},
     "output_type": "execute_result"
    }
   ],
   "source": [
    "model2.fit(X_train,y_train)\n",
    "result5 = model2.score(X_train,y_train)\n",
    "result6 = model2.score(X_test,y_test)\n",
    "result5,result6"
   ]
  },
  {
   "cell_type": "code",
   "execution_count": 56,
   "metadata": {
    "ExecuteTime": {
     "end_time": "2021-05-06T16:54:09.319696Z",
     "start_time": "2021-05-06T16:54:08.887388Z"
    }
   },
   "outputs": [
    {
     "data": {
      "image/png": "[encoded data removed]",
      "text/plain": [
       "<Figure size 576x396 with 1 Axes>"
      ]
     },
     "metadata": {},
     "output_type": "display_data"
    },
    {
     "data": {
      "text/plain": [
       "<AxesSubplot:title={'center':'ROC Curves for DecisionTreeClassifier'}, xlabel='False Positive Rate', ylabel='True Positive Rate'>"
      ]
     },
     "execution_count": 56,
     "metadata": {},
     "output_type": "execute_result"
    }
   ],
   "source": [
    "from yellowbrick.classifier import ROCAUC\n",
    "visualizer2 = ROCAUC(model2, classes=[\"Yes\", \"No\"])\n",
    "visualizer2.fit(X_train, y_train)        # Fit the training data to the visualizer\n",
    "visualizer2.score(X_test, y_test)        # Evaluate the model on the test data\n",
    "visualizer2.show()"
   ]
  },
  {
   "cell_type": "code",
   "execution_count": 57,
   "metadata": {
    "ExecuteTime": {
     "end_time": "2021-05-06T16:54:10.940009Z",
     "start_time": "2021-05-06T16:54:10.708242Z"
    }
   },
   "outputs": [
    {
     "data": {
      "image/png": "[encoded data removed]",
      "text/plain": [
       "<Figure size 576x396 with 1 Axes>"
      ]
     },
     "metadata": {},
     "output_type": "display_data"
    },
    {
     "data": {
      "text/plain": [
       "<AxesSubplot:title={'center':'DecisionTreeClassifier Confusion Matrix'}, xlabel='Predicted Class', ylabel='True Class'>"
      ]
     },
     "execution_count": 57,
     "metadata": {},
     "output_type": "execute_result"
    }
   ],
   "source": [
    "from yellowbrick.classifier import ConfusionMatrix\n",
    "\n",
    "# The ConfusionMatrix visualizer taxes a model\n",
    "cm2 = ConfusionMatrix(model2, classes=classes)\n",
    "\n",
    "# Fit fits the passed model. This is unnecessary if you pass the visualizer a pre-fitted model\n",
    "cm2.fit(X_train, y_train)\n",
    "\n",
    "# To create the ConfusionMatrix, we need some test data. Score runs predict() on the data\n",
    "# and then creates the confusion_matrix from scikit-learn.\n",
    "cm2.score(X_test, y_test)\n",
    "\n",
    "cm2.show()"
   ]
  },
  {
   "cell_type": "markdown",
   "metadata": {},
   "source": [
    "# 3. Bagging Classifier"
   ]
  },
  {
   "cell_type": "code",
   "execution_count": 58,
   "metadata": {
    "ExecuteTime": {
     "end_time": "2021-05-06T16:58:57.389110Z",
     "start_time": "2021-05-06T16:54:56.753025Z"
    }
   },
   "outputs": [
    {
     "data": {
      "text/plain": [
       "GridSearchCV(estimator=BaggingClassifier(),\n",
       "             param_grid=[{'base_estimator': [DecisionTreeClassifier(max_depth=4,\n",
       "                                                                    max_leaf_nodes=5,\n",
       "                                                                    min_samples_leaf=3,\n",
       "                                                                    min_samples_split=6,\n",
       "                                                                    random_state=10),\n",
       "                                             LogisticRegression(max_iter=1000,\n",
       "                                                                solver='liblinear')],\n",
       "                          'n_estimators': [100, 200, 300, 400, 500, 600, 700,\n",
       "                                           800, 900, 1000]}])"
      ]
     },
     "execution_count": 58,
     "metadata": {},
     "output_type": "execute_result"
    }
   ],
   "source": [
    "num1_trees = [100,200,300,400,500,600,700,800,900,1000]\n",
    "cart1 = DecisionTreeClassifier(random_state=10,max_depth=4,max_leaf_nodes=5,min_samples_leaf=3,min_samples_split=6,criterion='gini')\n",
    "a = LogisticRegression(max_iter=1000,solver='liblinear')\n",
    "parameter = [{'base_estimator':[cart1,a],'n_estimators':num1_trees}]\n",
    "gB_model = BaggingClassifier()\n",
    "gridBagging = GridSearchCV(gB_model,parameter)\n",
    "gridBagging.fit(X_res,y_res)"
   ]
  },
  {
   "cell_type": "code",
   "execution_count": 59,
   "metadata": {
    "ExecuteTime": {
     "end_time": "2021-05-06T17:01:20.055583Z",
     "start_time": "2021-05-06T17:01:20.039940Z"
    }
   },
   "outputs": [
    {
     "data": {
      "text/plain": [
       "{'base_estimator': DecisionTreeClassifier(max_depth=4, max_leaf_nodes=5, min_samples_leaf=3,\n",
       "                        min_samples_split=6, random_state=10),\n",
       " 'n_estimators': 300}"
      ]
     },
     "execution_count": 59,
     "metadata": {},
     "output_type": "execute_result"
    }
   ],
   "source": [
    "gridBagging.best_params_"
   ]
  },
  {
   "cell_type": "code",
   "execution_count": 60,
   "metadata": {
    "ExecuteTime": {
     "end_time": "2021-05-06T17:02:00.983693Z",
     "start_time": "2021-05-06T17:01:52.867058Z"
    }
   },
   "outputs": [
    {
     "data": {
      "text/plain": [
       "0.7860670731707318"
      ]
     },
     "execution_count": 60,
     "metadata": {},
     "output_type": "execute_result"
    }
   ],
   "source": [
    "cart2 = DecisionTreeClassifier(random_state=10,max_depth=4,max_leaf_nodes=5,min_samples_leaf=3,min_samples_split=6,criterion='gini')\n",
    "model3 = BaggingClassifier(base_estimator=cart2,n_estimators=100)\n",
    "model3.fit(X_res,y_res)\n",
    "result7 = cross_val_score(model3,X_res,y_res,cv=kfold)\n",
    "result7.mean()"
   ]
  },
  {
   "cell_type": "code",
   "execution_count": 61,
   "metadata": {
    "ExecuteTime": {
     "end_time": "2021-05-06T17:02:06.206362Z",
     "start_time": "2021-05-06T17:02:05.751875Z"
    }
   },
   "outputs": [
    {
     "data": {
      "text/plain": [
       "(0.7884914463452566, 0.7950310559006211)"
      ]
     },
     "execution_count": 61,
     "metadata": {},
     "output_type": "execute_result"
    }
   ],
   "source": [
    "model3.fit(X_train,y_train)\n",
    "result8 = model3.score(X_train,y_train)\n",
    "result9 = model3.score(X_test,y_test)\n",
    "result8,result9"
   ]
  },
  {
   "cell_type": "code",
   "execution_count": 62,
   "metadata": {
    "ExecuteTime": {
     "end_time": "2021-05-06T17:02:11.599541Z",
     "start_time": "2021-05-06T17:02:11.151486Z"
    }
   },
   "outputs": [
    {
     "data": {
      "image/png": "[encoded data removed]",
      "text/plain": [
       "<Figure size 576x396 with 1 Axes>"
      ]
     },
     "metadata": {},
     "output_type": "display_data"
    },
    {
     "data": {
      "text/plain": [
       "<AxesSubplot:title={'center':'ROC Curves for BaggingClassifier'}, xlabel='False Positive Rate', ylabel='True Positive Rate'>"
      ]
     },
     "execution_count": 62,
     "metadata": {},
     "output_type": "execute_result"
    }
   ],
   "source": [
    "visualizer3 = ROCAUC(model3, classes=[\"Yes\", \"No\"])\n",
    "visualizer3.fit(X_train, y_train)        # Fit the training data to the visualizer\n",
    "visualizer3.score(X_test, y_test)        # Evaluate the model on the test data\n",
    "visualizer3.show()"
   ]
  },
  {
   "cell_type": "code",
   "execution_count": 63,
   "metadata": {
    "ExecuteTime": {
     "end_time": "2021-05-06T17:02:12.069683Z",
     "start_time": "2021-05-06T17:02:11.768879Z"
    }
   },
   "outputs": [
    {
     "data": {
      "image/png": "[encoded data removed]",
      "text/plain": [
       "<Figure size 576x396 with 1 Axes>"
      ]
     },
     "metadata": {},
     "output_type": "display_data"
    },
    {
     "data": {
      "text/plain": [
       "<AxesSubplot:title={'center':'BaggingClassifier Confusion Matrix'}, xlabel='Predicted Class', ylabel='True Class'>"
      ]
     },
     "execution_count": 63,
     "metadata": {},
     "output_type": "execute_result"
    }
   ],
   "source": [
    "# The ConfusionMatrix visualizer taxes a model\n",
    "cm3 = ConfusionMatrix(model3, classes=classes)\n",
    "cm3.fit(X_train, y_train)\n",
    "cm3.score(X_test, y_test)\n",
    "cm3.show()"
   ]
  },
  {
   "cell_type": "markdown",
   "metadata": {},
   "source": [
    "# 4. Random Forest Classifier"
   ]
  },
  {
   "cell_type": "code",
   "execution_count": 64,
   "metadata": {
    "ExecuteTime": {
     "end_time": "2021-05-06T17:06:02.375352Z",
     "start_time": "2021-05-06T17:02:15.866681Z"
    }
   },
   "outputs": [
    {
     "data": {
      "text/plain": [
       "GridSearchCV(estimator=RandomForestClassifier(),\n",
       "             param_grid=[{'criterion': ['gini', 'entropy'],\n",
       "                          'max_depth': range(2, 10),\n",
       "                          'max_leaf_nodes': range(2, 10)}])"
      ]
     },
     "execution_count": 64,
     "metadata": {},
     "output_type": "execute_result"
    }
   ],
   "source": [
    "a = range(2,10)\n",
    "parameter = [{'criterion':['gini','entropy'],'max_depth':a,'max_leaf_nodes':a}]\n",
    "Rmodel = RandomForestClassifier()\n",
    "gridRF = GridSearchCV(Rmodel,parameter)\n",
    "gridRF.fit(X_res,y_res)"
   ]
  },
  {
   "cell_type": "code",
   "execution_count": 65,
   "metadata": {
    "ExecuteTime": {
     "end_time": "2021-05-06T17:09:51.368218Z",
     "start_time": "2021-05-06T17:09:51.352596Z"
    }
   },
   "outputs": [
    {
     "data": {
      "text/plain": [
       "{'criterion': 'gini', 'max_depth': 9, 'max_leaf_nodes': 9}"
      ]
     },
     "execution_count": 65,
     "metadata": {},
     "output_type": "execute_result"
    }
   ],
   "source": [
    "gridRF.best_params_"
   ]
  },
  {
   "cell_type": "code",
   "execution_count": 66,
   "metadata": {
    "ExecuteTime": {
     "end_time": "2021-05-06T17:12:41.856221Z",
     "start_time": "2021-05-06T17:11:54.089149Z"
    }
   },
   "outputs": [
    {
     "data": {
      "text/plain": [
       "0.7874085365853658"
      ]
     },
     "execution_count": 66,
     "metadata": {},
     "output_type": "execute_result"
    }
   ],
   "source": [
    "model4 = RandomForestClassifier(n_estimators=600,criterion='entropy', max_depth=9, max_leaf_nodes=9,random_state=10)\n",
    "kfold = KFold(n_splits=20,shuffle=True,random_state=10)\n",
    "model4.fit(X_res,y_res)\n",
    "result10 = cross_val_score(model4,X_res,y_res,cv=kfold)\n",
    "result10.mean()"
   ]
  },
  {
   "cell_type": "code",
   "execution_count": 67,
   "metadata": {
    "ExecuteTime": {
     "end_time": "2021-05-06T17:13:13.038225Z",
     "start_time": "2021-05-06T17:13:11.015155Z"
    }
   },
   "outputs": [
    {
     "data": {
      "text/plain": [
       "(0.8320373250388803, 0.8136645962732919)"
      ]
     },
     "execution_count": 67,
     "metadata": {},
     "output_type": "execute_result"
    }
   ],
   "source": [
    "model4.fit(X_train,y_train)\n",
    "result11 = model4.score(X_train,y_train)\n",
    "result12 = model4.score(X_test,y_test)\n",
    "result11,result12"
   ]
  },
  {
   "cell_type": "code",
   "execution_count": 68,
   "metadata": {
    "ExecuteTime": {
     "end_time": "2021-05-06T17:13:18.999197Z",
     "start_time": "2021-05-06T17:13:18.286605Z"
    }
   },
   "outputs": [
    {
     "data": {
      "image/png": "[encoded data removed]",
      "text/plain": [
       "<Figure size 576x396 with 1 Axes>"
      ]
     },
     "metadata": {},
     "output_type": "display_data"
    },
    {
     "data": {
      "text/plain": [
       "<AxesSubplot:title={'center':'ROC Curves for RandomForestClassifier'}, xlabel='False Positive Rate', ylabel='True Positive Rate'>"
      ]
     },
     "execution_count": 68,
     "metadata": {},
     "output_type": "execute_result"
    }
   ],
   "source": [
    "visualizer4 = ROCAUC(model4, classes=[\"Yes\", \"No\"])\n",
    "visualizer4.fit(X_train, y_train)        # Fit the training data to the visualizer\n",
    "visualizer4.score(X_test, y_test)        # Evaluate the model on the test data\n",
    "visualizer4.show()"
   ]
  },
  {
   "cell_type": "code",
   "execution_count": 69,
   "metadata": {
    "ExecuteTime": {
     "end_time": "2021-05-06T17:13:20.323449Z",
     "start_time": "2021-05-06T17:13:19.876585Z"
    }
   },
   "outputs": [
    {
     "data": {
      "image/png": "[encoded data removed]",
      "text/plain": [
       "<Figure size 576x396 with 1 Axes>"
      ]
     },
     "metadata": {},
     "output_type": "display_data"
    },
    {
     "data": {
      "text/plain": [
       "<AxesSubplot:title={'center':'RandomForestClassifier Confusion Matrix'}, xlabel='Predicted Class', ylabel='True Class'>"
      ]
     },
     "execution_count": 69,
     "metadata": {},
     "output_type": "execute_result"
    }
   ],
   "source": [
    "# The ConfusionMatrix visualizer taxes a model\n",
    "cm4 = ConfusionMatrix(model4, classes=classes)\n",
    "cm4.fit(X_train, y_train)\n",
    "cm4.score(X_test, y_test)\n",
    "cm4.show()"
   ]
  },
  {
   "cell_type": "markdown",
   "metadata": {},
   "source": [
    "# 5. Ada-Boost Classifier"
   ]
  },
  {
   "cell_type": "code",
   "execution_count": 70,
   "metadata": {
    "ExecuteTime": {
     "end_time": "2021-05-06T17:15:07.159462Z",
     "start_time": "2021-05-06T17:13:32.449506Z"
    }
   },
   "outputs": [
    {
     "data": {
      "text/plain": [
       "0.8134756097560976"
      ]
     },
     "execution_count": 70,
     "metadata": {},
     "output_type": "execute_result"
    }
   ],
   "source": [
    "model5 = AdaBoostClassifier(base_estimator=cart2,n_estimators=1000,random_state=10)\n",
    "model5.fit(X_res,y_res)\n",
    "result13 = cross_val_score(model5,X_res,y_res,cv=kfold)\n",
    "result13.mean()"
   ]
  },
  {
   "cell_type": "code",
   "execution_count": 71,
   "metadata": {
    "ExecuteTime": {
     "end_time": "2021-05-06T17:15:59.341549Z",
     "start_time": "2021-05-06T17:15:54.744247Z"
    }
   },
   "outputs": [
    {
     "data": {
      "text/plain": [
       "(1.0, 0.782608695652174)"
      ]
     },
     "execution_count": 71,
     "metadata": {},
     "output_type": "execute_result"
    }
   ],
   "source": [
    "model5.fit(X_train,y_train)\n",
    "result14 = model5.score(X_train,y_train)\n",
    "result15 = model5.score(X_test,y_test)\n",
    "result14,result15"
   ]
  },
  {
   "cell_type": "code",
   "execution_count": 72,
   "metadata": {
    "ExecuteTime": {
     "end_time": "2021-05-06T17:16:04.274029Z",
     "start_time": "2021-05-06T17:16:03.255677Z"
    }
   },
   "outputs": [
    {
     "data": {
      "image/png": "[encoded data removed]",
      "text/plain": [
       "<Figure size 576x396 with 1 Axes>"
      ]
     },
     "metadata": {},
     "output_type": "display_data"
    },
    {
     "data": {
      "text/plain": [
       "<AxesSubplot:title={'center':'ROC Curves for AdaBoostClassifier'}, xlabel='False Positive Rate', ylabel='True Positive Rate'>"
      ]
     },
     "execution_count": 72,
     "metadata": {},
     "output_type": "execute_result"
    }
   ],
   "source": [
    "visualizer5 = ROCAUC(model5, classes=[\"Yes\", \"No\"])\n",
    "visualizer5.fit(X_train, y_train)        # Fit the training data to the visualizer\n",
    "visualizer5.score(X_test, y_test)        # Evaluate the model on the test data\n",
    "visualizer5.show()"
   ]
  },
  {
   "cell_type": "code",
   "execution_count": 73,
   "metadata": {
    "ExecuteTime": {
     "end_time": "2021-05-06T17:16:05.214289Z",
     "start_time": "2021-05-06T17:16:04.274029Z"
    }
   },
   "outputs": [
    {
     "data": {
      "image/png": "[encoded data removed]",
      "text/plain": [
       "<Figure size 576x396 with 1 Axes>"
      ]
     },
     "metadata": {},
     "output_type": "display_data"
    },
    {
     "data": {
      "text/plain": [
       "<AxesSubplot:title={'center':'AdaBoostClassifier Confusion Matrix'}, xlabel='Predicted Class', ylabel='True Class'>"
      ]
     },
     "execution_count": 73,
     "metadata": {},
     "output_type": "execute_result"
    }
   ],
   "source": [
    "# The ConfusionMatrix visualizer taxes a model\n",
    "cm5 = ConfusionMatrix(model5, classes=classes)\n",
    "cm5.fit(X_train, y_train)\n",
    "cm5.score(X_test, y_test)\n",
    "cm5.show()"
   ]
  },
  {
   "cell_type": "markdown",
   "metadata": {},
   "source": [
    "# 6. STACKING"
   ]
  },
  {
   "cell_type": "code",
   "execution_count": 74,
   "metadata": {
    "ExecuteTime": {
     "end_time": "2021-05-06T17:16:12.080496Z",
     "start_time": "2021-05-06T17:16:12.049265Z"
    }
   },
   "outputs": [],
   "source": [
    "estimators = []\n",
    "model_1 = LogisticRegression(max_iter=1500,random_state=10)\n",
    "estimators.append(('Logistic Regression', model_1))\n",
    "model_2 = DecisionTreeClassifier(random_state=10,max_depth=6,criterion='gini',max_leaf_nodes=7,min_samples_split=9,min_samples_leaf=3)\n",
    "estimators.append(('Decision Tree', model_2))\n",
    "model_3 = SVC(random_state=10)\n",
    "estimators.append(('SVM', model_3))\n",
    "model_4 = BaggingClassifier(base_estimator=cart2,n_estimators=700,random_state=10)\n",
    "estimators.append(('Bagging Classifier', model_4))\n",
    "model_5 = RandomForestClassifier(n_estimators=800,criterion='gini', max_depth=9, max_leaf_nodes=9,random_state=10)\n",
    "estimators.append(('Random Forest Classifier', model_5))\n",
    "model_6 = AdaBoostClassifier(base_estimator=cart2,n_estimators=1000,random_state=10)\n",
    "estimators.append(('AdaBoost Classifier', model_6))"
   ]
  },
  {
   "cell_type": "code",
   "execution_count": 75,
   "metadata": {
    "ExecuteTime": {
     "end_time": "2021-05-06T17:20:17.395745Z",
     "start_time": "2021-05-06T17:16:13.908292Z"
    }
   },
   "outputs": [
    {
     "data": {
      "text/plain": [
       "0.8196341463414634"
      ]
     },
     "execution_count": 75,
     "metadata": {},
     "output_type": "execute_result"
    }
   ],
   "source": [
    "model6 = VotingClassifier(estimators)\n",
    "kfold = KFold(n_splits=20,shuffle=True,random_state=10)\n",
    "model6.fit(X_res,y_res)\n",
    "result16 = cross_val_score(model6,X_res,y_res,cv=kfold)\n",
    "result16.mean() "
   ]
  },
  {
   "cell_type": "code",
   "execution_count": 76,
   "metadata": {
    "ExecuteTime": {
     "end_time": "2021-05-06T17:21:08.060913Z",
     "start_time": "2021-05-06T17:20:58.309359Z"
    }
   },
   "outputs": [
    {
     "data": {
      "text/plain": [
       "(0.8398133748055988, 0.8136645962732919)"
      ]
     },
     "execution_count": 76,
     "metadata": {},
     "output_type": "execute_result"
    }
   ],
   "source": [
    "model6.fit(X_train,y_train)\n",
    "result17 = model6.score(X_train,y_train)\n",
    "result18 = model6.score(X_test,y_test)\n",
    "result17,result18"
   ]
  },
  {
   "cell_type": "code",
   "execution_count": 77,
   "metadata": {
    "ExecuteTime": {
     "end_time": "2021-05-06T17:21:13.376247Z",
     "start_time": "2021-05-06T17:21:11.888539Z"
    }
   },
   "outputs": [
    {
     "data": {
      "image/png": "[encoded data removed]",
      "text/plain": [
       "<Figure size 576x396 with 1 Axes>"
      ]
     },
     "metadata": {},
     "output_type": "display_data"
    },
    {
     "data": {
      "text/plain": [
       "<AxesSubplot:title={'center':'VotingClassifier Confusion Matrix'}, xlabel='Predicted Class', ylabel='True Class'>"
      ]
     },
     "execution_count": 77,
     "metadata": {},
     "output_type": "execute_result"
    }
   ],
   "source": [
    "# The ConfusionMatrix visualizer taxes a model\n",
    "cm6 = ConfusionMatrix(model6, classes=classes)\n",
    "cm6.fit(X_train, y_train)\n",
    "cm6.score(X_test, y_test)\n",
    "cm6.show()"
   ]
  },
  {
   "cell_type": "markdown",
   "metadata": {},
   "source": [
    "# 7. XG-Boost"
   ]
  },
  {
   "cell_type": "code",
   "execution_count": 78,
   "metadata": {
    "ExecuteTime": {
     "end_time": "2021-05-06T17:21:23.800310Z",
     "start_time": "2021-05-06T17:21:17.995422Z"
    }
   },
   "outputs": [
    {
     "data": {
      "text/plain": [
       "0.8322256097560976"
      ]
     },
     "execution_count": 78,
     "metadata": {},
     "output_type": "execute_result"
    }
   ],
   "source": [
    "import warnings\n",
    "warnings.filterwarnings('ignore')\n",
    "model7 = XGBClassifier()\n",
    "kfold = KFold(n_splits=20,shuffle=True,random_state=10)\n",
    "model7.fit(X_res,y_res)\n",
    "result19 = cross_val_score(model7,X_res,y_res,cv=kfold)\n",
    "result19.mean()"
   ]
  },
  {
   "cell_type": "code",
   "execution_count": 79,
   "metadata": {
    "ExecuteTime": {
     "end_time": "2021-05-06T17:21:29.690349Z",
     "start_time": "2021-05-06T17:21:29.396531Z"
    }
   },
   "outputs": [
    {
     "data": {
      "text/plain": [
       "(1.0, 0.7763975155279503)"
      ]
     },
     "execution_count": 79,
     "metadata": {},
     "output_type": "execute_result"
    }
   ],
   "source": [
    "model7.fit(X_train,y_train)\n",
    "result20 = model7.score(X_train,y_train)\n",
    "result21 = model7.score(X_test,y_test)\n",
    "result20,result21"
   ]
  },
  {
   "cell_type": "code",
   "execution_count": 80,
   "metadata": {
    "ExecuteTime": {
     "end_time": "2021-05-06T17:21:31.864314Z",
     "start_time": "2021-05-06T17:21:31.373146Z"
    }
   },
   "outputs": [
    {
     "data": {
      "image/png": "[encoded data removed]",
      "text/plain": [
       "<Figure size 576x396 with 1 Axes>"
      ]
     },
     "metadata": {},
     "output_type": "display_data"
    },
    {
     "data": {
      "text/plain": [
       "<AxesSubplot:title={'center':'ROC Curves for XGBClassifier'}, xlabel='False Positive Rate', ylabel='True Positive Rate'>"
      ]
     },
     "execution_count": 80,
     "metadata": {},
     "output_type": "execute_result"
    }
   ],
   "source": [
    "visualizer7 = ROCAUC(model7, classes=[\"Yes\", \"No\"])\n",
    "visualizer7.fit(X_train, y_train)        # Fit the training data to the visualizer\n",
    "visualizer7.score(X_test, y_test)        # Evaluate the model on the test data\n",
    "visualizer7.show()"
   ]
  },
  {
   "cell_type": "code",
   "execution_count": 81,
   "metadata": {
    "ExecuteTime": {
     "end_time": "2021-05-06T17:21:35.747365Z",
     "start_time": "2021-05-06T17:21:35.499970Z"
    }
   },
   "outputs": [
    {
     "data": {
      "image/png": "[encoded data removed]",
      "text/plain": [
       "<Figure size 576x396 with 1 Axes>"
      ]
     },
     "metadata": {},
     "output_type": "display_data"
    },
    {
     "data": {
      "text/plain": [
       "<AxesSubplot:title={'center':'XGBClassifier Confusion Matrix'}, xlabel='Predicted Class', ylabel='True Class'>"
      ]
     },
     "execution_count": 81,
     "metadata": {},
     "output_type": "execute_result"
    }
   ],
   "source": [
    "# The ConfusionMatrix visualizer taxes a model\n",
    "cm7 = ConfusionMatrix(model7, classes=classes)\n",
    "cm7.fit(X_train, y_train)\n",
    "cm7.score(X_test, y_test)\n",
    "cm7.show()"
   ]
  },
  {
   "cell_type": "markdown",
   "metadata": {},
   "source": [
    "# 8. KNN Classifier"
   ]
  },
  {
   "cell_type": "code",
   "execution_count": 82,
   "metadata": {
    "ExecuteTime": {
     "end_time": "2021-05-06T17:21:43.606252Z",
     "start_time": "2021-05-06T17:21:39.579584Z"
    }
   },
   "outputs": [
    {
     "data": {
      "text/plain": [
       "GridSearchCV(estimator=KNeighborsClassifier(),\n",
       "             param_grid=[{'n_neighbors': range(2, 40)}])"
      ]
     },
     "execution_count": 82,
     "metadata": {},
     "output_type": "execute_result"
    }
   ],
   "source": [
    "kmodel = KNeighborsClassifier()\n",
    "param_grid = [{'n_neighbors':range(2,40)}]\n",
    "gsv = GridSearchCV(kmodel,param_grid)\n",
    "gsv.fit(X_res,y_res)"
   ]
  },
  {
   "cell_type": "code",
   "execution_count": 83,
   "metadata": {
    "ExecuteTime": {
     "end_time": "2021-05-06T17:21:49.897094Z",
     "start_time": "2021-05-06T17:21:49.865866Z"
    }
   },
   "outputs": [
    {
     "data": {
      "text/plain": [
       "({'n_neighbors': 3}, 0.7910481366459627)"
      ]
     },
     "execution_count": 83,
     "metadata": {},
     "output_type": "execute_result"
    }
   ],
   "source": [
    "gsv.best_params_,gsv.best_score_"
   ]
  },
  {
   "cell_type": "code",
   "execution_count": 84,
   "metadata": {
    "ExecuteTime": {
     "end_time": "2021-05-06T17:21:56.459905Z",
     "start_time": "2021-05-06T17:21:55.040486Z"
    }
   },
   "outputs": [
    {
     "data": {
      "text/html": [
       "<div>\n",
       "<style scoped>\n",
       "    .dataframe tbody tr th:only-of-type {\n",
       "        vertical-align: middle;\n",
       "    }\n",
       "\n",
       "    .dataframe tbody tr th {\n",
       "        vertical-align: top;\n",
       "    }\n",
       "\n",
       "    .dataframe thead th {\n",
       "        text-align: right;\n",
       "    }\n",
       "</style>\n",
       "<table border=\"1\" class=\"dataframe\">\n",
       "  <thead>\n",
       "    <tr style=\"text-align: right;\">\n",
       "      <th></th>\n",
       "      <th>n_neighbors</th>\n",
       "      <th>Train Accuracy</th>\n",
       "      <th>Test Accuracy</th>\n",
       "    </tr>\n",
       "  </thead>\n",
       "  <tbody>\n",
       "    <tr>\n",
       "      <th>0</th>\n",
       "      <td>2</td>\n",
       "      <td>0.911353</td>\n",
       "      <td>0.732919</td>\n",
       "    </tr>\n",
       "    <tr>\n",
       "      <th>1</th>\n",
       "      <td>3</td>\n",
       "      <td>0.911353</td>\n",
       "      <td>0.739130</td>\n",
       "    </tr>\n",
       "    <tr>\n",
       "      <th>2</th>\n",
       "      <td>4</td>\n",
       "      <td>0.866252</td>\n",
       "      <td>0.695652</td>\n",
       "    </tr>\n",
       "    <tr>\n",
       "      <th>3</th>\n",
       "      <td>5</td>\n",
       "      <td>0.861586</td>\n",
       "      <td>0.701863</td>\n",
       "    </tr>\n",
       "    <tr>\n",
       "      <th>4</th>\n",
       "      <td>6</td>\n",
       "      <td>0.827372</td>\n",
       "      <td>0.664596</td>\n",
       "    </tr>\n",
       "    <tr>\n",
       "      <th>5</th>\n",
       "      <td>7</td>\n",
       "      <td>0.832037</td>\n",
       "      <td>0.677019</td>\n",
       "    </tr>\n",
       "    <tr>\n",
       "      <th>6</th>\n",
       "      <td>8</td>\n",
       "      <td>0.805599</td>\n",
       "      <td>0.658385</td>\n",
       "    </tr>\n",
       "    <tr>\n",
       "      <th>7</th>\n",
       "      <td>9</td>\n",
       "      <td>0.802488</td>\n",
       "      <td>0.652174</td>\n",
       "    </tr>\n",
       "    <tr>\n",
       "      <th>8</th>\n",
       "      <td>10</td>\n",
       "      <td>0.786936</td>\n",
       "      <td>0.639752</td>\n",
       "    </tr>\n",
       "    <tr>\n",
       "      <th>9</th>\n",
       "      <td>11</td>\n",
       "      <td>0.796267</td>\n",
       "      <td>0.627329</td>\n",
       "    </tr>\n",
       "    <tr>\n",
       "      <th>10</th>\n",
       "      <td>12</td>\n",
       "      <td>0.786936</td>\n",
       "      <td>0.658385</td>\n",
       "    </tr>\n",
       "    <tr>\n",
       "      <th>11</th>\n",
       "      <td>13</td>\n",
       "      <td>0.793157</td>\n",
       "      <td>0.695652</td>\n",
       "    </tr>\n",
       "    <tr>\n",
       "      <th>12</th>\n",
       "      <td>14</td>\n",
       "      <td>0.783826</td>\n",
       "      <td>0.639752</td>\n",
       "    </tr>\n",
       "    <tr>\n",
       "      <th>13</th>\n",
       "      <td>15</td>\n",
       "      <td>0.776050</td>\n",
       "      <td>0.658385</td>\n",
       "    </tr>\n",
       "    <tr>\n",
       "      <th>14</th>\n",
       "      <td>16</td>\n",
       "      <td>0.774495</td>\n",
       "      <td>0.633540</td>\n",
       "    </tr>\n",
       "    <tr>\n",
       "      <th>15</th>\n",
       "      <td>17</td>\n",
       "      <td>0.754277</td>\n",
       "      <td>0.658385</td>\n",
       "    </tr>\n",
       "    <tr>\n",
       "      <th>16</th>\n",
       "      <td>18</td>\n",
       "      <td>0.744946</td>\n",
       "      <td>0.639752</td>\n",
       "    </tr>\n",
       "    <tr>\n",
       "      <th>17</th>\n",
       "      <td>19</td>\n",
       "      <td>0.741835</td>\n",
       "      <td>0.627329</td>\n",
       "    </tr>\n",
       "  </tbody>\n",
       "</table>\n",
       "</div>"
      ],
      "text/plain": [
       "    n_neighbors  Train Accuracy  Test Accuracy\n",
       "0             2        0.911353       0.732919\n",
       "1             3        0.911353       0.739130\n",
       "2             4        0.866252       0.695652\n",
       "3             5        0.861586       0.701863\n",
       "4             6        0.827372       0.664596\n",
       "5             7        0.832037       0.677019\n",
       "6             8        0.805599       0.658385\n",
       "7             9        0.802488       0.652174\n",
       "8            10        0.786936       0.639752\n",
       "9            11        0.796267       0.627329\n",
       "10           12        0.786936       0.658385\n",
       "11           13        0.793157       0.695652\n",
       "12           14        0.783826       0.639752\n",
       "13           15        0.776050       0.658385\n",
       "14           16        0.774495       0.633540\n",
       "15           17        0.754277       0.658385\n",
       "16           18        0.744946       0.639752\n",
       "17           19        0.741835       0.627329"
      ]
     },
     "execution_count": 84,
     "metadata": {},
     "output_type": "execute_result"
    }
   ],
   "source": [
    "result1 = []\n",
    "result2 = []\n",
    "for n in range(2,20):\n",
    "    model = KNeighborsClassifier(n_neighbors=n,metric='euclidean')\n",
    "    model.fit(X_train,y_train)\n",
    "    result1.append(model.score(X_train,y_train))\n",
    "    result2.append(model.score(X_test,y_test))\n",
    "frame = pd.DataFrame({'n_neighbors':range(2,20),'Train Accuracy':result1,'Test Accuracy':result2})\n",
    "frame"
   ]
  },
  {
   "cell_type": "code",
   "execution_count": 85,
   "metadata": {
    "ExecuteTime": {
     "end_time": "2021-05-06T17:21:59.576124Z",
     "start_time": "2021-05-06T17:21:59.259692Z"
    }
   },
   "outputs": [
    {
     "data": {
      "text/plain": [
       "[<matplotlib.lines.Line2D at 0x17805e37bb0>]"
      ]
     },
     "execution_count": 85,
     "metadata": {},
     "output_type": "execute_result"
    },
    {
     "data": {
      "image/png": "[encoded data removed]",
      "text/plain": [
       "<Figure size 576x396 with 1 Axes>"
      ]
     },
     "metadata": {},
     "output_type": "display_data"
    }
   ],
   "source": [
    "plt.plot(frame['n_neighbors'],frame['Train Accuracy'],marker='o')\n",
    "plt.plot(frame['n_neighbors'],frame['Test Accuracy'],marker='o')"
   ]
  },
  {
   "cell_type": "code",
   "execution_count": 86,
   "metadata": {
    "ExecuteTime": {
     "end_time": "2021-05-06T17:22:33.878497Z",
     "start_time": "2021-05-06T17:22:33.577706Z"
    }
   },
   "outputs": [
    {
     "data": {
      "text/plain": [
       "0.8120426829268294"
      ]
     },
     "execution_count": 86,
     "metadata": {},
     "output_type": "execute_result"
    }
   ],
   "source": [
    "model8 = KNeighborsClassifier(n_neighbors=3,metric='euclidean')\n",
    "model8.fit(X_res,y_res)\n",
    "result22=cross_val_score(model8, X_res,y_res,cv=kfold)\n",
    "result22.mean()"
   ]
  },
  {
   "cell_type": "code",
   "execution_count": 87,
   "metadata": {
    "ExecuteTime": {
     "end_time": "2021-05-06T17:22:48.049921Z",
     "start_time": "2021-05-06T17:22:47.933975Z"
    }
   },
   "outputs": [
    {
     "data": {
      "text/plain": [
       "(0.911353032659409, 0.7391304347826086)"
      ]
     },
     "execution_count": 87,
     "metadata": {},
     "output_type": "execute_result"
    }
   ],
   "source": [
    "model8 = KNeighborsClassifier(n_neighbors=3,metric='euclidean')\n",
    "model8.fit(X_train,y_train)\n",
    "result23 = model8.score(X_train,y_train)\n",
    "result24 = model8.score(X_test,y_test)\n",
    "result23,result24"
   ]
  },
  {
   "cell_type": "markdown",
   "metadata": {},
   "source": [
    "# 9. Naive Bayes Classifier"
   ]
  },
  {
   "cell_type": "code",
   "execution_count": 88,
   "metadata": {
    "ExecuteTime": {
     "end_time": "2021-05-06T17:22:52.558273Z",
     "start_time": "2021-05-06T17:22:52.511399Z"
    }
   },
   "outputs": [
    {
     "data": {
      "text/plain": [
       "(0.7791601866251944, 0.7453416149068323)"
      ]
     },
     "execution_count": 88,
     "metadata": {},
     "output_type": "execute_result"
    }
   ],
   "source": [
    "model9 = GaussianNB()\n",
    "model9.fit(X_train,y_train)\n",
    "result25 = model9.score(X_train,y_train)\n",
    "result26 = model9.score(X_test,y_test)\n",
    "result25,result26"
   ]
  },
  {
   "cell_type": "code",
   "execution_count": 89,
   "metadata": {
    "ExecuteTime": {
     "end_time": "2021-05-06T17:22:55.179168Z",
     "start_time": "2021-05-06T17:22:54.931757Z"
    }
   },
   "outputs": [
    {
     "data": {
      "text/plain": [
       "0.7699390243902439"
      ]
     },
     "execution_count": 89,
     "metadata": {},
     "output_type": "execute_result"
    }
   ],
   "source": [
    "model9.fit(X_res,y_res)\n",
    "result27=cross_val_score(model9, X_res,y_res,cv=kfold)\n",
    "result27.mean()"
   ]
  },
  {
   "cell_type": "markdown",
   "metadata": {},
   "source": [
    "# 10. Neural Network"
   ]
  },
  {
   "cell_type": "code",
   "execution_count": 90,
   "metadata": {
    "ExecuteTime": {
     "end_time": "2021-05-06T17:23:02.727103Z",
     "start_time": "2021-05-06T17:23:02.711497Z"
    }
   },
   "outputs": [],
   "source": [
    "# Import Library\n",
    "import keras\n",
    "import tensorflow as tf\n",
    "from keras.models import Sequential\n",
    "from keras.layers import InputLayer,Dense"
   ]
  },
  {
   "cell_type": "code",
   "execution_count": 91,
   "metadata": {
    "ExecuteTime": {
     "end_time": "2021-05-06T17:23:03.297544Z",
     "start_time": "2021-05-06T17:23:03.275384Z"
    }
   },
   "outputs": [],
   "source": [
    "# Defining different Layers\n",
    "input_neurons = X_train.shape[1]\n",
    "output_neurons = 1\n",
    "number_of_hidden_layers = 3\n",
    "neuron_hidden_layer_1 = 20\n",
    "neuron_hidden_layer_2 = 15\n",
    "neuron_hidden_layer_3 = 10"
   ]
  },
  {
   "cell_type": "code",
   "execution_count": 92,
   "metadata": {
    "ExecuteTime": {
     "end_time": "2021-05-06T17:23:03.914905Z",
     "start_time": "2021-05-06T17:23:03.745618Z"
    }
   },
   "outputs": [
    {
     "name": "stdout",
     "output_type": "stream",
     "text": [
      "Model: \"sequential\"\n",
      "_________________________________________________________________\n",
      "Layer (type)                 Output Shape              Param #   \n",
      "=================================================================\n",
      "dense (Dense)                (None, 20)                360       \n",
      "_________________________________________________________________\n",
      "dense_1 (Dense)              (None, 15)                315       \n",
      "_________________________________________________________________\n",
      "dense_2 (Dense)              (None, 10)                160       \n",
      "_________________________________________________________________\n",
      "dense_3 (Dense)              (None, 1)                 11        \n",
      "=================================================================\n",
      "Total params: 846\n",
      "Trainable params: 846\n",
      "Non-trainable params: 0\n",
      "_________________________________________________________________\n"
     ]
    }
   ],
   "source": [
    "model = Sequential()\n",
    "model.add(InputLayer(input_shape=(input_neurons,)))\n",
    "model.add(Dense(units=neuron_hidden_layer_1,activation = 'relu'))\n",
    "model.add(Dense(units=neuron_hidden_layer_2,activation = 'relu'))\n",
    "model.add(Dense(units=neuron_hidden_layer_3,activation = 'relu'))\n",
    "model.add(Dense(units=output_neurons,activation = 'sigmoid'))\n",
    "model.summary()"
   ]
  },
  {
   "cell_type": "code",
   "execution_count": 93,
   "metadata": {
    "ExecuteTime": {
     "end_time": "2021-05-06T17:23:04.601513Z",
     "start_time": "2021-05-06T17:23:04.548132Z"
    }
   },
   "outputs": [],
   "source": [
    "# Compile the model\n",
    "model.compile(loss='binary_crossentropy',optimizer='Adam',metrics=['accuracy'])"
   ]
  },
  {
   "cell_type": "code",
   "execution_count": 94,
   "metadata": {
    "ExecuteTime": {
     "end_time": "2021-05-06T17:23:28.977971Z",
     "start_time": "2021-05-06T17:23:05.421614Z"
    }
   },
   "outputs": [
    {
     "name": "stdout",
     "output_type": "stream",
     "text": [
      "Epoch 1/200\n",
      "21/21 [==============================] - 11s 233ms/step - loss: 0.6850 - accuracy: 0.5306 - val_loss: 0.6804 - val_accuracy: 0.5714\n",
      "Epoch 2/200\n",
      "21/21 [==============================] - 0s 11ms/step - loss: 0.6599 - accuracy: 0.5979 - val_loss: 0.6759 - val_accuracy: 0.5776\n",
      "Epoch 3/200\n",
      "21/21 [==============================] - 0s 9ms/step - loss: 0.6484 - accuracy: 0.6131 - val_loss: 0.6702 - val_accuracy: 0.5404\n",
      "Epoch 4/200\n",
      "21/21 [==============================] - 0s 9ms/step - loss: 0.6195 - accuracy: 0.6663 - val_loss: 0.6652 - val_accuracy: 0.5714\n",
      "Epoch 5/200\n",
      "21/21 [==============================] - 0s 10ms/step - loss: 0.6077 - accuracy: 0.6646 - val_loss: 0.6554 - val_accuracy: 0.5839\n",
      "Epoch 6/200\n",
      "21/21 [==============================] - 0s 10ms/step - loss: 0.5862 - accuracy: 0.6921 - val_loss: 0.6432 - val_accuracy: 0.5901\n",
      "Epoch 7/200\n",
      "21/21 [==============================] - 0s 11ms/step - loss: 0.5698 - accuracy: 0.6940 - val_loss: 0.6355 - val_accuracy: 0.6087\n",
      "Epoch 8/200\n",
      "21/21 [==============================] - 0s 10ms/step - loss: 0.5596 - accuracy: 0.7125 - val_loss: 0.6264 - val_accuracy: 0.6211\n",
      "Epoch 9/200\n",
      "21/21 [==============================] - 0s 12ms/step - loss: 0.5395 - accuracy: 0.7227 - val_loss: 0.6141 - val_accuracy: 0.6522\n",
      "Epoch 10/200\n",
      "21/21 [==============================] - 0s 11ms/step - loss: 0.5264 - accuracy: 0.7380 - val_loss: 0.5922 - val_accuracy: 0.6770\n",
      "Epoch 11/200\n",
      "21/21 [==============================] - 0s 10ms/step - loss: 0.5271 - accuracy: 0.7096 - val_loss: 0.5843 - val_accuracy: 0.6894\n",
      "Epoch 12/200\n",
      "21/21 [==============================] - 0s 11ms/step - loss: 0.4710 - accuracy: 0.7762 - val_loss: 0.5714 - val_accuracy: 0.6832\n",
      "Epoch 13/200\n",
      "21/21 [==============================] - 0s 10ms/step - loss: 0.4680 - accuracy: 0.7796 - val_loss: 0.5514 - val_accuracy: 0.6770\n",
      "Epoch 14/200\n",
      "21/21 [==============================] - 0s 10ms/step - loss: 0.4358 - accuracy: 0.8111 - val_loss: 0.5297 - val_accuracy: 0.7205\n",
      "Epoch 15/200\n",
      "21/21 [==============================] - 0s 10ms/step - loss: 0.4268 - accuracy: 0.8140 - val_loss: 0.5312 - val_accuracy: 0.6832\n",
      "Epoch 16/200\n",
      "21/21 [==============================] - 0s 9ms/step - loss: 0.4409 - accuracy: 0.7885 - val_loss: 0.5202 - val_accuracy: 0.6894\n",
      "Epoch 17/200\n",
      "21/21 [==============================] - 0s 9ms/step - loss: 0.4489 - accuracy: 0.8176 - val_loss: 0.5264 - val_accuracy: 0.7081\n",
      "Epoch 18/200\n",
      "21/21 [==============================] - 0s 13ms/step - loss: 0.4018 - accuracy: 0.8300 - val_loss: 0.5309 - val_accuracy: 0.7019\n",
      "Epoch 19/200\n",
      "21/21 [==============================] - 0s 10ms/step - loss: 0.4185 - accuracy: 0.8278 - val_loss: 0.5239 - val_accuracy: 0.6832\n",
      "Epoch 20/200\n",
      "21/21 [==============================] - 0s 9ms/step - loss: 0.4481 - accuracy: 0.7910 - val_loss: 0.5169 - val_accuracy: 0.7081\n",
      "Epoch 21/200\n",
      "21/21 [==============================] - 0s 10ms/step - loss: 0.4234 - accuracy: 0.8089 - val_loss: 0.5055 - val_accuracy: 0.7205\n",
      "Epoch 22/200\n",
      "21/21 [==============================] - 0s 12ms/step - loss: 0.3929 - accuracy: 0.8459 - val_loss: 0.5144 - val_accuracy: 0.7081\n",
      "Epoch 23/200\n",
      "21/21 [==============================] - 0s 12ms/step - loss: 0.3965 - accuracy: 0.8436 - val_loss: 0.5094 - val_accuracy: 0.7081\n",
      "Epoch 24/200\n",
      "21/21 [==============================] - 0s 12ms/step - loss: 0.3968 - accuracy: 0.8410 - val_loss: 0.5135 - val_accuracy: 0.7205\n",
      "Epoch 25/200\n",
      "21/21 [==============================] - 0s 11ms/step - loss: 0.3982 - accuracy: 0.8421 - val_loss: 0.5191 - val_accuracy: 0.7081\n",
      "Epoch 26/200\n",
      "21/21 [==============================] - 0s 9ms/step - loss: 0.3910 - accuracy: 0.8525 - val_loss: 0.5103 - val_accuracy: 0.7391\n",
      "Epoch 27/200\n",
      "21/21 [==============================] - 0s 9ms/step - loss: 0.4087 - accuracy: 0.8306 - val_loss: 0.5129 - val_accuracy: 0.7329\n",
      "Epoch 28/200\n",
      "21/21 [==============================] - 0s 10ms/step - loss: 0.3762 - accuracy: 0.8408 - val_loss: 0.5078 - val_accuracy: 0.7205\n",
      "Epoch 29/200\n",
      "21/21 [==============================] - 0s 10ms/step - loss: 0.3644 - accuracy: 0.8510 - val_loss: 0.5134 - val_accuracy: 0.7267\n",
      "Epoch 30/200\n",
      "21/21 [==============================] - 0s 11ms/step - loss: 0.3617 - accuracy: 0.8580 - val_loss: 0.5072 - val_accuracy: 0.7391\n",
      "Epoch 31/200\n",
      "21/21 [==============================] - 0s 12ms/step - loss: 0.3832 - accuracy: 0.8445 - val_loss: 0.5029 - val_accuracy: 0.7453\n",
      "Epoch 32/200\n",
      "21/21 [==============================] - 0s 12ms/step - loss: 0.3622 - accuracy: 0.8521 - val_loss: 0.5174 - val_accuracy: 0.7329\n",
      "Epoch 33/200\n",
      "21/21 [==============================] - 0s 12ms/step - loss: 0.3770 - accuracy: 0.8631 - val_loss: 0.5193 - val_accuracy: 0.7267\n",
      "Epoch 34/200\n",
      "21/21 [==============================] - 0s 11ms/step - loss: 0.3754 - accuracy: 0.8639 - val_loss: 0.5061 - val_accuracy: 0.7453\n",
      "Epoch 35/200\n",
      "21/21 [==============================] - 0s 10ms/step - loss: 0.3578 - accuracy: 0.8562 - val_loss: 0.5092 - val_accuracy: 0.7143\n",
      "Epoch 36/200\n",
      "21/21 [==============================] - 0s 10ms/step - loss: 0.3623 - accuracy: 0.8587 - val_loss: 0.5085 - val_accuracy: 0.7205\n",
      "Epoch 37/200\n",
      "21/21 [==============================] - 0s 12ms/step - loss: 0.3759 - accuracy: 0.8568 - val_loss: 0.5058 - val_accuracy: 0.7391\n",
      "Epoch 38/200\n",
      "21/21 [==============================] - 0s 12ms/step - loss: 0.3621 - accuracy: 0.8518 - val_loss: 0.5040 - val_accuracy: 0.7205\n",
      "Epoch 39/200\n",
      "21/21 [==============================] - 0s 12ms/step - loss: 0.3487 - accuracy: 0.8584 - val_loss: 0.5207 - val_accuracy: 0.7205\n",
      "Epoch 40/200\n",
      "21/21 [==============================] - 0s 12ms/step - loss: 0.3420 - accuracy: 0.8761 - val_loss: 0.5258 - val_accuracy: 0.7391\n",
      "Epoch 41/200\n",
      "21/21 [==============================] - 0s 9ms/step - loss: 0.3274 - accuracy: 0.8753 - val_loss: 0.5326 - val_accuracy: 0.7391\n",
      "Epoch 42/200\n",
      "21/21 [==============================] - 0s 8ms/step - loss: 0.3725 - accuracy: 0.8513 - val_loss: 0.5322 - val_accuracy: 0.7453\n",
      "Epoch 43/200\n",
      "21/21 [==============================] - 0s 9ms/step - loss: 0.3314 - accuracy: 0.8719 - val_loss: 0.5308 - val_accuracy: 0.7453\n",
      "Epoch 44/200\n",
      "21/21 [==============================] - 0s 9ms/step - loss: 0.3729 - accuracy: 0.8389 - val_loss: 0.5213 - val_accuracy: 0.7391\n",
      "Epoch 45/200\n",
      "21/21 [==============================] - 0s 10ms/step - loss: 0.3447 - accuracy: 0.8592 - val_loss: 0.5198 - val_accuracy: 0.7329\n",
      "Epoch 46/200\n",
      "21/21 [==============================] - 0s 12ms/step - loss: 0.3235 - accuracy: 0.8801 - val_loss: 0.5316 - val_accuracy: 0.7453\n",
      "Epoch 47/200\n",
      "21/21 [==============================] - 0s 12ms/step - loss: 0.3253 - accuracy: 0.8834 - val_loss: 0.5349 - val_accuracy: 0.7329\n",
      "Epoch 48/200\n",
      "21/21 [==============================] - 0s 9ms/step - loss: 0.3373 - accuracy: 0.8663 - val_loss: 0.5399 - val_accuracy: 0.7329\n",
      "Epoch 49/200\n",
      "21/21 [==============================] - 0s 9ms/step - loss: 0.3740 - accuracy: 0.8592 - val_loss: 0.5220 - val_accuracy: 0.7391\n",
      "Epoch 50/200\n",
      "21/21 [==============================] - 0s 8ms/step - loss: 0.3120 - accuracy: 0.8810 - val_loss: 0.5292 - val_accuracy: 0.7205\n",
      "Epoch 51/200\n",
      "21/21 [==============================] - 0s 8ms/step - loss: 0.3548 - accuracy: 0.8578 - val_loss: 0.5400 - val_accuracy: 0.7640\n",
      "Epoch 52/200\n",
      "21/21 [==============================] - 0s 9ms/step - loss: 0.3581 - accuracy: 0.8488 - val_loss: 0.5457 - val_accuracy: 0.7453\n",
      "Epoch 53/200\n",
      "21/21 [==============================] - 0s 9ms/step - loss: 0.2944 - accuracy: 0.8868 - val_loss: 0.5498 - val_accuracy: 0.7267\n",
      "Epoch 54/200\n",
      "21/21 [==============================] - 0s 9ms/step - loss: 0.3442 - accuracy: 0.8574 - val_loss: 0.5408 - val_accuracy: 0.7578\n",
      "Epoch 55/200\n",
      "21/21 [==============================] - 0s 9ms/step - loss: 0.3355 - accuracy: 0.8469 - val_loss: 0.5488 - val_accuracy: 0.7329\n",
      "Epoch 56/200\n",
      "21/21 [==============================] - 0s 9ms/step - loss: 0.3075 - accuracy: 0.8906 - val_loss: 0.5489 - val_accuracy: 0.7391\n",
      "Epoch 57/200\n",
      "21/21 [==============================] - 0s 9ms/step - loss: 0.2932 - accuracy: 0.8908 - val_loss: 0.5532 - val_accuracy: 0.7329\n",
      "Epoch 58/200\n",
      "21/21 [==============================] - 0s 9ms/step - loss: 0.3181 - accuracy: 0.8674 - val_loss: 0.5561 - val_accuracy: 0.7205\n",
      "Epoch 59/200\n",
      "21/21 [==============================] - 0s 14ms/step - loss: 0.3227 - accuracy: 0.8685 - val_loss: 0.5643 - val_accuracy: 0.7329\n",
      "Epoch 60/200\n",
      "21/21 [==============================] - 0s 11ms/step - loss: 0.3030 - accuracy: 0.8789 - val_loss: 0.5728 - val_accuracy: 0.7267\n",
      "Epoch 61/200\n",
      "21/21 [==============================] - 0s 10ms/step - loss: 0.3138 - accuracy: 0.8632 - val_loss: 0.5691 - val_accuracy: 0.7329\n",
      "Epoch 62/200\n",
      "21/21 [==============================] - 0s 11ms/step - loss: 0.3259 - accuracy: 0.8733 - val_loss: 0.5615 - val_accuracy: 0.7205\n",
      "Epoch 63/200\n",
      "21/21 [==============================] - 0s 10ms/step - loss: 0.2931 - accuracy: 0.8754 - val_loss: 0.5750 - val_accuracy: 0.7391\n",
      "Epoch 64/200\n",
      "21/21 [==============================] - 0s 9ms/step - loss: 0.3335 - accuracy: 0.8723 - val_loss: 0.5791 - val_accuracy: 0.7453\n",
      "Epoch 65/200\n",
      "21/21 [==============================] - 0s 9ms/step - loss: 0.3051 - accuracy: 0.8775 - val_loss: 0.5640 - val_accuracy: 0.7267\n",
      "Epoch 66/200\n",
      "21/21 [==============================] - 0s 9ms/step - loss: 0.3372 - accuracy: 0.8574 - val_loss: 0.5501 - val_accuracy: 0.7329\n",
      "Epoch 67/200\n",
      "21/21 [==============================] - 0s 9ms/step - loss: 0.2959 - accuracy: 0.8815 - val_loss: 0.5678 - val_accuracy: 0.7329\n",
      "Epoch 68/200\n",
      "21/21 [==============================] - 0s 12ms/step - loss: 0.3076 - accuracy: 0.8673 - val_loss: 0.5720 - val_accuracy: 0.7391\n",
      "Epoch 69/200\n",
      "21/21 [==============================] - 0s 10ms/step - loss: 0.3411 - accuracy: 0.8631 - val_loss: 0.5730 - val_accuracy: 0.7267\n",
      "Epoch 70/200\n",
      "21/21 [==============================] - 0s 11ms/step - loss: 0.2953 - accuracy: 0.8852 - val_loss: 0.5756 - val_accuracy: 0.7516\n",
      "Epoch 71/200\n",
      "21/21 [==============================] - 0s 11ms/step - loss: 0.3186 - accuracy: 0.8703 - val_loss: 0.5872 - val_accuracy: 0.7267\n",
      "Epoch 72/200\n",
      "21/21 [==============================] - 0s 10ms/step - loss: 0.2812 - accuracy: 0.8982 - val_loss: 0.5903 - val_accuracy: 0.7267\n",
      "Epoch 73/200\n",
      "21/21 [==============================] - 0s 9ms/step - loss: 0.3238 - accuracy: 0.8654 - val_loss: 0.5797 - val_accuracy: 0.7516\n",
      "Epoch 74/200\n",
      "21/21 [==============================] - 0s 10ms/step - loss: 0.3065 - accuracy: 0.8791 - val_loss: 0.5842 - val_accuracy: 0.7267\n",
      "Epoch 75/200\n",
      "21/21 [==============================] - 0s 10ms/step - loss: 0.3158 - accuracy: 0.8715 - val_loss: 0.6154 - val_accuracy: 0.7267\n",
      "Epoch 76/200\n",
      "21/21 [==============================] - 0s 9ms/step - loss: 0.2821 - accuracy: 0.8903 - val_loss: 0.5859 - val_accuracy: 0.7516\n",
      "Epoch 77/200\n",
      "21/21 [==============================] - 0s 8ms/step - loss: 0.3020 - accuracy: 0.8663 - val_loss: 0.6103 - val_accuracy: 0.7329\n",
      "Epoch 78/200\n",
      "21/21 [==============================] - 0s 9ms/step - loss: 0.3008 - accuracy: 0.8835 - val_loss: 0.6140 - val_accuracy: 0.7329\n",
      "Epoch 79/200\n",
      "21/21 [==============================] - 0s 15ms/step - loss: 0.2985 - accuracy: 0.8862 - val_loss: 0.6141 - val_accuracy: 0.7391\n",
      "Epoch 80/200\n",
      "21/21 [==============================] - 0s 10ms/step - loss: 0.3129 - accuracy: 0.8902 - val_loss: 0.6154 - val_accuracy: 0.7453\n",
      "Epoch 81/200\n",
      "21/21 [==============================] - 0s 10ms/step - loss: 0.2934 - accuracy: 0.8878 - val_loss: 0.6213 - val_accuracy: 0.7391\n",
      "Epoch 82/200\n",
      "21/21 [==============================] - 0s 9ms/step - loss: 0.3080 - accuracy: 0.8812 - val_loss: 0.6189 - val_accuracy: 0.7516\n",
      "Epoch 83/200\n",
      "21/21 [==============================] - 0s 10ms/step - loss: 0.2775 - accuracy: 0.8797 - val_loss: 0.6241 - val_accuracy: 0.7329\n",
      "Epoch 84/200\n",
      "21/21 [==============================] - 0s 9ms/step - loss: 0.2729 - accuracy: 0.8895 - val_loss: 0.6277 - val_accuracy: 0.7267\n",
      "Epoch 85/200\n",
      "21/21 [==============================] - 0s 9ms/step - loss: 0.2585 - accuracy: 0.8947 - val_loss: 0.6329 - val_accuracy: 0.7391\n",
      "Epoch 86/200\n",
      "21/21 [==============================] - 0s 11ms/step - loss: 0.2521 - accuracy: 0.9150 - val_loss: 0.6246 - val_accuracy: 0.7391\n",
      "Epoch 87/200\n",
      "21/21 [==============================] - 0s 10ms/step - loss: 0.2634 - accuracy: 0.9005 - val_loss: 0.6117 - val_accuracy: 0.7453\n",
      "Epoch 88/200\n",
      "21/21 [==============================] - 0s 10ms/step - loss: 0.2836 - accuracy: 0.8870 - val_loss: 0.6291 - val_accuracy: 0.7516\n",
      "Epoch 89/200\n",
      "21/21 [==============================] - 0s 9ms/step - loss: 0.2745 - accuracy: 0.8874 - val_loss: 0.6331 - val_accuracy: 0.7578\n",
      "Epoch 90/200\n",
      "21/21 [==============================] - 0s 10ms/step - loss: 0.2701 - accuracy: 0.8954 - val_loss: 0.6564 - val_accuracy: 0.7329\n",
      "Epoch 91/200\n",
      "21/21 [==============================] - 0s 9ms/step - loss: 0.2921 - accuracy: 0.8878 - val_loss: 0.6397 - val_accuracy: 0.7516\n",
      "Epoch 92/200\n",
      "21/21 [==============================] - 0s 9ms/step - loss: 0.2883 - accuracy: 0.8800 - val_loss: 0.6577 - val_accuracy: 0.7640\n",
      "Epoch 93/200\n",
      "21/21 [==============================] - 0s 9ms/step - loss: 0.2924 - accuracy: 0.8837 - val_loss: 0.6371 - val_accuracy: 0.7640\n",
      "Epoch 94/200\n",
      "21/21 [==============================] - 0s 9ms/step - loss: 0.2867 - accuracy: 0.8789 - val_loss: 0.6550 - val_accuracy: 0.7516\n",
      "Epoch 95/200\n",
      "21/21 [==============================] - 0s 8ms/step - loss: 0.2588 - accuracy: 0.8819 - val_loss: 0.6432 - val_accuracy: 0.7578\n",
      "Epoch 96/200\n",
      "21/21 [==============================] - 0s 8ms/step - loss: 0.2867 - accuracy: 0.8741 - val_loss: 0.6287 - val_accuracy: 0.7391\n",
      "Epoch 97/200\n",
      "21/21 [==============================] - 0s 10ms/step - loss: 0.2800 - accuracy: 0.9023 - val_loss: 0.6504 - val_accuracy: 0.7640\n",
      "Epoch 98/200\n",
      "21/21 [==============================] - 0s 10ms/step - loss: 0.2736 - accuracy: 0.8883 - val_loss: 0.6612 - val_accuracy: 0.7453\n",
      "Epoch 99/200\n",
      "21/21 [==============================] - 0s 13ms/step - loss: 0.2871 - accuracy: 0.8854 - val_loss: 0.6600 - val_accuracy: 0.7640\n",
      "Epoch 100/200\n",
      "21/21 [==============================] - 0s 10ms/step - loss: 0.2738 - accuracy: 0.9056 - val_loss: 0.6692 - val_accuracy: 0.7516\n",
      "Epoch 101/200\n",
      "21/21 [==============================] - 0s 9ms/step - loss: 0.2363 - accuracy: 0.9119 - val_loss: 0.6731 - val_accuracy: 0.7516\n",
      "Epoch 102/200\n",
      "21/21 [==============================] - 0s 10ms/step - loss: 0.2683 - accuracy: 0.8841 - val_loss: 0.6651 - val_accuracy: 0.7578\n",
      "Epoch 103/200\n",
      "21/21 [==============================] - 0s 8ms/step - loss: 0.2233 - accuracy: 0.9210 - val_loss: 0.6570 - val_accuracy: 0.7578\n",
      "Epoch 104/200\n",
      "21/21 [==============================] - 0s 8ms/step - loss: 0.2679 - accuracy: 0.8844 - val_loss: 0.6724 - val_accuracy: 0.7453\n",
      "Epoch 105/200\n",
      "21/21 [==============================] - 0s 8ms/step - loss: 0.2376 - accuracy: 0.9108 - val_loss: 0.6775 - val_accuracy: 0.7391\n",
      "Epoch 106/200\n",
      "21/21 [==============================] - 0s 9ms/step - loss: 0.2746 - accuracy: 0.8973 - val_loss: 0.6546 - val_accuracy: 0.7391\n",
      "Epoch 107/200\n",
      "21/21 [==============================] - 0s 8ms/step - loss: 0.2574 - accuracy: 0.9001 - val_loss: 0.6763 - val_accuracy: 0.7453\n",
      "Epoch 108/200\n",
      "21/21 [==============================] - 0s 9ms/step - loss: 0.2476 - accuracy: 0.8902 - val_loss: 0.6715 - val_accuracy: 0.7516\n",
      "Epoch 109/200\n",
      "21/21 [==============================] - 0s 10ms/step - loss: 0.2633 - accuracy: 0.9064 - val_loss: 0.6790 - val_accuracy: 0.7516\n",
      "Epoch 110/200\n",
      "21/21 [==============================] - 0s 9ms/step - loss: 0.2541 - accuracy: 0.8977 - val_loss: 0.6847 - val_accuracy: 0.7516\n",
      "Epoch 111/200\n",
      "21/21 [==============================] - 0s 9ms/step - loss: 0.2410 - accuracy: 0.9102 - val_loss: 0.6965 - val_accuracy: 0.7640\n",
      "Epoch 112/200\n",
      "21/21 [==============================] - 0s 9ms/step - loss: 0.2417 - accuracy: 0.8957 - val_loss: 0.6893 - val_accuracy: 0.7578\n",
      "Epoch 113/200\n",
      "21/21 [==============================] - 0s 9ms/step - loss: 0.2629 - accuracy: 0.8995 - val_loss: 0.6986 - val_accuracy: 0.7453\n",
      "Epoch 114/200\n",
      "21/21 [==============================] - 0s 9ms/step - loss: 0.2532 - accuracy: 0.8926 - val_loss: 0.7084 - val_accuracy: 0.7453\n",
      "Epoch 115/200\n"
     ]
    },
    {
     "name": "stdout",
     "output_type": "stream",
     "text": [
      "21/21 [==============================] - 0s 9ms/step - loss: 0.2787 - accuracy: 0.9023 - val_loss: 0.7020 - val_accuracy: 0.7516\n",
      "Epoch 116/200\n",
      "21/21 [==============================] - 0s 9ms/step - loss: 0.2652 - accuracy: 0.8960 - val_loss: 0.7029 - val_accuracy: 0.7578\n",
      "Epoch 117/200\n",
      "21/21 [==============================] - 0s 9ms/step - loss: 0.2372 - accuracy: 0.9033 - val_loss: 0.6937 - val_accuracy: 0.7453\n",
      "Epoch 118/200\n",
      "21/21 [==============================] - 0s 9ms/step - loss: 0.2395 - accuracy: 0.9112 - val_loss: 0.7168 - val_accuracy: 0.7453\n",
      "Epoch 119/200\n",
      "21/21 [==============================] - 0s 12ms/step - loss: 0.2381 - accuracy: 0.9128 - val_loss: 0.7010 - val_accuracy: 0.7391\n",
      "Epoch 120/200\n",
      "21/21 [==============================] - 0s 10ms/step - loss: 0.2178 - accuracy: 0.9313 - val_loss: 0.6974 - val_accuracy: 0.7578\n",
      "Epoch 121/200\n",
      "21/21 [==============================] - 0s 9ms/step - loss: 0.2526 - accuracy: 0.9094 - val_loss: 0.7235 - val_accuracy: 0.7453\n",
      "Epoch 122/200\n",
      "21/21 [==============================] - 0s 10ms/step - loss: 0.2692 - accuracy: 0.8832 - val_loss: 0.7260 - val_accuracy: 0.7578\n",
      "Epoch 123/200\n",
      "21/21 [==============================] - 0s 9ms/step - loss: 0.2430 - accuracy: 0.9173 - val_loss: 0.7305 - val_accuracy: 0.7578\n",
      "Epoch 124/200\n",
      "21/21 [==============================] - 0s 9ms/step - loss: 0.2435 - accuracy: 0.9043 - val_loss: 0.7276 - val_accuracy: 0.7391\n",
      "Epoch 125/200\n",
      "21/21 [==============================] - 0s 10ms/step - loss: 0.2486 - accuracy: 0.9046 - val_loss: 0.7233 - val_accuracy: 0.7516\n",
      "Epoch 126/200\n",
      "21/21 [==============================] - 0s 9ms/step - loss: 0.2226 - accuracy: 0.9198 - val_loss: 0.7253 - val_accuracy: 0.7267\n",
      "Epoch 127/200\n",
      "21/21 [==============================] - 0s 8ms/step - loss: 0.2220 - accuracy: 0.9141 - val_loss: 0.7337 - val_accuracy: 0.7640\n",
      "Epoch 128/200\n",
      "21/21 [==============================] - 0s 9ms/step - loss: 0.2490 - accuracy: 0.8981 - val_loss: 0.7380 - val_accuracy: 0.7640\n",
      "Epoch 129/200\n",
      "21/21 [==============================] - 0s 9ms/step - loss: 0.2335 - accuracy: 0.9127 - val_loss: 0.7262 - val_accuracy: 0.7453\n",
      "Epoch 130/200\n",
      "21/21 [==============================] - 0s 9ms/step - loss: 0.2535 - accuracy: 0.9123 - val_loss: 0.7408 - val_accuracy: 0.7391\n",
      "Epoch 131/200\n",
      "21/21 [==============================] - 0s 9ms/step - loss: 0.2500 - accuracy: 0.9085 - val_loss: 0.7323 - val_accuracy: 0.7453\n",
      "Epoch 132/200\n",
      "21/21 [==============================] - 0s 9ms/step - loss: 0.2478 - accuracy: 0.9155 - val_loss: 0.7336 - val_accuracy: 0.7453\n",
      "Epoch 133/200\n",
      "21/21 [==============================] - 0s 8ms/step - loss: 0.2289 - accuracy: 0.9167 - val_loss: 0.7425 - val_accuracy: 0.7453\n",
      "Epoch 134/200\n",
      "21/21 [==============================] - 0s 12ms/step - loss: 0.2294 - accuracy: 0.9190 - val_loss: 0.7285 - val_accuracy: 0.7391\n",
      "Epoch 135/200\n",
      "21/21 [==============================] - 0s 9ms/step - loss: 0.2322 - accuracy: 0.9175 - val_loss: 0.7512 - val_accuracy: 0.7702\n",
      "Epoch 136/200\n",
      "21/21 [==============================] - 0s 9ms/step - loss: 0.2104 - accuracy: 0.9173 - val_loss: 0.7689 - val_accuracy: 0.7516\n",
      "Epoch 137/200\n",
      "21/21 [==============================] - 0s 11ms/step - loss: 0.2050 - accuracy: 0.9203 - val_loss: 0.7296 - val_accuracy: 0.7516\n",
      "Epoch 138/200\n",
      "21/21 [==============================] - 0s 10ms/step - loss: 0.1971 - accuracy: 0.9193 - val_loss: 0.7519 - val_accuracy: 0.7205\n",
      "Epoch 139/200\n",
      "21/21 [==============================] - 0s 9ms/step - loss: 0.2590 - accuracy: 0.9079 - val_loss: 0.7608 - val_accuracy: 0.7516\n",
      "Epoch 140/200\n",
      "21/21 [==============================] - 0s 10ms/step - loss: 0.2722 - accuracy: 0.9003 - val_loss: 0.7561 - val_accuracy: 0.7516\n",
      "Epoch 141/200\n",
      "21/21 [==============================] - 0s 10ms/step - loss: 0.2306 - accuracy: 0.8982 - val_loss: 0.7620 - val_accuracy: 0.7578\n",
      "Epoch 142/200\n",
      "21/21 [==============================] - 0s 10ms/step - loss: 0.2279 - accuracy: 0.9123 - val_loss: 0.7784 - val_accuracy: 0.7516\n",
      "Epoch 143/200\n",
      "21/21 [==============================] - 0s 9ms/step - loss: 0.2078 - accuracy: 0.9241 - val_loss: 0.7763 - val_accuracy: 0.7640\n",
      "Epoch 144/200\n",
      "21/21 [==============================] - 0s 10ms/step - loss: 0.2132 - accuracy: 0.9407 - val_loss: 0.7961 - val_accuracy: 0.7205\n",
      "Epoch 145/200\n",
      "21/21 [==============================] - 0s 9ms/step - loss: 0.2378 - accuracy: 0.9030 - val_loss: 0.8092 - val_accuracy: 0.7453\n",
      "Epoch 146/200\n",
      "21/21 [==============================] - 0s 13ms/step - loss: 0.2403 - accuracy: 0.9047 - val_loss: 0.7875 - val_accuracy: 0.7453\n",
      "Epoch 147/200\n",
      "21/21 [==============================] - 0s 9ms/step - loss: 0.2121 - accuracy: 0.9244 - val_loss: 0.7933 - val_accuracy: 0.7516\n",
      "Epoch 148/200\n",
      "21/21 [==============================] - 0s 10ms/step - loss: 0.2037 - accuracy: 0.9221 - val_loss: 0.8077 - val_accuracy: 0.7143\n",
      "Epoch 149/200\n",
      "21/21 [==============================] - 0s 10ms/step - loss: 0.2297 - accuracy: 0.9018 - val_loss: 0.8025 - val_accuracy: 0.7516\n",
      "Epoch 150/200\n",
      "21/21 [==============================] - 0s 10ms/step - loss: 0.1967 - accuracy: 0.9296 - val_loss: 0.8160 - val_accuracy: 0.7329\n",
      "Epoch 151/200\n",
      "21/21 [==============================] - 0s 10ms/step - loss: 0.2278 - accuracy: 0.9202 - val_loss: 0.8073 - val_accuracy: 0.7640\n",
      "Epoch 152/200\n",
      "21/21 [==============================] - 0s 9ms/step - loss: 0.1978 - accuracy: 0.9338 - val_loss: 0.7963 - val_accuracy: 0.7516\n",
      "Epoch 153/200\n",
      "21/21 [==============================] - 0s 9ms/step - loss: 0.2127 - accuracy: 0.9245 - val_loss: 0.7958 - val_accuracy: 0.7578\n",
      "Epoch 154/200\n",
      "21/21 [==============================] - 0s 10ms/step - loss: 0.2082 - accuracy: 0.9205 - val_loss: 0.8041 - val_accuracy: 0.7516\n",
      "Epoch 155/200\n",
      "21/21 [==============================] - 0s 14ms/step - loss: 0.2025 - accuracy: 0.9214 - val_loss: 0.8057 - val_accuracy: 0.7453\n",
      "Epoch 156/200\n",
      "21/21 [==============================] - 0s 10ms/step - loss: 0.2217 - accuracy: 0.9142 - val_loss: 0.8135 - val_accuracy: 0.7391\n",
      "Epoch 157/200\n",
      "21/21 [==============================] - 0s 10ms/step - loss: 0.2069 - accuracy: 0.9244 - val_loss: 0.8320 - val_accuracy: 0.7081\n",
      "Epoch 158/200\n",
      "21/21 [==============================] - 0s 9ms/step - loss: 0.2158 - accuracy: 0.9073 - val_loss: 0.8322 - val_accuracy: 0.7453\n",
      "Epoch 159/200\n",
      "21/21 [==============================] - 0s 8ms/step - loss: 0.2239 - accuracy: 0.9180 - val_loss: 0.8166 - val_accuracy: 0.7329\n",
      "Epoch 160/200\n",
      "21/21 [==============================] - 0s 9ms/step - loss: 0.2163 - accuracy: 0.9171 - val_loss: 0.8175 - val_accuracy: 0.7329\n",
      "Epoch 161/200\n",
      "21/21 [==============================] - 0s 9ms/step - loss: 0.2158 - accuracy: 0.9293 - val_loss: 0.8246 - val_accuracy: 0.7453\n",
      "Epoch 162/200\n",
      "21/21 [==============================] - 0s 9ms/step - loss: 0.2058 - accuracy: 0.9120 - val_loss: 0.8393 - val_accuracy: 0.7578\n",
      "Epoch 163/200\n",
      "21/21 [==============================] - 0s 9ms/step - loss: 0.2114 - accuracy: 0.9244 - val_loss: 0.8396 - val_accuracy: 0.7516\n",
      "Epoch 164/200\n",
      "21/21 [==============================] - 0s 8ms/step - loss: 0.2067 - accuracy: 0.9294 - val_loss: 0.8375 - val_accuracy: 0.7329\n",
      "Epoch 165/200\n",
      "21/21 [==============================] - 0s 9ms/step - loss: 0.1874 - accuracy: 0.9223 - val_loss: 0.8562 - val_accuracy: 0.7267\n",
      "Epoch 166/200\n",
      "21/21 [==============================] - 0s 9ms/step - loss: 0.1781 - accuracy: 0.9412 - val_loss: 0.8406 - val_accuracy: 0.7516\n",
      "Epoch 167/200\n",
      "21/21 [==============================] - 0s 10ms/step - loss: 0.1942 - accuracy: 0.9451 - val_loss: 0.8283 - val_accuracy: 0.7516\n",
      "Epoch 168/200\n",
      "21/21 [==============================] - 0s 11ms/step - loss: 0.2243 - accuracy: 0.9215 - val_loss: 0.8420 - val_accuracy: 0.7453\n",
      "Epoch 169/200\n",
      "21/21 [==============================] - 0s 9ms/step - loss: 0.1758 - accuracy: 0.9376 - val_loss: 0.8431 - val_accuracy: 0.7516\n",
      "Epoch 170/200\n",
      "21/21 [==============================] - 0s 10ms/step - loss: 0.2043 - accuracy: 0.9372 - val_loss: 0.8296 - val_accuracy: 0.7516\n",
      "Epoch 171/200\n",
      "21/21 [==============================] - 0s 9ms/step - loss: 0.2273 - accuracy: 0.9130 - val_loss: 0.8466 - val_accuracy: 0.7453\n",
      "Epoch 172/200\n",
      "21/21 [==============================] - 0s 10ms/step - loss: 0.1761 - accuracy: 0.9398 - val_loss: 0.8591 - val_accuracy: 0.7329\n",
      "Epoch 173/200\n",
      "21/21 [==============================] - 0s 10ms/step - loss: 0.1985 - accuracy: 0.9428 - val_loss: 0.8611 - val_accuracy: 0.7516\n",
      "Epoch 174/200\n",
      "21/21 [==============================] - 0s 10ms/step - loss: 0.1851 - accuracy: 0.9305 - val_loss: 0.8487 - val_accuracy: 0.7453\n",
      "Epoch 175/200\n",
      "21/21 [==============================] - 0s 9ms/step - loss: 0.1811 - accuracy: 0.9267 - val_loss: 0.8604 - val_accuracy: 0.7267\n",
      "Epoch 176/200\n",
      "21/21 [==============================] - 0s 9ms/step - loss: 0.2384 - accuracy: 0.8977 - val_loss: 0.8797 - val_accuracy: 0.7453\n",
      "Epoch 177/200\n",
      "21/21 [==============================] - 0s 18ms/step - loss: 0.1879 - accuracy: 0.9330 - val_loss: 0.8632 - val_accuracy: 0.7453\n",
      "Epoch 178/200\n",
      "21/21 [==============================] - 0s 15ms/step - loss: 0.1781 - accuracy: 0.9285 - val_loss: 0.8713 - val_accuracy: 0.7453\n",
      "Epoch 179/200\n",
      "21/21 [==============================] - 0s 12ms/step - loss: 0.1962 - accuracy: 0.9275 - val_loss: 0.8613 - val_accuracy: 0.7516\n",
      "Epoch 180/200\n",
      "21/21 [==============================] - 0s 9ms/step - loss: 0.2166 - accuracy: 0.8976 - val_loss: 0.8639 - val_accuracy: 0.7516\n",
      "Epoch 181/200\n",
      "21/21 [==============================] - 0s 9ms/step - loss: 0.2006 - accuracy: 0.9294 - val_loss: 0.8770 - val_accuracy: 0.7516\n",
      "Epoch 182/200\n",
      "21/21 [==============================] - 0s 9ms/step - loss: 0.2090 - accuracy: 0.9234 - val_loss: 0.8876 - val_accuracy: 0.7453\n",
      "Epoch 183/200\n",
      "21/21 [==============================] - 0s 9ms/step - loss: 0.1963 - accuracy: 0.9294 - val_loss: 0.8719 - val_accuracy: 0.7516\n",
      "Epoch 184/200\n",
      "21/21 [==============================] - 0s 9ms/step - loss: 0.1831 - accuracy: 0.9277 - val_loss: 0.8593 - val_accuracy: 0.7453\n",
      "Epoch 185/200\n",
      "21/21 [==============================] - 0s 9ms/step - loss: 0.1776 - accuracy: 0.9443 - val_loss: 0.8640 - val_accuracy: 0.7516\n",
      "Epoch 186/200\n",
      "21/21 [==============================] - 0s 9ms/step - loss: 0.1875 - accuracy: 0.9374 - val_loss: 0.8751 - val_accuracy: 0.7267\n",
      "Epoch 187/200\n",
      "21/21 [==============================] - 0s 9ms/step - loss: 0.2156 - accuracy: 0.9200 - val_loss: 0.8928 - val_accuracy: 0.7391\n",
      "Epoch 188/200\n",
      "21/21 [==============================] - 0s 9ms/step - loss: 0.2044 - accuracy: 0.9072 - val_loss: 0.9062 - val_accuracy: 0.7453\n",
      "Epoch 189/200\n",
      "21/21 [==============================] - 0s 9ms/step - loss: 0.1621 - accuracy: 0.9534 - val_loss: 0.9078 - val_accuracy: 0.7329\n",
      "Epoch 190/200\n",
      "21/21 [==============================] - 0s 9ms/step - loss: 0.1839 - accuracy: 0.9277 - val_loss: 0.8872 - val_accuracy: 0.7081\n",
      "Epoch 191/200\n",
      "21/21 [==============================] - 0s 10ms/step - loss: 0.1992 - accuracy: 0.9248 - val_loss: 0.8984 - val_accuracy: 0.7453\n",
      "Epoch 192/200\n",
      "21/21 [==============================] - 0s 9ms/step - loss: 0.1695 - accuracy: 0.9320 - val_loss: 0.9298 - val_accuracy: 0.7453\n",
      "Epoch 193/200\n",
      "21/21 [==============================] - 0s 9ms/step - loss: 0.1479 - accuracy: 0.9545 - val_loss: 0.9254 - val_accuracy: 0.7453\n",
      "Epoch 194/200\n",
      "21/21 [==============================] - 0s 10ms/step - loss: 0.1733 - accuracy: 0.9316 - val_loss: 0.9283 - val_accuracy: 0.7391\n",
      "Epoch 195/200\n",
      "21/21 [==============================] - 0s 10ms/step - loss: 0.1855 - accuracy: 0.9318 - val_loss: 0.9256 - val_accuracy: 0.7267\n",
      "Epoch 196/200\n",
      "21/21 [==============================] - 0s 10ms/step - loss: 0.1970 - accuracy: 0.9318 - val_loss: 0.9302 - val_accuracy: 0.7453\n",
      "Epoch 197/200\n",
      "21/21 [==============================] - 0s 9ms/step - loss: 0.1716 - accuracy: 0.9252 - val_loss: 0.9335 - val_accuracy: 0.7453\n",
      "Epoch 198/200\n",
      "21/21 [==============================] - 0s 9ms/step - loss: 0.1736 - accuracy: 0.9324 - val_loss: 0.9350 - val_accuracy: 0.7453\n",
      "Epoch 199/200\n",
      "21/21 [==============================] - 0s 9ms/step - loss: 0.1711 - accuracy: 0.9401 - val_loss: 0.9452 - val_accuracy: 0.7453\n",
      "Epoch 200/200\n",
      "21/21 [==============================] - 0s 9ms/step - loss: 0.1895 - accuracy: 0.9342 - val_loss: 0.9295 - val_accuracy: 0.7391\n"
     ]
    }
   ],
   "source": [
    "# Train the model\n",
    "model_history = model.fit(X_train,y_train,validation_data=(X_test,y_test),epochs=200)"
   ]
  },
  {
   "cell_type": "code",
   "execution_count": 95,
   "metadata": {
    "ExecuteTime": {
     "end_time": "2021-05-06T17:23:29.341262Z",
     "start_time": "2021-05-06T17:23:28.977971Z"
    }
   },
   "outputs": [],
   "source": [
    "# Evaluate model performance\n",
    "prediction = model.predict_classes(X_test)\n",
    "prediction1 = model.predict_classes(X_train)\n",
    "result28 = accuracy_score(y_train,prediction1)\n",
    "result29 = accuracy_score(y_test,prediction)"
   ]
  },
  {
   "cell_type": "markdown",
   "metadata": {},
   "source": [
    "# 11. Gradient Boosting Classifier"
   ]
  },
  {
   "cell_type": "code",
   "execution_count": 96,
   "metadata": {
    "ExecuteTime": {
     "end_time": "2021-05-06T17:23:34.039859Z",
     "start_time": "2021-05-06T17:23:33.854953Z"
    }
   },
   "outputs": [
    {
     "data": {
      "text/plain": [
       "(0.8911353032659409, 0.7763975155279503)"
      ]
     },
     "execution_count": 96,
     "metadata": {},
     "output_type": "execute_result"
    }
   ],
   "source": [
    "model11 = GradientBoostingClassifier(max_depth=3,max_features='sqrt')\n",
    "model11.fit(X_train,y_train)\n",
    "result30 = model11.score(X_train,y_train)\n",
    "result31 = model11.score(X_test,y_test)\n",
    "result30,result31"
   ]
  },
  {
   "cell_type": "markdown",
   "metadata": {},
   "source": [
    "## Calculating Test Accuracy for all methods from Test Data"
   ]
  },
  {
   "cell_type": "code",
   "execution_count": 97,
   "metadata": {
    "ExecuteTime": {
     "end_time": "2021-05-06T17:27:02.498479Z",
     "start_time": "2021-05-06T17:27:02.467250Z"
    }
   },
   "outputs": [
    {
     "data": {
      "text/html": [
       "<div>\n",
       "<style scoped>\n",
       "    .dataframe tbody tr th:only-of-type {\n",
       "        vertical-align: middle;\n",
       "    }\n",
       "\n",
       "    .dataframe tbody tr th {\n",
       "        vertical-align: top;\n",
       "    }\n",
       "\n",
       "    .dataframe thead th {\n",
       "        text-align: right;\n",
       "    }\n",
       "</style>\n",
       "<table border=\"1\" class=\"dataframe\">\n",
       "  <thead>\n",
       "    <tr style=\"text-align: right;\">\n",
       "      <th></th>\n",
       "      <th>Gender</th>\n",
       "      <th>Married</th>\n",
       "      <th>Dependents</th>\n",
       "      <th>Education</th>\n",
       "      <th>Self_Employed</th>\n",
       "      <th>ApplicantIncome</th>\n",
       "      <th>CoapplicantIncome</th>\n",
       "      <th>LoanAmount</th>\n",
       "      <th>Loan_Amount_Term</th>\n",
       "      <th>Credit_History</th>\n",
       "      <th>Property_Area</th>\n",
       "      <th>LoanAmount_log</th>\n",
       "    </tr>\n",
       "  </thead>\n",
       "  <tbody>\n",
       "    <tr>\n",
       "      <th>0</th>\n",
       "      <td>Male</td>\n",
       "      <td>Yes</td>\n",
       "      <td>0</td>\n",
       "      <td>Graduate</td>\n",
       "      <td>No</td>\n",
       "      <td>5720</td>\n",
       "      <td>0</td>\n",
       "      <td>110.0</td>\n",
       "      <td>360.0</td>\n",
       "      <td>1.0</td>\n",
       "      <td>Urban</td>\n",
       "      <td>4.700480</td>\n",
       "    </tr>\n",
       "    <tr>\n",
       "      <th>1</th>\n",
       "      <td>Male</td>\n",
       "      <td>Yes</td>\n",
       "      <td>1</td>\n",
       "      <td>Graduate</td>\n",
       "      <td>No</td>\n",
       "      <td>3076</td>\n",
       "      <td>1500</td>\n",
       "      <td>126.0</td>\n",
       "      <td>360.0</td>\n",
       "      <td>1.0</td>\n",
       "      <td>Urban</td>\n",
       "      <td>4.836282</td>\n",
       "    </tr>\n",
       "    <tr>\n",
       "      <th>2</th>\n",
       "      <td>Male</td>\n",
       "      <td>Yes</td>\n",
       "      <td>2</td>\n",
       "      <td>Graduate</td>\n",
       "      <td>No</td>\n",
       "      <td>5000</td>\n",
       "      <td>1800</td>\n",
       "      <td>208.0</td>\n",
       "      <td>360.0</td>\n",
       "      <td>1.0</td>\n",
       "      <td>Urban</td>\n",
       "      <td>5.337538</td>\n",
       "    </tr>\n",
       "    <tr>\n",
       "      <th>3</th>\n",
       "      <td>Male</td>\n",
       "      <td>Yes</td>\n",
       "      <td>2</td>\n",
       "      <td>Graduate</td>\n",
       "      <td>No</td>\n",
       "      <td>2340</td>\n",
       "      <td>2546</td>\n",
       "      <td>100.0</td>\n",
       "      <td>360.0</td>\n",
       "      <td>1.0</td>\n",
       "      <td>Urban</td>\n",
       "      <td>4.605170</td>\n",
       "    </tr>\n",
       "    <tr>\n",
       "      <th>4</th>\n",
       "      <td>Male</td>\n",
       "      <td>No</td>\n",
       "      <td>0</td>\n",
       "      <td>Not Graduate</td>\n",
       "      <td>No</td>\n",
       "      <td>3276</td>\n",
       "      <td>0</td>\n",
       "      <td>78.0</td>\n",
       "      <td>360.0</td>\n",
       "      <td>1.0</td>\n",
       "      <td>Urban</td>\n",
       "      <td>4.356709</td>\n",
       "    </tr>\n",
       "  </tbody>\n",
       "</table>\n",
       "</div>"
      ],
      "text/plain": [
       "  Gender Married Dependents     Education Self_Employed  ApplicantIncome  \\\n",
       "0   Male     Yes          0      Graduate            No             5720   \n",
       "1   Male     Yes          1      Graduate            No             3076   \n",
       "2   Male     Yes          2      Graduate            No             5000   \n",
       "3   Male     Yes          2      Graduate            No             2340   \n",
       "4   Male      No          0  Not Graduate            No             3276   \n",
       "\n",
       "   CoapplicantIncome  LoanAmount  Loan_Amount_Term  Credit_History  \\\n",
       "0                  0       110.0             360.0             1.0   \n",
       "1               1500       126.0             360.0             1.0   \n",
       "2               1800       208.0             360.0             1.0   \n",
       "3               2546       100.0             360.0             1.0   \n",
       "4                  0        78.0             360.0             1.0   \n",
       "\n",
       "  Property_Area  LoanAmount_log  \n",
       "0         Urban        4.700480  \n",
       "1         Urban        4.836282  \n",
       "2         Urban        5.337538  \n",
       "3         Urban        4.605170  \n",
       "4         Urban        4.356709  "
      ]
     },
     "execution_count": 97,
     "metadata": {},
     "output_type": "execute_result"
    }
   ],
   "source": [
    "test.head()"
   ]
  },
  {
   "cell_type": "code",
   "execution_count": 98,
   "metadata": {
    "ExecuteTime": {
     "end_time": "2021-05-06T17:27:04.975977Z",
     "start_time": "2021-05-06T17:27:04.922590Z"
    }
   },
   "outputs": [
    {
     "data": {
      "text/html": [
       "<div>\n",
       "<style scoped>\n",
       "    .dataframe tbody tr th:only-of-type {\n",
       "        vertical-align: middle;\n",
       "    }\n",
       "\n",
       "    .dataframe tbody tr th {\n",
       "        vertical-align: top;\n",
       "    }\n",
       "\n",
       "    .dataframe thead th {\n",
       "        text-align: right;\n",
       "    }\n",
       "</style>\n",
       "<table border=\"1\" class=\"dataframe\">\n",
       "  <thead>\n",
       "    <tr style=\"text-align: right;\">\n",
       "      <th></th>\n",
       "      <th>Gender_Female</th>\n",
       "      <th>Gender_Male</th>\n",
       "      <th>Married_No</th>\n",
       "      <th>Married_Yes</th>\n",
       "      <th>Education_Graduate</th>\n",
       "      <th>Education_Not Graduate</th>\n",
       "      <th>Self_Employed_No</th>\n",
       "      <th>Self_Employed_Yes</th>\n",
       "      <th>Property_Area_Rural</th>\n",
       "      <th>Property_Area_Semiurban</th>\n",
       "      <th>Property_Area_Urban</th>\n",
       "    </tr>\n",
       "  </thead>\n",
       "  <tbody>\n",
       "    <tr>\n",
       "      <th>0</th>\n",
       "      <td>0</td>\n",
       "      <td>1</td>\n",
       "      <td>0</td>\n",
       "      <td>1</td>\n",
       "      <td>1</td>\n",
       "      <td>0</td>\n",
       "      <td>1</td>\n",
       "      <td>0</td>\n",
       "      <td>0</td>\n",
       "      <td>0</td>\n",
       "      <td>1</td>\n",
       "    </tr>\n",
       "    <tr>\n",
       "      <th>1</th>\n",
       "      <td>0</td>\n",
       "      <td>1</td>\n",
       "      <td>0</td>\n",
       "      <td>1</td>\n",
       "      <td>1</td>\n",
       "      <td>0</td>\n",
       "      <td>1</td>\n",
       "      <td>0</td>\n",
       "      <td>0</td>\n",
       "      <td>0</td>\n",
       "      <td>1</td>\n",
       "    </tr>\n",
       "    <tr>\n",
       "      <th>2</th>\n",
       "      <td>0</td>\n",
       "      <td>1</td>\n",
       "      <td>0</td>\n",
       "      <td>1</td>\n",
       "      <td>1</td>\n",
       "      <td>0</td>\n",
       "      <td>1</td>\n",
       "      <td>0</td>\n",
       "      <td>0</td>\n",
       "      <td>0</td>\n",
       "      <td>1</td>\n",
       "    </tr>\n",
       "    <tr>\n",
       "      <th>3</th>\n",
       "      <td>0</td>\n",
       "      <td>1</td>\n",
       "      <td>0</td>\n",
       "      <td>1</td>\n",
       "      <td>1</td>\n",
       "      <td>0</td>\n",
       "      <td>1</td>\n",
       "      <td>0</td>\n",
       "      <td>0</td>\n",
       "      <td>0</td>\n",
       "      <td>1</td>\n",
       "    </tr>\n",
       "    <tr>\n",
       "      <th>4</th>\n",
       "      <td>0</td>\n",
       "      <td>1</td>\n",
       "      <td>1</td>\n",
       "      <td>0</td>\n",
       "      <td>0</td>\n",
       "      <td>1</td>\n",
       "      <td>1</td>\n",
       "      <td>0</td>\n",
       "      <td>0</td>\n",
       "      <td>0</td>\n",
       "      <td>1</td>\n",
       "    </tr>\n",
       "  </tbody>\n",
       "</table>\n",
       "</div>"
      ],
      "text/plain": [
       "   Gender_Female  Gender_Male  Married_No  Married_Yes  Education_Graduate  \\\n",
       "0              0            1           0            1                   1   \n",
       "1              0            1           0            1                   1   \n",
       "2              0            1           0            1                   1   \n",
       "3              0            1           0            1                   1   \n",
       "4              0            1           1            0                   0   \n",
       "\n",
       "   Education_Not Graduate  Self_Employed_No  Self_Employed_Yes  \\\n",
       "0                       0                 1                  0   \n",
       "1                       0                 1                  0   \n",
       "2                       0                 1                  0   \n",
       "3                       0                 1                  0   \n",
       "4                       1                 1                  0   \n",
       "\n",
       "   Property_Area_Rural  Property_Area_Semiurban  Property_Area_Urban  \n",
       "0                    0                        0                    1  \n",
       "1                    0                        0                    1  \n",
       "2                    0                        0                    1  \n",
       "3                    0                        0                    1  \n",
       "4                    0                        0                    1  "
      ]
     },
     "execution_count": 98,
     "metadata": {},
     "output_type": "execute_result"
    }
   ],
   "source": [
    "ctest = test.loc[:,['Gender','Married','Education','Self_Employed','Property_Area']]\n",
    "ctest = pd.get_dummies(ctest)\n",
    "ctest.head()"
   ]
  },
  {
   "cell_type": "code",
   "execution_count": 99,
   "metadata": {
    "ExecuteTime": {
     "end_time": "2021-05-06T17:27:08.842625Z",
     "start_time": "2021-05-06T17:27:08.811396Z"
    }
   },
   "outputs": [
    {
     "data": {
      "text/html": [
       "<div>\n",
       "<style scoped>\n",
       "    .dataframe tbody tr th:only-of-type {\n",
       "        vertical-align: middle;\n",
       "    }\n",
       "\n",
       "    .dataframe tbody tr th {\n",
       "        vertical-align: top;\n",
       "    }\n",
       "\n",
       "    .dataframe thead th {\n",
       "        text-align: right;\n",
       "    }\n",
       "</style>\n",
       "<table border=\"1\" class=\"dataframe\">\n",
       "  <thead>\n",
       "    <tr style=\"text-align: right;\">\n",
       "      <th></th>\n",
       "      <th>Dependents</th>\n",
       "      <th>ApplicantIncome</th>\n",
       "      <th>CoapplicantIncome</th>\n",
       "      <th>Loan_Amount_Term</th>\n",
       "      <th>Credit_History</th>\n",
       "      <th>LoanAmount_log</th>\n",
       "    </tr>\n",
       "  </thead>\n",
       "  <tbody>\n",
       "    <tr>\n",
       "      <th>0</th>\n",
       "      <td>0</td>\n",
       "      <td>5720</td>\n",
       "      <td>0</td>\n",
       "      <td>360.0</td>\n",
       "      <td>1.0</td>\n",
       "      <td>4.700480</td>\n",
       "    </tr>\n",
       "    <tr>\n",
       "      <th>1</th>\n",
       "      <td>1</td>\n",
       "      <td>3076</td>\n",
       "      <td>1500</td>\n",
       "      <td>360.0</td>\n",
       "      <td>1.0</td>\n",
       "      <td>4.836282</td>\n",
       "    </tr>\n",
       "    <tr>\n",
       "      <th>2</th>\n",
       "      <td>2</td>\n",
       "      <td>5000</td>\n",
       "      <td>1800</td>\n",
       "      <td>360.0</td>\n",
       "      <td>1.0</td>\n",
       "      <td>5.337538</td>\n",
       "    </tr>\n",
       "    <tr>\n",
       "      <th>3</th>\n",
       "      <td>2</td>\n",
       "      <td>2340</td>\n",
       "      <td>2546</td>\n",
       "      <td>360.0</td>\n",
       "      <td>1.0</td>\n",
       "      <td>4.605170</td>\n",
       "    </tr>\n",
       "    <tr>\n",
       "      <th>4</th>\n",
       "      <td>0</td>\n",
       "      <td>3276</td>\n",
       "      <td>0</td>\n",
       "      <td>360.0</td>\n",
       "      <td>1.0</td>\n",
       "      <td>4.356709</td>\n",
       "    </tr>\n",
       "  </tbody>\n",
       "</table>\n",
       "</div>"
      ],
      "text/plain": [
       "  Dependents  ApplicantIncome  CoapplicantIncome  Loan_Amount_Term  \\\n",
       "0          0             5720                  0             360.0   \n",
       "1          1             3076               1500             360.0   \n",
       "2          2             5000               1800             360.0   \n",
       "3          2             2340               2546             360.0   \n",
       "4          0             3276                  0             360.0   \n",
       "\n",
       "   Credit_History  LoanAmount_log  \n",
       "0             1.0        4.700480  \n",
       "1             1.0        4.836282  \n",
       "2             1.0        5.337538  \n",
       "3             1.0        4.605170  \n",
       "4             1.0        4.356709  "
      ]
     },
     "execution_count": 99,
     "metadata": {},
     "output_type": "execute_result"
    }
   ],
   "source": [
    "test = test.drop(['Gender','Married','Education','Self_Employed','Property_Area','LoanAmount'],axis=1)\n",
    "test.head()"
   ]
  },
  {
   "cell_type": "code",
   "execution_count": 100,
   "metadata": {
    "ExecuteTime": {
     "end_time": "2021-05-06T08:38:49.651832Z",
     "start_time": "2021-05-06T08:38:49.620589Z"
    }
   },
   "outputs": [],
   "source": [
    "#ntest = test.loc[:,['ApplicantIncome','CoapplicantIncome','Loan_Amount_Term','LoanAmount_log']]\n",
    "#ntest = norm_func(ntest)\n",
    "#ntest.head()"
   ]
  },
  {
   "cell_type": "code",
   "execution_count": 101,
   "metadata": {
    "ExecuteTime": {
     "end_time": "2021-05-06T17:27:24.058170Z",
     "start_time": "2021-05-06T17:27:24.011301Z"
    }
   },
   "outputs": [
    {
     "data": {
      "text/html": [
       "<div>\n",
       "<style scoped>\n",
       "    .dataframe tbody tr th:only-of-type {\n",
       "        vertical-align: middle;\n",
       "    }\n",
       "\n",
       "    .dataframe tbody tr th {\n",
       "        vertical-align: top;\n",
       "    }\n",
       "\n",
       "    .dataframe thead th {\n",
       "        text-align: right;\n",
       "    }\n",
       "</style>\n",
       "<table border=\"1\" class=\"dataframe\">\n",
       "  <thead>\n",
       "    <tr style=\"text-align: right;\">\n",
       "      <th></th>\n",
       "      <th>ApplicantIncome</th>\n",
       "      <th>CoapplicantIncome</th>\n",
       "      <th>Loan_Amount_Term</th>\n",
       "      <th>LoanAmount_log</th>\n",
       "    </tr>\n",
       "  </thead>\n",
       "  <tbody>\n",
       "    <tr>\n",
       "      <th>0</th>\n",
       "      <td>0.186206</td>\n",
       "      <td>-0.672417</td>\n",
       "      <td>0.270234</td>\n",
       "      <td>-0.306744</td>\n",
       "    </tr>\n",
       "    <tr>\n",
       "      <th>1</th>\n",
       "      <td>-0.352211</td>\n",
       "      <td>-0.029808</td>\n",
       "      <td>0.270234</td>\n",
       "      <td>0.019458</td>\n",
       "    </tr>\n",
       "    <tr>\n",
       "      <th>2</th>\n",
       "      <td>0.039587</td>\n",
       "      <td>0.098714</td>\n",
       "      <td>0.270234</td>\n",
       "      <td>1.223502</td>\n",
       "    </tr>\n",
       "    <tr>\n",
       "      <th>3</th>\n",
       "      <td>-0.502089</td>\n",
       "      <td>0.418306</td>\n",
       "      <td>0.270234</td>\n",
       "      <td>-0.535684</td>\n",
       "    </tr>\n",
       "    <tr>\n",
       "      <th>4</th>\n",
       "      <td>-0.311484</td>\n",
       "      <td>-0.672417</td>\n",
       "      <td>0.270234</td>\n",
       "      <td>-1.132501</td>\n",
       "    </tr>\n",
       "  </tbody>\n",
       "</table>\n",
       "</div>"
      ],
      "text/plain": [
       "   ApplicantIncome  CoapplicantIncome  Loan_Amount_Term  LoanAmount_log\n",
       "0         0.186206          -0.672417          0.270234       -0.306744\n",
       "1        -0.352211          -0.029808          0.270234        0.019458\n",
       "2         0.039587           0.098714          0.270234        1.223502\n",
       "3        -0.502089           0.418306          0.270234       -0.535684\n",
       "4        -0.311484          -0.672417          0.270234       -1.132501"
      ]
     },
     "execution_count": 101,
     "metadata": {},
     "output_type": "execute_result"
    }
   ],
   "source": [
    "stest = test.loc[:,['ApplicantIncome','CoapplicantIncome','Loan_Amount_Term','LoanAmount_log']]\n",
    "stest = stand_func(stest)\n",
    "stest.head()"
   ]
  },
  {
   "cell_type": "code",
   "execution_count": 102,
   "metadata": {
    "ExecuteTime": {
     "end_time": "2021-05-06T17:27:31.641652Z",
     "start_time": "2021-05-06T17:27:31.603886Z"
    }
   },
   "outputs": [
    {
     "data": {
      "text/html": [
       "<div>\n",
       "<style scoped>\n",
       "    .dataframe tbody tr th:only-of-type {\n",
       "        vertical-align: middle;\n",
       "    }\n",
       "\n",
       "    .dataframe tbody tr th {\n",
       "        vertical-align: top;\n",
       "    }\n",
       "\n",
       "    .dataframe thead th {\n",
       "        text-align: right;\n",
       "    }\n",
       "</style>\n",
       "<table border=\"1\" class=\"dataframe\">\n",
       "  <thead>\n",
       "    <tr style=\"text-align: right;\">\n",
       "      <th></th>\n",
       "      <th>Dependents</th>\n",
       "      <th>Credit_History</th>\n",
       "    </tr>\n",
       "  </thead>\n",
       "  <tbody>\n",
       "    <tr>\n",
       "      <th>0</th>\n",
       "      <td>0</td>\n",
       "      <td>1.0</td>\n",
       "    </tr>\n",
       "    <tr>\n",
       "      <th>1</th>\n",
       "      <td>1</td>\n",
       "      <td>1.0</td>\n",
       "    </tr>\n",
       "    <tr>\n",
       "      <th>2</th>\n",
       "      <td>2</td>\n",
       "      <td>1.0</td>\n",
       "    </tr>\n",
       "    <tr>\n",
       "      <th>3</th>\n",
       "      <td>2</td>\n",
       "      <td>1.0</td>\n",
       "    </tr>\n",
       "    <tr>\n",
       "      <th>4</th>\n",
       "      <td>0</td>\n",
       "      <td>1.0</td>\n",
       "    </tr>\n",
       "  </tbody>\n",
       "</table>\n",
       "</div>"
      ],
      "text/plain": [
       "   Dependents  Credit_History\n",
       "0           0             1.0\n",
       "1           1             1.0\n",
       "2           2             1.0\n",
       "3           2             1.0\n",
       "4           0             1.0"
      ]
     },
     "execution_count": 102,
     "metadata": {},
     "output_type": "execute_result"
    }
   ],
   "source": [
    "test = test.drop(['ApplicantIncome','CoapplicantIncome','LoanAmount_log','Loan_Amount_Term'],axis=1)\n",
    "test['Dependents'] = test['Dependents'].map({'0':0,'1':1,'2':2,'3+':3})\n",
    "test.head()"
   ]
  },
  {
   "cell_type": "code",
   "execution_count": 103,
   "metadata": {
    "ExecuteTime": {
     "end_time": "2021-05-06T17:27:46.834391Z",
     "start_time": "2021-05-06T17:27:46.803140Z"
    }
   },
   "outputs": [],
   "source": [
    "test = pd.concat([ctest,stest,test],axis=1)\n",
    "test = pd.DataFrame(data=test,columns=['Gender_Female', 'Gender_Male','Married_No', 'Married_Yes', 'Dependents', 'Education_Graduate', 'Education_Not Graduate','Self_Employed_No','Self_Employed_Yes','ApplicantIncome', 'CoapplicantIncome', 'LoanAmount_log',\n",
    "       'Loan_Amount_Term','Credit_History', 'Property_Area_Rural', 'Property_Area_Semiurban','Property_Area_Urban'])"
   ]
  },
  {
   "cell_type": "code",
   "execution_count": 104,
   "metadata": {
    "ExecuteTime": {
     "end_time": "2021-05-06T17:27:48.026834Z",
     "start_time": "2021-05-06T17:27:47.979962Z"
    }
   },
   "outputs": [
    {
     "data": {
      "text/html": [
       "<div>\n",
       "<style scoped>\n",
       "    .dataframe tbody tr th:only-of-type {\n",
       "        vertical-align: middle;\n",
       "    }\n",
       "\n",
       "    .dataframe tbody tr th {\n",
       "        vertical-align: top;\n",
       "    }\n",
       "\n",
       "    .dataframe thead th {\n",
       "        text-align: right;\n",
       "    }\n",
       "</style>\n",
       "<table border=\"1\" class=\"dataframe\">\n",
       "  <thead>\n",
       "    <tr style=\"text-align: right;\">\n",
       "      <th></th>\n",
       "      <th>Gender_Female</th>\n",
       "      <th>Gender_Male</th>\n",
       "      <th>Married_No</th>\n",
       "      <th>Married_Yes</th>\n",
       "      <th>Dependents</th>\n",
       "      <th>Education_Graduate</th>\n",
       "      <th>Education_Not Graduate</th>\n",
       "      <th>Self_Employed_No</th>\n",
       "      <th>Self_Employed_Yes</th>\n",
       "      <th>ApplicantIncome</th>\n",
       "      <th>CoapplicantIncome</th>\n",
       "      <th>LoanAmount_log</th>\n",
       "      <th>Loan_Amount_Term</th>\n",
       "      <th>Credit_History</th>\n",
       "      <th>Property_Area_Rural</th>\n",
       "      <th>Property_Area_Semiurban</th>\n",
       "      <th>Property_Area_Urban</th>\n",
       "    </tr>\n",
       "  </thead>\n",
       "  <tbody>\n",
       "    <tr>\n",
       "      <th>0</th>\n",
       "      <td>0</td>\n",
       "      <td>1</td>\n",
       "      <td>0</td>\n",
       "      <td>1</td>\n",
       "      <td>0</td>\n",
       "      <td>1</td>\n",
       "      <td>0</td>\n",
       "      <td>1</td>\n",
       "      <td>0</td>\n",
       "      <td>0.186206</td>\n",
       "      <td>-0.672417</td>\n",
       "      <td>-0.306744</td>\n",
       "      <td>0.270234</td>\n",
       "      <td>1.0</td>\n",
       "      <td>0</td>\n",
       "      <td>0</td>\n",
       "      <td>1</td>\n",
       "    </tr>\n",
       "    <tr>\n",
       "      <th>1</th>\n",
       "      <td>0</td>\n",
       "      <td>1</td>\n",
       "      <td>0</td>\n",
       "      <td>1</td>\n",
       "      <td>1</td>\n",
       "      <td>1</td>\n",
       "      <td>0</td>\n",
       "      <td>1</td>\n",
       "      <td>0</td>\n",
       "      <td>-0.352211</td>\n",
       "      <td>-0.029808</td>\n",
       "      <td>0.019458</td>\n",
       "      <td>0.270234</td>\n",
       "      <td>1.0</td>\n",
       "      <td>0</td>\n",
       "      <td>0</td>\n",
       "      <td>1</td>\n",
       "    </tr>\n",
       "    <tr>\n",
       "      <th>2</th>\n",
       "      <td>0</td>\n",
       "      <td>1</td>\n",
       "      <td>0</td>\n",
       "      <td>1</td>\n",
       "      <td>2</td>\n",
       "      <td>1</td>\n",
       "      <td>0</td>\n",
       "      <td>1</td>\n",
       "      <td>0</td>\n",
       "      <td>0.039587</td>\n",
       "      <td>0.098714</td>\n",
       "      <td>1.223502</td>\n",
       "      <td>0.270234</td>\n",
       "      <td>1.0</td>\n",
       "      <td>0</td>\n",
       "      <td>0</td>\n",
       "      <td>1</td>\n",
       "    </tr>\n",
       "    <tr>\n",
       "      <th>3</th>\n",
       "      <td>0</td>\n",
       "      <td>1</td>\n",
       "      <td>0</td>\n",
       "      <td>1</td>\n",
       "      <td>2</td>\n",
       "      <td>1</td>\n",
       "      <td>0</td>\n",
       "      <td>1</td>\n",
       "      <td>0</td>\n",
       "      <td>-0.502089</td>\n",
       "      <td>0.418306</td>\n",
       "      <td>-0.535684</td>\n",
       "      <td>0.270234</td>\n",
       "      <td>1.0</td>\n",
       "      <td>0</td>\n",
       "      <td>0</td>\n",
       "      <td>1</td>\n",
       "    </tr>\n",
       "    <tr>\n",
       "      <th>4</th>\n",
       "      <td>0</td>\n",
       "      <td>1</td>\n",
       "      <td>1</td>\n",
       "      <td>0</td>\n",
       "      <td>0</td>\n",
       "      <td>0</td>\n",
       "      <td>1</td>\n",
       "      <td>1</td>\n",
       "      <td>0</td>\n",
       "      <td>-0.311484</td>\n",
       "      <td>-0.672417</td>\n",
       "      <td>-1.132501</td>\n",
       "      <td>0.270234</td>\n",
       "      <td>1.0</td>\n",
       "      <td>0</td>\n",
       "      <td>0</td>\n",
       "      <td>1</td>\n",
       "    </tr>\n",
       "  </tbody>\n",
       "</table>\n",
       "</div>"
      ],
      "text/plain": [
       "   Gender_Female  Gender_Male  Married_No  Married_Yes  Dependents  \\\n",
       "0              0            1           0            1           0   \n",
       "1              0            1           0            1           1   \n",
       "2              0            1           0            1           2   \n",
       "3              0            1           0            1           2   \n",
       "4              0            1           1            0           0   \n",
       "\n",
       "   Education_Graduate  Education_Not Graduate  Self_Employed_No  \\\n",
       "0                   1                       0                 1   \n",
       "1                   1                       0                 1   \n",
       "2                   1                       0                 1   \n",
       "3                   1                       0                 1   \n",
       "4                   0                       1                 1   \n",
       "\n",
       "   Self_Employed_Yes  ApplicantIncome  CoapplicantIncome  LoanAmount_log  \\\n",
       "0                  0         0.186206          -0.672417       -0.306744   \n",
       "1                  0        -0.352211          -0.029808        0.019458   \n",
       "2                  0         0.039587           0.098714        1.223502   \n",
       "3                  0        -0.502089           0.418306       -0.535684   \n",
       "4                  0        -0.311484          -0.672417       -1.132501   \n",
       "\n",
       "   Loan_Amount_Term  Credit_History  Property_Area_Rural  \\\n",
       "0          0.270234             1.0                    0   \n",
       "1          0.270234             1.0                    0   \n",
       "2          0.270234             1.0                    0   \n",
       "3          0.270234             1.0                    0   \n",
       "4          0.270234             1.0                    0   \n",
       "\n",
       "   Property_Area_Semiurban  Property_Area_Urban  \n",
       "0                        0                    1  \n",
       "1                        0                    1  \n",
       "2                        0                    1  \n",
       "3                        0                    1  \n",
       "4                        0                    1  "
      ]
     },
     "execution_count": 104,
     "metadata": {},
     "output_type": "execute_result"
    }
   ],
   "source": [
    "test.head()"
   ]
  },
  {
   "cell_type": "code",
   "execution_count": 105,
   "metadata": {
    "ExecuteTime": {
     "end_time": "2021-05-06T17:42:31.221892Z",
     "start_time": "2021-05-06T17:42:31.216897Z"
    }
   },
   "outputs": [],
   "source": [
    "Xtest = test"
   ]
  },
  {
   "cell_type": "code",
   "execution_count": 106,
   "metadata": {
    "ExecuteTime": {
     "end_time": "2021-05-06T17:42:31.720838Z",
     "start_time": "2021-05-06T17:42:31.709817Z"
    }
   },
   "outputs": [],
   "source": [
    "prediction2 = model11.predict(Xtest)"
   ]
  },
  {
   "cell_type": "code",
   "execution_count": 107,
   "metadata": {
    "ExecuteTime": {
     "end_time": "2021-05-06T17:42:32.271748Z",
     "start_time": "2021-05-06T17:42:32.260756Z"
    }
   },
   "outputs": [],
   "source": [
    "submission = pd.read_csv('sample_submission_49d68Cx.csv')"
   ]
  },
  {
   "cell_type": "code",
   "execution_count": 108,
   "metadata": {
    "ExecuteTime": {
     "end_time": "2021-05-06T17:42:32.889285Z",
     "start_time": "2021-05-06T17:42:32.884286Z"
    }
   },
   "outputs": [],
   "source": [
    "submission['Loan_Status'] = prediction2\n",
    "submission['Loan_ID'] = test_original['Loan_ID']"
   ]
  },
  {
   "cell_type": "code",
   "execution_count": 109,
   "metadata": {
    "ExecuteTime": {
     "end_time": "2021-05-06T17:42:34.022774Z",
     "start_time": "2021-05-06T17:42:34.013779Z"
    }
   },
   "outputs": [],
   "source": [
    "submission['Loan_Status'].replace(0,'N',inplace=True)\n",
    "submission['Loan_Status'].replace(1,'Y',inplace=True)"
   ]
  },
  {
   "cell_type": "code",
   "execution_count": 110,
   "metadata": {
    "ExecuteTime": {
     "end_time": "2021-05-06T17:42:44.228646Z",
     "start_time": "2021-05-06T17:42:44.215652Z"
    }
   },
   "outputs": [],
   "source": [
    "pd.DataFrame(submission,columns=['Loan_ID','Loan_Status']).to_csv('GBmodel1.csv',index=False)"
   ]
  },
  {
   "cell_type": "markdown",
   "metadata": {},
   "source": [
    "## Overall Summary"
   ]
  },
  {
   "cell_type": "code",
   "execution_count": 111,
   "metadata": {
    "ExecuteTime": {
     "end_time": "2021-05-06T17:42:20.177885Z",
     "start_time": "2021-05-06T17:42:20.149922Z"
    }
   },
   "outputs": [
    {
     "data": {
      "text/html": [
       "<div>\n",
       "<style scoped>\n",
       "    .dataframe tbody tr th:only-of-type {\n",
       "        vertical-align: middle;\n",
       "    }\n",
       "\n",
       "    .dataframe tbody tr th {\n",
       "        vertical-align: top;\n",
       "    }\n",
       "\n",
       "    .dataframe thead th {\n",
       "        text-align: right;\n",
       "    }\n",
       "</style>\n",
       "<table border=\"1\" class=\"dataframe\">\n",
       "  <thead>\n",
       "    <tr style=\"text-align: right;\">\n",
       "      <th></th>\n",
       "      <th>Models</th>\n",
       "      <th>K-Fold Accuracy</th>\n",
       "      <th>Train Accuracy</th>\n",
       "      <th>Validation Accuracy</th>\n",
       "    </tr>\n",
       "  </thead>\n",
       "  <tbody>\n",
       "    <tr>\n",
       "      <th>0</th>\n",
       "      <td>Logistic Regression Classifier</td>\n",
       "      <td>0.822195</td>\n",
       "      <td>[0.911353032659409, 0.911353032659409, 0.86625...</td>\n",
       "      <td>[0.7329192546583851, 0.7391304347826086, 0.695...</td>\n",
       "    </tr>\n",
       "    <tr>\n",
       "      <th>1</th>\n",
       "      <td>Decision Tree Classifier</td>\n",
       "      <td>0.787317</td>\n",
       "      <td>0.790047</td>\n",
       "      <td>0.757764</td>\n",
       "    </tr>\n",
       "    <tr>\n",
       "      <th>2</th>\n",
       "      <td>Bagging Classifier</td>\n",
       "      <td>0.786067</td>\n",
       "      <td>0.788491</td>\n",
       "      <td>0.795031</td>\n",
       "    </tr>\n",
       "    <tr>\n",
       "      <th>3</th>\n",
       "      <td>Random Forest Classifier</td>\n",
       "      <td>0.787409</td>\n",
       "      <td>0.832037</td>\n",
       "      <td>0.813665</td>\n",
       "    </tr>\n",
       "    <tr>\n",
       "      <th>4</th>\n",
       "      <td>AdaBoost Classifier</td>\n",
       "      <td>0.813476</td>\n",
       "      <td>1</td>\n",
       "      <td>0.782609</td>\n",
       "    </tr>\n",
       "    <tr>\n",
       "      <th>5</th>\n",
       "      <td>Stacking</td>\n",
       "      <td>0.819634</td>\n",
       "      <td>0.839813</td>\n",
       "      <td>0.813665</td>\n",
       "    </tr>\n",
       "    <tr>\n",
       "      <th>6</th>\n",
       "      <td>XGBoost Classifier</td>\n",
       "      <td>0.832226</td>\n",
       "      <td>1</td>\n",
       "      <td>0.776398</td>\n",
       "    </tr>\n",
       "    <tr>\n",
       "      <th>7</th>\n",
       "      <td>KNN Classifier</td>\n",
       "      <td>0.812043</td>\n",
       "      <td>0.911353</td>\n",
       "      <td>0.73913</td>\n",
       "    </tr>\n",
       "    <tr>\n",
       "      <th>8</th>\n",
       "      <td>Naive Bayes Classifier</td>\n",
       "      <td>0.769939</td>\n",
       "      <td>0.77916</td>\n",
       "      <td>0.745342</td>\n",
       "    </tr>\n",
       "    <tr>\n",
       "      <th>9</th>\n",
       "      <td>Neural Network</td>\n",
       "      <td>-</td>\n",
       "      <td>0.934681</td>\n",
       "      <td>0.73913</td>\n",
       "    </tr>\n",
       "    <tr>\n",
       "      <th>10</th>\n",
       "      <td>Gradient Boost Classifier</td>\n",
       "      <td>-</td>\n",
       "      <td>0.891135</td>\n",
       "      <td>0.776398</td>\n",
       "    </tr>\n",
       "  </tbody>\n",
       "</table>\n",
       "</div>"
      ],
      "text/plain": [
       "                            Models K-Fold Accuracy  \\\n",
       "0   Logistic Regression Classifier        0.822195   \n",
       "1         Decision Tree Classifier        0.787317   \n",
       "2               Bagging Classifier        0.786067   \n",
       "3         Random Forest Classifier        0.787409   \n",
       "4              AdaBoost Classifier        0.813476   \n",
       "5                         Stacking        0.819634   \n",
       "6               XGBoost Classifier        0.832226   \n",
       "7                   KNN Classifier        0.812043   \n",
       "8           Naive Bayes Classifier        0.769939   \n",
       "9                   Neural Network               -   \n",
       "10       Gradient Boost Classifier               -   \n",
       "\n",
       "                                       Train Accuracy  \\\n",
       "0   [0.911353032659409, 0.911353032659409, 0.86625...   \n",
       "1                                            0.790047   \n",
       "2                                            0.788491   \n",
       "3                                            0.832037   \n",
       "4                                                   1   \n",
       "5                                            0.839813   \n",
       "6                                                   1   \n",
       "7                                            0.911353   \n",
       "8                                             0.77916   \n",
       "9                                            0.934681   \n",
       "10                                           0.891135   \n",
       "\n",
       "                                  Validation Accuracy  \n",
       "0   [0.7329192546583851, 0.7391304347826086, 0.695...  \n",
       "1                                            0.757764  \n",
       "2                                            0.795031  \n",
       "3                                            0.813665  \n",
       "4                                            0.782609  \n",
       "5                                            0.813665  \n",
       "6                                            0.776398  \n",
       "7                                             0.73913  \n",
       "8                                            0.745342  \n",
       "9                                             0.73913  \n",
       "10                                           0.776398  "
      ]
     },
     "execution_count": 111,
     "metadata": {},
     "output_type": "execute_result"
    }
   ],
   "source": [
    "Results = pd.DataFrame({'Models':['Logistic Regression Classifier','Decision Tree Classifier','Bagging Classifier','Random Forest Classifier','AdaBoost Classifier','Stacking','XGBoost Classifier','KNN Classifier','Naive Bayes Classifier','Neural Network','Gradient Boost Classifier'],'K-Fold Accuracy':[result3.mean(),result4.mean(),result7.mean(),result10.mean(),result13.mean(),result16.mean(),result19.mean(),result22.mean(),result27.mean(),'-','-'],'Train Accuracy':[result1,result5,result8,result11,result14,result17,result20,result23,result25,result28,result30],'Validation Accuracy':[result2,result6,result9,result12,result15,result18,result21,result24,result26,result29,result31]})\n",
    "Results"
   ]
  },
  {
   "cell_type": "markdown",
   "metadata": {},
   "source": [
    "## The best model seems to be Stacking"
   ]
  },
  {
   "cell_type": "code",
   "execution_count": null,
   "metadata": {},
   "outputs": [],
   "source": []
  }
 ],
 "metadata": {
  "kernelspec": {
   "display_name": "Python 3",
   "language": "python",
   "name": "python3"
  },
  "language_info": {
   "codemirror_mode": {
    "name": "ipython",
    "version": 3
   },
   "file_extension": ".py",
   "mimetype": "text/x-python",
   "name": "python",
   "nbconvert_exporter": "python",
   "pygments_lexer": "ipython3",
   "version": "3.8.8"
  }
 },
 "nbformat": 4,
 "nbformat_minor": 4
}
